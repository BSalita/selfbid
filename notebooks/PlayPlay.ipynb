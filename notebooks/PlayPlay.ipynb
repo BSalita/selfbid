{
 "cells": [
  {
   "cell_type": "code",
   "execution_count": 1,
   "metadata": {},
   "outputs": [],
   "source": [
    "import numpy as np\n",
    "\n",
    "from data_access import card_index_lookup\n",
    "from lead_binary import DealMeta, seats, seat_index, suit_index_lookup"
   ]
  },
  {
   "cell_type": "code",
   "execution_count": 2,
   "metadata": {},
   "outputs": [],
   "source": [
    "card_index_lookup_x = dict(\n",
    "    zip(\n",
    "        ['A', 'K', 'Q', 'J', 'T', '9', '8', '7', '6', '5', '4', '3', '2'],\n",
    "        [0, 1, 2, 3, 4, 5, 6, 7, 7, 7, 7, 7, 7],\n",
    "    )\n",
    ")"
   ]
  },
  {
   "cell_type": "code",
   "execution_count": 3,
   "metadata": {},
   "outputs": [],
   "source": [
    "def binary_hand(suits):\n",
    "    x = np.zeros(32, np.float16)\n",
    "    assert(len(suits) == 4)\n",
    "    for suit_index in [0, 1, 2, 3]:\n",
    "        for card in suits[suit_index]:\n",
    "            card_index = card_index_lookup_x[card]\n",
    "            x[suit_index * 8 + card_index] += 1\n",
    "    assert(np.sum(x) == 13)\n",
    "    return x"
   ]
  },
  {
   "cell_type": "code",
   "execution_count": 4,
   "metadata": {},
   "outputs": [],
   "source": [
    "deal_str = 'W:KQJ952.98.AQ9.95 6.AQ6.T8765.AKJ3 T874.J73.K3.8742 A3.KT542.J42.QT6'\n",
    "\n",
    "outcome = 'N - 4S.-2.W'\n",
    "\n",
    "play_str = 'CAC2C6C5CKC4CTC9D8D3DJDASJS6S4SAH2H8HQH3HAH7H4H9D6DKD2D9S8S3S2D5C8CQS5C3DQD7C7D4S9H6S7H5SKDTSTHTSQCJHJHK'"
   ]
  },
  {
   "cell_type": "code",
   "execution_count": 5,
   "metadata": {},
   "outputs": [],
   "source": [
    "deal_meta = DealMeta.from_str(outcome)"
   ]
  },
  {
   "cell_type": "code",
   "execution_count": 6,
   "metadata": {},
   "outputs": [
    {
     "data": {
      "text/plain": [
       "3"
      ]
     },
     "execution_count": 6,
     "metadata": {},
     "output_type": "execute_result"
    }
   ],
   "source": [
    "declarer = 'S'\n",
    "declarer_i = seat_index[declarer]\n",
    "declarer_i"
   ]
  },
  {
   "cell_type": "code",
   "execution_count": 7,
   "metadata": {},
   "outputs": [
    {
     "data": {
      "text/plain": [
       "1"
      ]
     },
     "execution_count": 7,
     "metadata": {},
     "output_type": "execute_result"
    }
   ],
   "source": [
    "(declarer_i + 2) % 4"
   ]
  },
  {
   "cell_type": "code",
   "execution_count": 8,
   "metadata": {},
   "outputs": [],
   "source": [
    "hands = list(map(lambda hand_str: list(map(list, hand_str.split('.'))), deal_str[2:].split()))"
   ]
  },
  {
   "cell_type": "code",
   "execution_count": 9,
   "metadata": {},
   "outputs": [
    {
     "data": {
      "text/plain": [
       "[[['K', 'Q', 'J', '9', '5', '2'], ['9', '8'], ['A', 'Q', '9'], ['9', '5']],\n",
       " [['6'], ['A', 'Q', '6'], ['T', '8', '7', '6', '5'], ['A', 'K', 'J', '3']],\n",
       " [['T', '8', '7', '4'], ['J', '7', '3'], ['K', '3'], ['8', '7', '4', '2']],\n",
       " [['A', '3'], ['K', 'T', '5', '4', '2'], ['J', '4', '2'], ['Q', 'T', '6']]]"
      ]
     },
     "execution_count": 9,
     "metadata": {},
     "output_type": "execute_result"
    }
   ],
   "source": [
    "hands"
   ]
  },
  {
   "cell_type": "code",
   "execution_count": 10,
   "metadata": {},
   "outputs": [
    {
     "data": {
      "text/plain": [
       "array([[ 0.,  0.,  0.,  0.,  0.,  0.,  0.,  1.],\n",
       "       [ 1.,  0.,  1.,  0.,  0.,  0.,  0.,  1.],\n",
       "       [ 0.,  0.,  0.,  0.,  1.,  0.,  1.,  3.],\n",
       "       [ 1.,  1.,  0.,  1.,  0.,  0.,  0.,  1.]], dtype=float16)"
      ]
     },
     "execution_count": 10,
     "metadata": {},
     "output_type": "execute_result"
    }
   ],
   "source": [
    "binary_hand(hands[1]).reshape((4, 8))"
   ]
  },
  {
   "cell_type": "code",
   "execution_count": 10,
   "metadata": {},
   "outputs": [],
   "source": [
    "def get_cards(play_str):\n",
    "    cards = []\n",
    "    i = 0\n",
    "    while i < len(play_str):\n",
    "        cards.append(play_str[i:i+2])\n",
    "        i += 2\n",
    "    return cards"
   ]
  },
  {
   "cell_type": "code",
   "execution_count": 11,
   "metadata": {},
   "outputs": [],
   "source": [
    "def get_tricks(cards):\n",
    "    return list(map(list, np.array(cards).reshape((13, 4))))"
   ]
  },
  {
   "cell_type": "code",
   "execution_count": 12,
   "metadata": {},
   "outputs": [],
   "source": [
    "def wins_trick_index(trick, trump, lead_index):\n",
    "    led_suit = trick[0][0]\n",
    "    card_values = []\n",
    "    for card in trick:\n",
    "        suit, value = card[0], 14 - card_index_lookup[card[1]]\n",
    "        if suit == trump:\n",
    "            card_values.append(value + 13)\n",
    "        elif suit == led_suit:\n",
    "            card_values.append(value)\n",
    "        else:\n",
    "            card_values.append(0)\n",
    "    return (np.argmax(card_values) + lead_index) % 4"
   ]
  },
  {
   "cell_type": "code",
   "execution_count": 13,
   "metadata": {},
   "outputs": [
    {
     "data": {
      "text/plain": [
       "array([['CA', 'C2', 'C6', 'C5'],\n",
       "       ['CK', 'C4', 'CT', 'C9'],\n",
       "       ['D8', 'D3', 'DJ', 'DA'],\n",
       "       ['SJ', 'S6', 'S4', 'SA'],\n",
       "       ['H2', 'H8', 'HQ', 'H3'],\n",
       "       ['HA', 'H7', 'H4', 'H9'],\n",
       "       ['D6', 'DK', 'D2', 'D9'],\n",
       "       ['S8', 'S3', 'S2', 'D5'],\n",
       "       ['C8', 'CQ', 'S5', 'C3'],\n",
       "       ['DQ', 'D7', 'C7', 'D4'],\n",
       "       ['S9', 'H6', 'S7', 'H5'],\n",
       "       ['SK', 'DT', 'ST', 'HT'],\n",
       "       ['SQ', 'CJ', 'HJ', 'HK']],\n",
       "      dtype='<U2')"
      ]
     },
     "execution_count": 13,
     "metadata": {},
     "output_type": "execute_result"
    }
   ],
   "source": [
    "np.array(get_cards(play_str)).reshape((13, 4))"
   ]
  },
  {
   "cell_type": "code",
   "execution_count": 14,
   "metadata": {},
   "outputs": [
    {
     "name": "stdout",
     "output_type": "stream",
     "text": [
      "['CA' 'C2' 'C6' 'C5'] 0\n",
      "['CK' 'C4' 'CT' 'C9'] 0\n",
      "['D8' 'D3' 'DJ' 'DA'] 3\n",
      "['SJ' 'S6' 'S4' 'SA'] 2\n",
      "['H2' 'H8' 'HQ' 'H3'] 0\n",
      "['HA' 'H7' 'H4' 'H9'] 0\n",
      "['D6' 'DK' 'D2' 'D9'] 1\n",
      "['S8' 'S3' 'S2' 'D5'] 1\n",
      "['C8' 'CQ' 'S5' 'C3'] 3\n",
      "['DQ' 'D7' 'C7' 'D4'] 3\n",
      "['S9' 'H6' 'S7' 'H5'] 3\n",
      "['SK' 'DT' 'ST' 'HT'] 3\n",
      "['SQ' 'CJ' 'HJ' 'HK'] 3\n"
     ]
    }
   ],
   "source": [
    "lead_index = 0\n",
    "for trick in np.array(get_cards(play_str)).reshape((13, 4)):\n",
    "    win_index = wins_trick_index(trick, 'S', lead_index)\n",
    "    print(trick, win_index)\n",
    "    lead_index = win_index"
   ]
  },
  {
   "cell_type": "code",
   "execution_count": 15,
   "metadata": {},
   "outputs": [],
   "source": [
    "def get_play_labels(play_str, trump, player_turn_i):\n",
    "    tricks = get_tricks(get_cards(play_str))\n",
    "    \n",
    "    trick_ix, leads, last_tricks, cards_in, labels = [], [], [], [], []\n",
    "    \n",
    "    lead_index = 0\n",
    "    prev_lead_index = 0\n",
    "    last_trick = ['>>', '>>', '>>', '>>']\n",
    "    for trick_i, trick in enumerate(tricks):\n",
    "        last_tricks.append(last_trick)\n",
    "        leads.append(prev_lead_index)\n",
    "        \n",
    "        current_trick = ['>>', '>>', '>>']\n",
    "        \n",
    "        for i, card in enumerate(trick):\n",
    "            player_i = (lead_index + i) % 4\n",
    "            \n",
    "            if player_i == player_turn_i: # the player for whom we generate data is on play\n",
    "                labels.append(card)\n",
    "                trick_ix.append(trick_i)\n",
    "                cards_in.append(current_trick)\n",
    "                break\n",
    "            else:\n",
    "                current_trick.append(card)\n",
    "                del current_trick[0]\n",
    "\n",
    "        if lead_index == 0:\n",
    "            last_trick = trick\n",
    "        elif lead_index == 1:\n",
    "            last_trick = trick[3:] + trick[:3]\n",
    "        elif lead_index == 2:\n",
    "            last_trick = trick[2:] + trick[:2]\n",
    "        else:\n",
    "            last_trick = trick[1:] + trick[:1]\n",
    "        prev_lead_index, lead_index = lead_index, wins_trick_index(trick, trump, lead_index)\n",
    "        \n",
    "    return trick_ix, leads, last_tricks, cards_in, labels"
   ]
  },
  {
   "cell_type": "raw",
   "metadata": {},
   "source": [
    "W:KQJ952.98.AQ9.95 6.AQ6.T8765.AKJ3 T874.J73.K3.8742 A3.KT542.J42.QT6"
   ]
  },
  {
   "cell_type": "code",
   "execution_count": 16,
   "metadata": {},
   "outputs": [
    {
     "data": {
      "text/plain": [
       "[['CA', 'C2', 'C6', 'C5'],\n",
       " ['CK', 'C4', 'CT', 'C9'],\n",
       " ['D8', 'D3', 'DJ', 'DA'],\n",
       " ['SJ', 'S6', 'S4', 'SA'],\n",
       " ['H2', 'H8', 'HQ', 'H3'],\n",
       " ['HA', 'H7', 'H4', 'H9'],\n",
       " ['D6', 'DK', 'D2', 'D9'],\n",
       " ['S8', 'S3', 'S2', 'D5'],\n",
       " ['C8', 'CQ', 'S5', 'C3'],\n",
       " ['DQ', 'D7', 'C7', 'D4'],\n",
       " ['S9', 'H6', 'S7', 'H5'],\n",
       " ['SK', 'DT', 'ST', 'HT'],\n",
       " ['SQ', 'CJ', 'HJ', 'HK']]"
      ]
     },
     "execution_count": 16,
     "metadata": {},
     "output_type": "execute_result"
    }
   ],
   "source": [
    "get_tricks(get_cards(play_str))"
   ]
  },
  {
   "cell_type": "code",
   "execution_count": 18,
   "metadata": {},
   "outputs": [
    {
     "data": {
      "text/plain": [
       "[(0, 0, ['>>', '>>', '>>', '>>'], ['>>', '>>', 'CA'], 'C2'),\n",
       " (1, 0, ['CA', 'C2', 'C6', 'C5'], ['>>', '>>', 'CK'], 'C4'),\n",
       " (2, 0, ['CK', 'C4', 'CT', 'C9'], ['>>', '>>', 'D8'], 'D3'),\n",
       " (3, 0, ['D8', 'D3', 'DJ', 'DA'], ['>>', 'SJ', 'S6'], 'S4'),\n",
       " (4, 3, ['S6', 'S4', 'SA', 'SJ'], ['H2', 'H8', 'HQ'], 'H3'),\n",
       " (5, 2, ['HQ', 'H3', 'H2', 'H8'], ['>>', '>>', 'HA'], 'H7'),\n",
       " (6, 0, ['HA', 'H7', 'H4', 'H9'], ['>>', '>>', 'D6'], 'DK'),\n",
       " (7, 0, ['D6', 'DK', 'D2', 'D9'], ['>>', '>>', '>>'], 'S8'),\n",
       " (8, 1, ['D5', 'S8', 'S3', 'S2'], ['>>', '>>', '>>'], 'C8'),\n",
       " (9, 1, ['C3', 'C8', 'CQ', 'S5'], ['>>', 'DQ', 'D7'], 'C7'),\n",
       " (10, 3, ['D7', 'C7', 'D4', 'DQ'], ['>>', 'S9', 'H6'], 'S7'),\n",
       " (11, 3, ['H6', 'S7', 'H5', 'S9'], ['>>', 'SK', 'DT'], 'ST'),\n",
       " (12, 3, ['DT', 'ST', 'HT', 'SK'], ['>>', 'SQ', 'CJ'], 'HJ')]"
      ]
     },
     "execution_count": 18,
     "metadata": {},
     "output_type": "execute_result"
    }
   ],
   "source": [
    "trick_ix, leads, last_tricks, cards_in, labels = get_play_labels(play_str, 'S', 1)\n",
    "list(zip(trick_ix, leads, last_tricks, cards_in, labels))"
   ]
  },
  {
   "cell_type": "code",
   "execution_count": null,
   "metadata": {},
   "outputs": [],
   "source": []
  },
  {
   "cell_type": "code",
   "execution_count": 19,
   "metadata": {},
   "outputs": [],
   "source": [
    "def get_card_index(card):\n",
    "    suit, value = card[0], card[1]\n",
    "    return suit_index_lookup[suit] * 8 + card_index_lookup_x[value]"
   ]
  },
  {
   "cell_type": "code",
   "execution_count": 20,
   "metadata": {},
   "outputs": [],
   "source": [
    "def encode_card(card):\n",
    "    x = np.zeros(32, np.float16)\n",
    "    if card == '>>':\n",
    "        return x\n",
    "    x[get_card_index(card)] = 1\n",
    "    return x"
   ]
  },
  {
   "cell_type": "code",
   "execution_count": 23,
   "metadata": {},
   "outputs": [],
   "source": [
    "def binary_data(deal_str, outcome_str, play_str):\n",
    "    x = np.zeros((1, 11, 298), np.float16)\n",
    "    y = np.zeros((1, 11, 32), np.float16)\n",
    "    \n",
    "    hands = list(map(lambda hand_str: list(map(list, hand_str.split('.'))), deal_str[2:].split()))\n",
    "    d_meta = DealMeta.from_str(outcome_str)\n",
    "    declarer_i = seat_index[d_meta.declarer]\n",
    "    me_i = (declarer_i + 2) % 4\n",
    "\n",
    "    declarer_bin = binary_hand(hands[declarer_i])\n",
    "    me_bin = binary_hand(hands[me_i])\n",
    "    \n",
    "    _, on_leads, last_tricks, cards_ins, card_outs = get_play_labels(play_str, d_meta.strain, 1)\n",
    "    \n",
    "    decl_played_cards = set(['>>'])\n",
    "    \n",
    "    for i, (on_lead, last_trick, cards_in, card_out) in enumerate(zip(on_leads, last_tricks, cards_ins, card_outs)):\n",
    "        if i > 10:\n",
    "            break\n",
    "        label_card_ix = get_card_index(card_out)\n",
    "        y[0, i, label_card_ix] = 1\n",
    "        x[0, i, 292] = d_meta.level\n",
    "        if d_meta.strain == 'N':\n",
    "            x[0, i, 293] = 1\n",
    "        else:\n",
    "            x[0, i, 294 + suit_index_lookup[d_meta.strain]] = 1\n",
    "        \n",
    "        x[0, i, 288 + on_lead] = 1\n",
    "        \n",
    "        last_trick_decl_card = last_trick[3]\n",
    "        if last_trick_decl_card not in decl_played_cards:\n",
    "            declarer_bin[get_card_index(last_trick_decl_card)] -= 1\n",
    "            decl_played_cards.add(last_trick_decl_card)\n",
    "        \n",
    "        if cards_in[1] not in decl_played_cards:\n",
    "            declarer_bin[get_card_index(cards_in[1])] -= 1\n",
    "            decl_played_cards.add(cards_in[1])\n",
    "        \n",
    "        x[0, i, 32:64] = declarer_bin\n",
    "        x[0, i, 0:32] = me_bin\n",
    "        \n",
    "        x[0, i, 64:96] = encode_card(last_trick[0])\n",
    "        x[0, i, 96:128] = encode_card(last_trick[1])\n",
    "        x[0, i, 128:160] = encode_card(last_trick[2])\n",
    "        x[0, i, 160:192] = encode_card(last_trick[3])\n",
    "        \n",
    "        x[0, i, 192:224] = encode_card(cards_in[0])\n",
    "        x[0, i, 224:256] = encode_card(cards_in[1])\n",
    "        x[0, i, 256:288] = encode_card(cards_in[2])\n",
    "        \n",
    "        me_bin[label_card_ix] -= 1\n",
    "        \n",
    "    return x, y"
   ]
  },
  {
   "cell_type": "raw",
   "metadata": {},
   "source": [
    "## input\n",
    "  0:32  player hand\n",
    " 32:64  seen hand (dummy, or declarer if we create data for dummy)\n",
    " 64:96  last trick card 0\n",
    " 96:128 last trick card 1\n",
    "128:160 last trick card 2\n",
    "160:192 last trick card 3\n",
    "192:224 this trick lho card\n",
    "224:256 this trick pard card\n",
    "256:288 this trick rho card\n",
    "288:292 last trick lead player index one-hot\n",
    "    292 level\n",
    "293:298 strain one hot N, S, H, D, C\n",
    "\n",
    "## output\n",
    "0:32 card to play in current trick"
   ]
  },
  {
   "cell_type": "code",
   "execution_count": 24,
   "metadata": {},
   "outputs": [],
   "source": [
    "x, y = binary_data(deal_str, outcome, play_str)"
   ]
  },
  {
   "cell_type": "code",
   "execution_count": 25,
   "metadata": {},
   "outputs": [
    {
     "data": {
      "text/plain": [
       "((1, 11, 298), (1, 11, 32))"
      ]
     },
     "execution_count": 25,
     "metadata": {},
     "output_type": "execute_result"
    }
   ],
   "source": [
    "x.shape, y.shape"
   ]
  },
  {
   "cell_type": "raw",
   "metadata": {},
   "source": [
    "W:KQJ952.98.AQ9.95 6.AQ6.T8765.AKJ3 T874.J73.K3.8742 A3.KT542.J42.QT6"
   ]
  },
  {
   "cell_type": "code",
   "execution_count": 51,
   "metadata": {},
   "outputs": [
    {
     "data": {
      "text/plain": [
       "(array([[[ 0.,  0.,  0.,  0.,  0.,  0.,  0.,  0.],\n",
       "         [ 0.,  0.,  0.,  0.,  0.,  0.,  0.,  0.],\n",
       "         [ 0.,  0.,  0.,  0.,  0.,  0.,  0.,  0.],\n",
       "         [ 0.,  0.,  0.,  0.,  0.,  0.,  0.,  0.]],\n",
       " \n",
       "        [[ 0.,  0.,  0.,  0.,  0.,  0.,  0.,  0.],\n",
       "         [ 0.,  0.,  0.,  0.,  0.,  0.,  0.,  0.],\n",
       "         [ 0.,  0.,  1.,  0.,  0.,  0.,  0.,  0.],\n",
       "         [ 0.,  0.,  0.,  0.,  0.,  0.,  0.,  0.]],\n",
       " \n",
       "        [[ 0.,  0.,  0.,  0.,  0.,  0.,  0.,  0.],\n",
       "         [ 0.,  0.,  0.,  0.,  0.,  0.,  0.,  0.],\n",
       "         [ 0.,  0.,  0.,  0.,  0.,  0.,  0.,  1.],\n",
       "         [ 0.,  0.,  0.,  0.,  0.,  0.,  0.,  0.]]], dtype=float16),\n",
       " array([[ 0.,  0.,  0.,  0.,  1.,  0.,  0.,  1.],\n",
       "        [ 0.,  0.,  0.,  1.,  0.,  0.,  0.,  0.],\n",
       "        [ 0.,  0.,  0.,  0.,  0.,  0.,  0.,  0.],\n",
       "        [ 0.,  0.,  0.,  0.,  0.,  0.,  0.,  1.]], dtype=float16),\n",
       " array([[ 0.,  1.,  1.,  0.,  0.,  1.,  0.,  0.],\n",
       "        [ 0.,  0.,  0.,  0.,  0.,  0.,  0.,  0.],\n",
       "        [ 0.,  0.,  0.,  0.,  0.,  0.,  0.,  0.],\n",
       "        [ 0.,  0.,  0.,  0.,  0.,  0.,  0.,  0.]], dtype=float16))"
      ]
     },
     "execution_count": 51,
     "metadata": {},
     "output_type": "execute_result"
    }
   ],
   "source": [
    "i = 9\n",
    "#y[0,i,0:32].reshape((4, 8))\n",
    "x[0,i,192:288].reshape((3, 4, 8)), x[0, i, 0:32].reshape((4, 8)), x[0, i, 32:64].reshape((4, 8))"
   ]
  },
  {
   "cell_type": "code",
   "execution_count": 26,
   "metadata": {},
   "outputs": [
    {
     "data": {
      "text/plain": [
       "[(0, 0, ['>>', '>>', '>>', '>>'], ['>>', '>>', 'CA'], 'C2'),\n",
       " (1, 0, ['CA', 'C2', 'C6', 'C5'], ['>>', '>>', 'CK'], 'C4'),\n",
       " (2, 0, ['CK', 'C4', 'CT', 'C9'], ['>>', '>>', 'D8'], 'D3'),\n",
       " (3, 0, ['D8', 'D3', 'DJ', 'DA'], ['>>', 'SJ', 'S6'], 'S4'),\n",
       " (4, 3, ['S6', 'S4', 'SA', 'SJ'], ['H2', 'H8', 'HQ'], 'H3'),\n",
       " (5, 2, ['HQ', 'H3', 'H2', 'H8'], ['>>', '>>', 'HA'], 'H7'),\n",
       " (6, 0, ['HA', 'H7', 'H4', 'H9'], ['>>', '>>', 'D6'], 'DK'),\n",
       " (7, 0, ['D6', 'DK', 'D2', 'D9'], ['>>', '>>', '>>'], 'S8'),\n",
       " (8, 1, ['D5', 'S8', 'S3', 'S2'], ['>>', '>>', '>>'], 'C8'),\n",
       " (9, 1, ['C3', 'C8', 'CQ', 'S5'], ['>>', 'DQ', 'D7'], 'C7'),\n",
       " (10, 3, ['D7', 'C7', 'D4', 'DQ'], ['>>', 'S9', 'H6'], 'S7'),\n",
       " (11, 3, ['H6', 'S7', 'H5', 'S9'], ['>>', 'SK', 'DT'], 'ST'),\n",
       " (12, 3, ['DT', 'ST', 'HT', 'SK'], ['>>', 'SQ', 'CJ'], 'HJ')]"
      ]
     },
     "execution_count": 26,
     "metadata": {},
     "output_type": "execute_result"
    }
   ],
   "source": [
    "trick_ix, leads, on_play, cards_in, labels = get_play_labels(play_str, 'S', 1)\n",
    "list(zip(trick_ix, leads, on_play, cards_in, labels))"
   ]
  },
  {
   "cell_type": "code",
   "execution_count": 228,
   "metadata": {},
   "outputs": [],
   "source": [
    "lst1 = [0, 0, 0, 0]"
   ]
  },
  {
   "cell_type": "code",
   "execution_count": 233,
   "metadata": {},
   "outputs": [],
   "source": [
    "lst1.append(1)"
   ]
  },
  {
   "cell_type": "code",
   "execution_count": 236,
   "metadata": {},
   "outputs": [
    {
     "data": {
      "text/plain": [
       "[0, 0, 0, 0, 1]"
      ]
     },
     "execution_count": 236,
     "metadata": {},
     "output_type": "execute_result"
    }
   ],
   "source": [
    "lst1"
   ]
  },
  {
   "cell_type": "code",
   "execution_count": 237,
   "metadata": {},
   "outputs": [],
   "source": [
    "del lst1[0]"
   ]
  },
  {
   "cell_type": "code",
   "execution_count": 238,
   "metadata": {},
   "outputs": [
    {
     "data": {
      "text/plain": [
       "[0, 0, 0, 1]"
      ]
     },
     "execution_count": 238,
     "metadata": {},
     "output_type": "execute_result"
    }
   ],
   "source": [
    "lst1"
   ]
  },
  {
   "cell_type": "code",
   "execution_count": null,
   "metadata": {},
   "outputs": [],
   "source": []
  }
 ],
 "metadata": {
  "kernelspec": {
   "display_name": "Python 3",
   "language": "python",
   "name": "python3"
  },
  "language_info": {
   "codemirror_mode": {
    "name": "ipython",
    "version": 3
   },
   "file_extension": ".py",
   "mimetype": "text/x-python",
   "name": "python",
   "nbconvert_exporter": "python",
   "pygments_lexer": "ipython3",
   "version": "3.5.4"
  }
 },
 "nbformat": 4,
 "nbformat_minor": 2
}
