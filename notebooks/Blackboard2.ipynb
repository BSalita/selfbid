{
 "cells": [
  {
   "cell_type": "code",
   "execution_count": 1,
   "metadata": {},
   "outputs": [],
   "source": [
    "import numpy as np\n",
    "import gzip\n",
    "import tensorflow as tf\n",
    "\n",
    "import data_access as data\n",
    "import bidding\n",
    "\n",
    "from tqdm import tqdm"
   ]
  },
  {
   "cell_type": "code",
   "execution_count": 98,
   "metadata": {},
   "outputs": [],
   "source": [
    "reader = data.load_deals(gzip.open('../deals_0001.gz'))\n",
    "#X, contracts = next(reader)"
   ]
  },
  {
   "cell_type": "code",
   "execution_count": 3,
   "metadata": {},
   "outputs": [],
   "source": [
    "n_bids = len(bidding.BID2ID)\n",
    "\n",
    "num_steps = 32\n",
    "lstm_size = 512\n",
    "\n",
    "lstm = tf.nn.rnn_cell.BasicLSTMCell(lstm_size)\n",
    "\n",
    "x_in = tf.placeholder(tf.float32, [1, 2 + 3*n_bids + 52], 'x_in')\n",
    "\n",
    "state_c = tf.placeholder(tf.float32, [1, lstm.state_size.c], 'state_c')\n",
    "state_h = tf.placeholder(tf.float32, [1, lstm.state_size.h], 'state_h')\n",
    "\n",
    "init_c = np.zeros((1, lstm.state_size.c))\n",
    "init_h = np.zeros((1, lstm.state_size.h))\n",
    "\n",
    "softmax_w = tf.get_variable('softmax_w', shape=[lstm.output_size, n_bids], dtype=tf.float32, initializer=tf.contrib.layers.xavier_initializer(seed=1337))\n",
    "#softmax_b = tf.Variable(np.zeros((1, n_bids)), dtype=tf.float32)"
   ]
  },
  {
   "cell_type": "code",
   "execution_count": 4,
   "metadata": {},
   "outputs": [],
   "source": [
    "output, (next_c, next_h) = lstm(x_in, (state_c, state_h))\n",
    "out_bid = tf.nn.softmax(tf.matmul(output, softmax_w))"
   ]
  },
  {
   "cell_type": "code",
   "execution_count": 5,
   "metadata": {},
   "outputs": [],
   "source": [
    "seq_in = tf.placeholder(tf.float32, [1, None, 2 + 3*n_bids + 52], 'seq_in')\n",
    "\n",
    "target = tf.placeholder(tf.float32, [1, None, 40], 'target')"
   ]
  },
  {
   "cell_type": "code",
   "execution_count": 6,
   "metadata": {},
   "outputs": [],
   "source": [
    "out_dyn, _ = tf.nn.dynamic_rnn(lstm, seq_in, initial_state=lstm.zero_state(1, tf.float32))"
   ]
  },
  {
   "cell_type": "code",
   "execution_count": 7,
   "metadata": {},
   "outputs": [],
   "source": [
    "out_bid_dyn_logit = tf.matmul(tf.reshape(out_dyn, [-1, lstm_size]), softmax_w)\n",
    "#out_bid_dyn = tf.nn.softmax(out_bid_dyn_logit)"
   ]
  },
  {
   "cell_type": "code",
   "execution_count": 8,
   "metadata": {},
   "outputs": [],
   "source": [
    "cost = tf.losses.softmax_cross_entropy(tf.reshape(target, [-1, 40]), out_bid_dyn_logit)"
   ]
  },
  {
   "cell_type": "code",
   "execution_count": 9,
   "metadata": {},
   "outputs": [],
   "source": [
    "train_step = tf.train.MomentumOptimizer(learning_rate=0.001, momentum=0.9).minimize(cost)\n",
    "#train_step = tf.train.GradientDescentOptimizer(learning_rate=0.001).minimize(cost)"
   ]
  },
  {
   "cell_type": "code",
   "execution_count": 10,
   "metadata": {},
   "outputs": [],
   "source": [
    "sess = tf.InteractiveSession()\n",
    "\n",
    "sess.run(tf.global_variables_initializer())"
   ]
  },
  {
   "cell_type": "code",
   "execution_count": 11,
   "metadata": {},
   "outputs": [],
   "source": [
    "def model(sess):\n",
    "    def fun(x_input, s_c, s_h):\n",
    "        out_bid_np, next_c_np, next_h_np = sess.run([out_bid, next_c, next_h], feed_dict={x_in: x_input, state_c: s_c, state_h: s_h})\n",
    "        return out_bid_np, next_c_np, next_h_np\n",
    "    return fun"
   ]
  },
  {
   "cell_type": "code",
   "execution_count": 12,
   "metadata": {},
   "outputs": [],
   "source": [
    "def create_input_output_sequence(auction, X):\n",
    "    target_seq = []\n",
    "    input_seq = []\n",
    "    for i, bid in enumerate(auction):\n",
    "        if bid == 'PAD_START':\n",
    "            continue\n",
    "        start_ix = max(0, i - 3)\n",
    "        end_ix = i\n",
    "        prev_bids = auction[start_ix:end_ix]\n",
    "        prev_bids = ['PAD_START'] * max(0, 3 - len(prev_bids)) + prev_bids\n",
    "        assert len(prev_bids) == 3\n",
    "        target_seq.append(bidding.encode_bid(bid))\n",
    "        hand_ix = i % 4\n",
    "        input_seq.append(bidding.get_input(prev_bids[0], prev_bids[1], prev_bids[2], X[0,:,:,hand_ix].reshape((1, 52)), False, False))\n",
    "    \n",
    "    sequence_len = len([bid for bid in auction if bid != 'PAD_START'])\n",
    "    \n",
    "    return np.concatenate(input_seq).reshape((1, sequence_len, 174)), np.concatenate(target_seq).reshape((1, sequence_len, 40))"
   ]
  },
  {
   "cell_type": "code",
   "execution_count": 99,
   "metadata": {},
   "outputs": [
    {
     "name": "stderr",
     "output_type": "stream",
     "text": [
      "\n",
      "  0%|          | 0/1000 [00:00<?, ?it/s]\u001b[A\n",
      "  0%|          | 1/1000 [00:00<06:36,  2.52it/s]\u001b[A"
     ]
    },
    {
     "name": "stdout",
     "output_type": "stream",
     "text": [
      "SK76 H965 DQ63 C9854  SAT83 HAJ DJ9754 C73  SQ42 H84 DT2 CAKQT62  SJ95 HKQT732 DAK8 CJ\n",
      "4SE -420.0 ['PASS', 'PASS', '1S', '4H', 'PASS', 'PASS', 'PASS']\n"
     ]
    },
    {
     "name": "stderr",
     "output_type": "stream",
     "text": [
      "\n",
      "  0%|          | 2/1000 [00:00<05:32,  3.00it/s]\u001b[A\n",
      "  0%|          | 3/1000 [00:00<05:26,  3.06it/s]\u001b[A\n",
      "  0%|          | 4/1000 [00:01<05:50,  2.84it/s]\u001b[A\n",
      "  0%|          | 5/1000 [00:01<05:27,  3.04it/s]\u001b[A\n",
      "  1%|          | 6/1000 [00:01<05:12,  3.18it/s]\u001b[A\n",
      "  1%|          | 7/1000 [00:02<04:57,  3.33it/s]\u001b[A\n",
      "  1%|          | 8/1000 [00:02<04:46,  3.46it/s]\u001b[A\n",
      "  1%|          | 9/1000 [00:02<04:39,  3.55it/s]\u001b[A\n",
      "  1%|          | 10/1000 [00:02<04:29,  3.67it/s]\u001b[A\n",
      "  1%|          | 11/1000 [00:03<04:37,  3.57it/s]\u001b[A\n",
      "  1%|          | 12/1000 [00:03<04:35,  3.58it/s]\u001b[A\n",
      "  1%|▏         | 13/1000 [00:03<04:41,  3.51it/s]\u001b[A\n",
      "  1%|▏         | 14/1000 [00:03<04:34,  3.59it/s]\u001b[A\n",
      "  2%|▏         | 15/1000 [00:04<04:40,  3.52it/s]\u001b[A\n",
      "  2%|▏         | 16/1000 [00:04<04:34,  3.59it/s]\u001b[A\n",
      "  2%|▏         | 17/1000 [00:04<04:33,  3.59it/s]\u001b[A\n",
      "  2%|▏         | 18/1000 [00:04<04:29,  3.65it/s]\u001b[A\n",
      "  2%|▏         | 19/1000 [00:05<04:22,  3.73it/s]\u001b[A\n",
      "  2%|▏         | 20/1000 [00:05<04:27,  3.66it/s]\u001b[A\n",
      "  2%|▏         | 21/1000 [00:05<04:24,  3.71it/s]\u001b[A\n",
      "  2%|▏         | 22/1000 [00:05<04:21,  3.74it/s]\u001b[A\n",
      "  2%|▏         | 23/1000 [00:06<04:19,  3.77it/s]\u001b[A\n",
      "Exception in thread Thread-401:\n",
      "Traceback (most recent call last):\n",
      "  File \"/home/ldali/anaconda2/envs/tsflow/lib/python3.5/threading.py\", line 914, in _bootstrap_inner\n",
      "    self.run()\n",
      "  File \"/home/ldali/anaconda2/envs/tsflow/lib/python3.5/site-packages/tqdm/_tqdm.py\", line 144, in run\n",
      "    for instance in self.tqdm_cls._instances:\n",
      "  File \"/home/ldali/anaconda2/envs/tsflow/lib/python3.5/_weakrefset.py\", line 60, in __iter__\n",
      "    for itemref in self.data:\n",
      "RuntimeError: Set changed size during iteration\n",
      "\n",
      "100%|██████████| 1000/1000 [04:28<00:00,  3.72it/s]\n",
      "  0%|          | 1/1000 [00:00<02:46,  6.00it/s]"
     ]
    },
    {
     "name": "stdout",
     "output_type": "stream",
     "text": [
      "0.953738\n",
      "S753 HA5 DKJ865 CA62  SAKT942 HQ973 D7 CQ7  SQ86 HKJ8 D9432 CJ85  SJ HT642 DAQT CKT943\n",
      "3HE 50.0 ['3D', 'PASS', 'PASS', 'PASS']\n"
     ]
    },
    {
     "name": "stderr",
     "output_type": "stream",
     "text": [
      " 20%|██        | 203/1000 [00:48<03:11,  4.16it/s]"
     ]
    },
    {
     "ename": "KeyboardInterrupt",
     "evalue": "",
     "output_type": "error",
     "traceback": [
      "\u001b[0;31m---------------------------------------------------------------------------\u001b[0m",
      "\u001b[0;31mKeyboardInterrupt\u001b[0m                         Traceback (most recent call last)",
      "\u001b[0;32m<ipython-input-99-c97572f2dc82>\u001b[0m in \u001b[0;36m<module>\u001b[0;34m()\u001b[0m\n\u001b[1;32m      4\u001b[0m         \u001b[0mX\u001b[0m\u001b[0;34m,\u001b[0m \u001b[0mcontracts\u001b[0m\u001b[0;34m,\u001b[0m \u001b[0mdeal_str\u001b[0m \u001b[0;34m=\u001b[0m \u001b[0mnext\u001b[0m\u001b[0;34m(\u001b[0m\u001b[0mreader\u001b[0m\u001b[0;34m)\u001b[0m\u001b[0;34m\u001b[0m\u001b[0m\n\u001b[1;32m      5\u001b[0m         \u001b[0msimulator\u001b[0m \u001b[0;34m=\u001b[0m \u001b[0mbidding\u001b[0m\u001b[0;34m.\u001b[0m\u001b[0mSimulator\u001b[0m\u001b[0;34m(\u001b[0m\u001b[0mX\u001b[0m\u001b[0;34m,\u001b[0m \u001b[0mcontracts\u001b[0m\u001b[0;34m,\u001b[0m \u001b[0mmodel\u001b[0m\u001b[0;34m(\u001b[0m\u001b[0msess\u001b[0m\u001b[0;34m)\u001b[0m\u001b[0;34m)\u001b[0m\u001b[0;34m\u001b[0m\u001b[0m\n\u001b[0;32m----> 6\u001b[0;31m         \u001b[0mscore\u001b[0m\u001b[0;34m,\u001b[0m \u001b[0mauction\u001b[0m \u001b[0;34m=\u001b[0m \u001b[0msimulator\u001b[0m\u001b[0;34m.\u001b[0m\u001b[0mbest_auction\u001b[0m\u001b[0;34m(\u001b[0m\u001b[0;34m[\u001b[0m\u001b[0;34m'PAD_START'\u001b[0m\u001b[0;34m]\u001b[0m \u001b[0;34m*\u001b[0m \u001b[0;34m(\u001b[0m\u001b[0mi\u001b[0m \u001b[0;34m%\u001b[0m \u001b[0;36m4\u001b[0m\u001b[0;34m)\u001b[0m\u001b[0;34m,\u001b[0m \u001b[0minit_c\u001b[0m\u001b[0;34m,\u001b[0m \u001b[0minit_h\u001b[0m\u001b[0;34m,\u001b[0m \u001b[0;36m10\u001b[0m\u001b[0;34m)\u001b[0m\u001b[0;34m\u001b[0m\u001b[0m\n\u001b[0m\u001b[1;32m      7\u001b[0m         \u001b[0;32mif\u001b[0m \u001b[0mi\u001b[0m \u001b[0;34m==\u001b[0m \u001b[0;36m0\u001b[0m\u001b[0;34m:\u001b[0m\u001b[0;34m\u001b[0m\u001b[0m\n\u001b[1;32m      8\u001b[0m             \u001b[0mprint\u001b[0m\u001b[0;34m(\u001b[0m\u001b[0mdeal_str\u001b[0m\u001b[0;34m)\u001b[0m\u001b[0;34m\u001b[0m\u001b[0m\n",
      "\u001b[0;32m~/wkspace/selfbid/notebooks/bidding.py\u001b[0m in \u001b[0;36mbest_auction\u001b[0;34m(self, auction, s_c, s_h, n)\u001b[0m\n\u001b[1;32m    245\u001b[0m         \u001b[0mbest_auction\u001b[0m \u001b[0;34m=\u001b[0m \u001b[0mauction\u001b[0m\u001b[0;34m[\u001b[0m\u001b[0;34m:\u001b[0m\u001b[0;34m]\u001b[0m\u001b[0;34m\u001b[0m\u001b[0m\n\u001b[1;32m    246\u001b[0m         \u001b[0;32mwhile\u001b[0m \u001b[0;32mnot\u001b[0m \u001b[0mauction_over\u001b[0m\u001b[0;34m(\u001b[0m\u001b[0mbest_auction\u001b[0m\u001b[0;34m)\u001b[0m\u001b[0;34m:\u001b[0m\u001b[0;34m\u001b[0m\u001b[0m\n\u001b[0;32m--> 247\u001b[0;31m             \u001b[0mscore\u001b[0m\u001b[0;34m,\u001b[0m \u001b[0mbid\u001b[0m \u001b[0;34m=\u001b[0m \u001b[0mself\u001b[0m\u001b[0;34m.\u001b[0m\u001b[0mbest_bid\u001b[0m\u001b[0;34m(\u001b[0m\u001b[0mbest_auction\u001b[0m\u001b[0;34m,\u001b[0m \u001b[0ms_c\u001b[0m\u001b[0;34m,\u001b[0m \u001b[0ms_h\u001b[0m\u001b[0;34m,\u001b[0m \u001b[0mn\u001b[0m\u001b[0;34m)\u001b[0m\u001b[0;34m\u001b[0m\u001b[0m\n\u001b[0m\u001b[1;32m    248\u001b[0m             \u001b[0mbest_auction\u001b[0m\u001b[0;34m.\u001b[0m\u001b[0mappend\u001b[0m\u001b[0;34m(\u001b[0m\u001b[0mbid\u001b[0m\u001b[0;34m)\u001b[0m\u001b[0;34m\u001b[0m\u001b[0m\n\u001b[1;32m    249\u001b[0m         \u001b[0;32mreturn\u001b[0m \u001b[0mscore\u001b[0m\u001b[0;34m,\u001b[0m \u001b[0mbest_auction\u001b[0m\u001b[0;34m\u001b[0m\u001b[0m\n",
      "\u001b[0;32m~/wkspace/selfbid/notebooks/bidding.py\u001b[0m in \u001b[0;36mbest_bid\u001b[0;34m(self, auction, s_c, s_h, n)\u001b[0m\n\u001b[1;32m    225\u001b[0m         \u001b[0mbids\u001b[0m\u001b[0;34m,\u001b[0m \u001b[0;34m(\u001b[0m\u001b[0mnext_c_np\u001b[0m\u001b[0;34m,\u001b[0m \u001b[0mnext_h_np\u001b[0m\u001b[0;34m)\u001b[0m \u001b[0;34m=\u001b[0m \u001b[0mself\u001b[0m\u001b[0;34m.\u001b[0m\u001b[0msimulate_bid\u001b[0m\u001b[0;34m(\u001b[0m\u001b[0mauction\u001b[0m\u001b[0;34m,\u001b[0m \u001b[0ms_c\u001b[0m\u001b[0;34m,\u001b[0m \u001b[0ms_h\u001b[0m\u001b[0;34m,\u001b[0m \u001b[0mn\u001b[0m\u001b[0;34m)\u001b[0m\u001b[0;34m\u001b[0m\u001b[0m\n\u001b[1;32m    226\u001b[0m         \u001b[0;32mfor\u001b[0m \u001b[0mbid\u001b[0m \u001b[0;32min\u001b[0m \u001b[0mbids\u001b[0m\u001b[0;34m:\u001b[0m\u001b[0;34m\u001b[0m\u001b[0m\n\u001b[0;32m--> 227\u001b[0;31m             \u001b[0msim_auction\u001b[0m \u001b[0;34m=\u001b[0m \u001b[0mself\u001b[0m\u001b[0;34m.\u001b[0m\u001b[0msimulate_auction\u001b[0m\u001b[0;34m(\u001b[0m\u001b[0mauction\u001b[0m \u001b[0;34m+\u001b[0m \u001b[0;34m[\u001b[0m\u001b[0mbid\u001b[0m\u001b[0;34m]\u001b[0m\u001b[0;34m,\u001b[0m \u001b[0mnext_c_np\u001b[0m\u001b[0;34m,\u001b[0m \u001b[0mnext_h_np\u001b[0m\u001b[0;34m)\u001b[0m\u001b[0;34m\u001b[0m\u001b[0m\n\u001b[0m\u001b[1;32m    228\u001b[0m             \u001b[0msim_contract\u001b[0m \u001b[0;34m=\u001b[0m \u001b[0mget_contract\u001b[0m\u001b[0;34m(\u001b[0m\u001b[0msim_auction\u001b[0m\u001b[0;34m)\u001b[0m\u001b[0;34m\u001b[0m\u001b[0m\n\u001b[1;32m    229\u001b[0m             \u001b[0;32mif\u001b[0m \u001b[0msim_contract\u001b[0m \u001b[0;32mis\u001b[0m \u001b[0;32mnot\u001b[0m \u001b[0;32mNone\u001b[0m\u001b[0;34m:\u001b[0m\u001b[0;34m\u001b[0m\u001b[0m\n",
      "\u001b[0;32m~/wkspace/selfbid/notebooks/bidding.py\u001b[0m in \u001b[0;36msimulate_auction\u001b[0;34m(self, auction, s_c, s_h)\u001b[0m\n\u001b[1;32m    214\u001b[0m         \u001b[0mC\u001b[0m\u001b[0;34m,\u001b[0m \u001b[0mH\u001b[0m \u001b[0;34m=\u001b[0m \u001b[0ms_c\u001b[0m\u001b[0;34m,\u001b[0m \u001b[0ms_h\u001b[0m\u001b[0;34m\u001b[0m\u001b[0m\n\u001b[1;32m    215\u001b[0m         \u001b[0;32mwhile\u001b[0m \u001b[0;32mnot\u001b[0m \u001b[0mauction_over\u001b[0m\u001b[0;34m(\u001b[0m\u001b[0msim_auction\u001b[0m\u001b[0;34m)\u001b[0m\u001b[0;34m:\u001b[0m\u001b[0;34m\u001b[0m\u001b[0m\n\u001b[0;32m--> 216\u001b[0;31m             \u001b[0mbids\u001b[0m\u001b[0;34m,\u001b[0m \u001b[0;34m(\u001b[0m\u001b[0mnext_c_np\u001b[0m\u001b[0;34m,\u001b[0m \u001b[0mnext_h_np\u001b[0m\u001b[0;34m)\u001b[0m \u001b[0;34m=\u001b[0m \u001b[0mself\u001b[0m\u001b[0;34m.\u001b[0m\u001b[0msimulate_bid\u001b[0m\u001b[0;34m(\u001b[0m\u001b[0msim_auction\u001b[0m\u001b[0;34m,\u001b[0m \u001b[0mC\u001b[0m\u001b[0;34m,\u001b[0m \u001b[0mH\u001b[0m\u001b[0;34m,\u001b[0m \u001b[0;36m1\u001b[0m\u001b[0;34m)\u001b[0m\u001b[0;34m\u001b[0m\u001b[0m\n\u001b[0m\u001b[1;32m    217\u001b[0m             \u001b[0msim_auction\u001b[0m\u001b[0;34m.\u001b[0m\u001b[0mappend\u001b[0m\u001b[0;34m(\u001b[0m\u001b[0mbids\u001b[0m\u001b[0;34m[\u001b[0m\u001b[0;36m0\u001b[0m\u001b[0;34m]\u001b[0m\u001b[0;34m)\u001b[0m\u001b[0;34m\u001b[0m\u001b[0m\n\u001b[1;32m    218\u001b[0m             \u001b[0mC\u001b[0m \u001b[0;34m=\u001b[0m \u001b[0mnext_c_np\u001b[0m\u001b[0;34m\u001b[0m\u001b[0m\n",
      "\u001b[0;32m~/wkspace/selfbid/notebooks/bidding.py\u001b[0m in \u001b[0;36msimulate_bid\u001b[0;34m(self, auction, s_c, s_h, n)\u001b[0m\n\u001b[1;32m    194\u001b[0m             \u001b[0;31m# TODO: fix vulnerability\u001b[0m\u001b[0;34m\u001b[0m\u001b[0;34m\u001b[0m\u001b[0m\n\u001b[1;32m    195\u001b[0m             \u001b[0mx_input\u001b[0m \u001b[0;34m=\u001b[0m \u001b[0mget_input\u001b[0m\u001b[0;34m(\u001b[0m\u001b[0mpadded_auction\u001b[0m\u001b[0;34m[\u001b[0m\u001b[0;34m-\u001b[0m\u001b[0;36m3\u001b[0m\u001b[0;34m]\u001b[0m\u001b[0;34m,\u001b[0m \u001b[0mpadded_auction\u001b[0m\u001b[0;34m[\u001b[0m\u001b[0;34m-\u001b[0m\u001b[0;36m2\u001b[0m\u001b[0;34m]\u001b[0m\u001b[0;34m,\u001b[0m \u001b[0mpadded_auction\u001b[0m\u001b[0;34m[\u001b[0m\u001b[0;34m-\u001b[0m\u001b[0;36m1\u001b[0m\u001b[0;34m]\u001b[0m\u001b[0;34m,\u001b[0m \u001b[0mself\u001b[0m\u001b[0;34m.\u001b[0m\u001b[0mhands\u001b[0m\u001b[0;34m[\u001b[0m\u001b[0mi\u001b[0m\u001b[0;34m]\u001b[0m\u001b[0;34m,\u001b[0m \u001b[0;32mFalse\u001b[0m\u001b[0;34m,\u001b[0m \u001b[0;32mFalse\u001b[0m\u001b[0;34m)\u001b[0m\u001b[0;34m\u001b[0m\u001b[0m\n\u001b[0;32m--> 196\u001b[0;31m             \u001b[0mout_bid_np\u001b[0m\u001b[0;34m,\u001b[0m \u001b[0mnext_c_np\u001b[0m\u001b[0;34m,\u001b[0m \u001b[0mnext_h_np\u001b[0m \u001b[0;34m=\u001b[0m \u001b[0mself\u001b[0m\u001b[0;34m.\u001b[0m\u001b[0mmodel\u001b[0m\u001b[0;34m(\u001b[0m\u001b[0mx_input\u001b[0m\u001b[0;34m,\u001b[0m \u001b[0ms_c\u001b[0m\u001b[0;34m,\u001b[0m \u001b[0ms_h\u001b[0m\u001b[0;34m)\u001b[0m\u001b[0;34m\u001b[0m\u001b[0m\n\u001b[0m\u001b[1;32m    197\u001b[0m             \u001b[0mself\u001b[0m\u001b[0;34m.\u001b[0m\u001b[0mcache\u001b[0m\u001b[0;34m[\u001b[0m\u001b[0mauction_key\u001b[0m\u001b[0;34m]\u001b[0m \u001b[0;34m=\u001b[0m \u001b[0;34m(\u001b[0m\u001b[0mout_bid_np\u001b[0m\u001b[0;34m,\u001b[0m \u001b[0mnext_c_np\u001b[0m\u001b[0;34m,\u001b[0m \u001b[0mnext_h_np\u001b[0m\u001b[0;34m)\u001b[0m\u001b[0;34m\u001b[0m\u001b[0m\n\u001b[1;32m    198\u001b[0m         \u001b[0;32melse\u001b[0m\u001b[0;34m:\u001b[0m\u001b[0;34m\u001b[0m\u001b[0m\n",
      "\u001b[0;32m<ipython-input-11-0c8fe020d787>\u001b[0m in \u001b[0;36mfun\u001b[0;34m(x_input, s_c, s_h)\u001b[0m\n\u001b[1;32m      1\u001b[0m \u001b[0;32mdef\u001b[0m \u001b[0mmodel\u001b[0m\u001b[0;34m(\u001b[0m\u001b[0msess\u001b[0m\u001b[0;34m)\u001b[0m\u001b[0;34m:\u001b[0m\u001b[0;34m\u001b[0m\u001b[0m\n\u001b[1;32m      2\u001b[0m     \u001b[0;32mdef\u001b[0m \u001b[0mfun\u001b[0m\u001b[0;34m(\u001b[0m\u001b[0mx_input\u001b[0m\u001b[0;34m,\u001b[0m \u001b[0ms_c\u001b[0m\u001b[0;34m,\u001b[0m \u001b[0ms_h\u001b[0m\u001b[0;34m)\u001b[0m\u001b[0;34m:\u001b[0m\u001b[0;34m\u001b[0m\u001b[0m\n\u001b[0;32m----> 3\u001b[0;31m         \u001b[0mout_bid_np\u001b[0m\u001b[0;34m,\u001b[0m \u001b[0mnext_c_np\u001b[0m\u001b[0;34m,\u001b[0m \u001b[0mnext_h_np\u001b[0m \u001b[0;34m=\u001b[0m \u001b[0msess\u001b[0m\u001b[0;34m.\u001b[0m\u001b[0mrun\u001b[0m\u001b[0;34m(\u001b[0m\u001b[0;34m[\u001b[0m\u001b[0mout_bid\u001b[0m\u001b[0;34m,\u001b[0m \u001b[0mnext_c\u001b[0m\u001b[0;34m,\u001b[0m \u001b[0mnext_h\u001b[0m\u001b[0;34m]\u001b[0m\u001b[0;34m,\u001b[0m \u001b[0mfeed_dict\u001b[0m\u001b[0;34m=\u001b[0m\u001b[0;34m{\u001b[0m\u001b[0mx_in\u001b[0m\u001b[0;34m:\u001b[0m \u001b[0mx_input\u001b[0m\u001b[0;34m,\u001b[0m \u001b[0mstate_c\u001b[0m\u001b[0;34m:\u001b[0m \u001b[0ms_c\u001b[0m\u001b[0;34m,\u001b[0m \u001b[0mstate_h\u001b[0m\u001b[0;34m:\u001b[0m \u001b[0ms_h\u001b[0m\u001b[0;34m}\u001b[0m\u001b[0;34m)\u001b[0m\u001b[0;34m\u001b[0m\u001b[0m\n\u001b[0m\u001b[1;32m      4\u001b[0m         \u001b[0;32mreturn\u001b[0m \u001b[0mout_bid_np\u001b[0m\u001b[0;34m,\u001b[0m \u001b[0mnext_c_np\u001b[0m\u001b[0;34m,\u001b[0m \u001b[0mnext_h_np\u001b[0m\u001b[0;34m\u001b[0m\u001b[0m\n\u001b[1;32m      5\u001b[0m     \u001b[0;32mreturn\u001b[0m \u001b[0mfun\u001b[0m\u001b[0;34m\u001b[0m\u001b[0m\n",
      "\u001b[0;32m~/anaconda2/envs/tsflow/lib/python3.5/site-packages/tensorflow/python/client/session.py\u001b[0m in \u001b[0;36mrun\u001b[0;34m(self, fetches, feed_dict, options, run_metadata)\u001b[0m\n\u001b[1;32m    887\u001b[0m     \u001b[0;32mtry\u001b[0m\u001b[0;34m:\u001b[0m\u001b[0;34m\u001b[0m\u001b[0m\n\u001b[1;32m    888\u001b[0m       result = self._run(None, fetches, feed_dict, options_ptr,\n\u001b[0;32m--> 889\u001b[0;31m                          run_metadata_ptr)\n\u001b[0m\u001b[1;32m    890\u001b[0m       \u001b[0;32mif\u001b[0m \u001b[0mrun_metadata\u001b[0m\u001b[0;34m:\u001b[0m\u001b[0;34m\u001b[0m\u001b[0m\n\u001b[1;32m    891\u001b[0m         \u001b[0mproto_data\u001b[0m \u001b[0;34m=\u001b[0m \u001b[0mtf_session\u001b[0m\u001b[0;34m.\u001b[0m\u001b[0mTF_GetBuffer\u001b[0m\u001b[0;34m(\u001b[0m\u001b[0mrun_metadata_ptr\u001b[0m\u001b[0;34m)\u001b[0m\u001b[0;34m\u001b[0m\u001b[0m\n",
      "\u001b[0;32m~/anaconda2/envs/tsflow/lib/python3.5/site-packages/tensorflow/python/client/session.py\u001b[0m in \u001b[0;36m_run\u001b[0;34m(self, handle, fetches, feed_dict, options, run_metadata)\u001b[0m\n\u001b[1;32m   1118\u001b[0m     \u001b[0;32mif\u001b[0m \u001b[0mfinal_fetches\u001b[0m \u001b[0;32mor\u001b[0m \u001b[0mfinal_targets\u001b[0m \u001b[0;32mor\u001b[0m \u001b[0;34m(\u001b[0m\u001b[0mhandle\u001b[0m \u001b[0;32mand\u001b[0m \u001b[0mfeed_dict_tensor\u001b[0m\u001b[0;34m)\u001b[0m\u001b[0;34m:\u001b[0m\u001b[0;34m\u001b[0m\u001b[0m\n\u001b[1;32m   1119\u001b[0m       results = self._do_run(handle, final_targets, final_fetches,\n\u001b[0;32m-> 1120\u001b[0;31m                              feed_dict_tensor, options, run_metadata)\n\u001b[0m\u001b[1;32m   1121\u001b[0m     \u001b[0;32melse\u001b[0m\u001b[0;34m:\u001b[0m\u001b[0;34m\u001b[0m\u001b[0m\n\u001b[1;32m   1122\u001b[0m       \u001b[0mresults\u001b[0m \u001b[0;34m=\u001b[0m \u001b[0;34m[\u001b[0m\u001b[0;34m]\u001b[0m\u001b[0;34m\u001b[0m\u001b[0m\n",
      "\u001b[0;32m~/anaconda2/envs/tsflow/lib/python3.5/site-packages/tensorflow/python/client/session.py\u001b[0m in \u001b[0;36m_do_run\u001b[0;34m(self, handle, target_list, fetch_list, feed_dict, options, run_metadata)\u001b[0m\n\u001b[1;32m   1315\u001b[0m     \u001b[0;32mif\u001b[0m \u001b[0mhandle\u001b[0m \u001b[0;32mis\u001b[0m \u001b[0;32mNone\u001b[0m\u001b[0;34m:\u001b[0m\u001b[0;34m\u001b[0m\u001b[0m\n\u001b[1;32m   1316\u001b[0m       return self._do_call(_run_fn, self._session, feeds, fetches, targets,\n\u001b[0;32m-> 1317\u001b[0;31m                            options, run_metadata)\n\u001b[0m\u001b[1;32m   1318\u001b[0m     \u001b[0;32melse\u001b[0m\u001b[0;34m:\u001b[0m\u001b[0;34m\u001b[0m\u001b[0m\n\u001b[1;32m   1319\u001b[0m       \u001b[0;32mreturn\u001b[0m \u001b[0mself\u001b[0m\u001b[0;34m.\u001b[0m\u001b[0m_do_call\u001b[0m\u001b[0;34m(\u001b[0m\u001b[0m_prun_fn\u001b[0m\u001b[0;34m,\u001b[0m \u001b[0mself\u001b[0m\u001b[0;34m.\u001b[0m\u001b[0m_session\u001b[0m\u001b[0;34m,\u001b[0m \u001b[0mhandle\u001b[0m\u001b[0;34m,\u001b[0m \u001b[0mfeeds\u001b[0m\u001b[0;34m,\u001b[0m \u001b[0mfetches\u001b[0m\u001b[0;34m)\u001b[0m\u001b[0;34m\u001b[0m\u001b[0m\n",
      "\u001b[0;32m~/anaconda2/envs/tsflow/lib/python3.5/site-packages/tensorflow/python/client/session.py\u001b[0m in \u001b[0;36m_do_call\u001b[0;34m(self, fn, *args)\u001b[0m\n\u001b[1;32m   1321\u001b[0m   \u001b[0;32mdef\u001b[0m \u001b[0m_do_call\u001b[0m\u001b[0;34m(\u001b[0m\u001b[0mself\u001b[0m\u001b[0;34m,\u001b[0m \u001b[0mfn\u001b[0m\u001b[0;34m,\u001b[0m \u001b[0;34m*\u001b[0m\u001b[0margs\u001b[0m\u001b[0;34m)\u001b[0m\u001b[0;34m:\u001b[0m\u001b[0;34m\u001b[0m\u001b[0m\n\u001b[1;32m   1322\u001b[0m     \u001b[0;32mtry\u001b[0m\u001b[0;34m:\u001b[0m\u001b[0;34m\u001b[0m\u001b[0m\n\u001b[0;32m-> 1323\u001b[0;31m       \u001b[0;32mreturn\u001b[0m \u001b[0mfn\u001b[0m\u001b[0;34m(\u001b[0m\u001b[0;34m*\u001b[0m\u001b[0margs\u001b[0m\u001b[0;34m)\u001b[0m\u001b[0;34m\u001b[0m\u001b[0m\n\u001b[0m\u001b[1;32m   1324\u001b[0m     \u001b[0;32mexcept\u001b[0m \u001b[0merrors\u001b[0m\u001b[0;34m.\u001b[0m\u001b[0mOpError\u001b[0m \u001b[0;32mas\u001b[0m \u001b[0me\u001b[0m\u001b[0;34m:\u001b[0m\u001b[0;34m\u001b[0m\u001b[0m\n\u001b[1;32m   1325\u001b[0m       \u001b[0mmessage\u001b[0m \u001b[0;34m=\u001b[0m \u001b[0mcompat\u001b[0m\u001b[0;34m.\u001b[0m\u001b[0mas_text\u001b[0m\u001b[0;34m(\u001b[0m\u001b[0me\u001b[0m\u001b[0;34m.\u001b[0m\u001b[0mmessage\u001b[0m\u001b[0;34m)\u001b[0m\u001b[0;34m\u001b[0m\u001b[0m\n",
      "\u001b[0;32m~/anaconda2/envs/tsflow/lib/python3.5/site-packages/tensorflow/python/client/session.py\u001b[0m in \u001b[0;36m_run_fn\u001b[0;34m(session, feed_dict, fetch_list, target_list, options, run_metadata)\u001b[0m\n\u001b[1;32m   1300\u001b[0m           return tf_session.TF_Run(session, options,\n\u001b[1;32m   1301\u001b[0m                                    \u001b[0mfeed_dict\u001b[0m\u001b[0;34m,\u001b[0m \u001b[0mfetch_list\u001b[0m\u001b[0;34m,\u001b[0m \u001b[0mtarget_list\u001b[0m\u001b[0;34m,\u001b[0m\u001b[0;34m\u001b[0m\u001b[0m\n\u001b[0;32m-> 1302\u001b[0;31m                                    status, run_metadata)\n\u001b[0m\u001b[1;32m   1303\u001b[0m \u001b[0;34m\u001b[0m\u001b[0m\n\u001b[1;32m   1304\u001b[0m     \u001b[0;32mdef\u001b[0m \u001b[0m_prun_fn\u001b[0m\u001b[0;34m(\u001b[0m\u001b[0msession\u001b[0m\u001b[0;34m,\u001b[0m \u001b[0mhandle\u001b[0m\u001b[0;34m,\u001b[0m \u001b[0mfeed_dict\u001b[0m\u001b[0;34m,\u001b[0m \u001b[0mfetch_list\u001b[0m\u001b[0;34m)\u001b[0m\u001b[0;34m:\u001b[0m\u001b[0;34m\u001b[0m\u001b[0m\n",
      "\u001b[0;31mKeyboardInterrupt\u001b[0m: "
     ]
    }
   ],
   "source": [
    "costs = []\n",
    "for _ in range(100):\n",
    "    for i in tqdm(range(1000)):\n",
    "        X, contracts, deal_str = next(reader)\n",
    "        simulator = bidding.Simulator(X, contracts, model(sess))\n",
    "        score, auction = simulator.best_auction(['PAD_START'] * (i % 4), init_c, init_h, 10)\n",
    "        if i == 0:\n",
    "            print(deal_str)\n",
    "            print(simulator.par, score, auction)\n",
    "        input_seq_np, target_seq_np = create_input_output_sequence(auction, X)\n",
    "        c = sess.run(cost, feed_dict={seq_in: input_seq_np, target: target_seq_np})\n",
    "        costs.append(c)\n",
    "        sess.run(train_step, feed_dict={seq_in: input_seq_np, target: target_seq_np})\n",
    "    print(np.mean(costs[-100:]))"
   ]
  },
  {
   "cell_type": "code",
   "execution_count": 80,
   "metadata": {},
   "outputs": [],
   "source": [
    "%matplotlib inline"
   ]
  },
  {
   "cell_type": "code",
   "execution_count": 81,
   "metadata": {},
   "outputs": [],
   "source": [
    "import matplotlib.pyplot as plt"
   ]
  },
  {
   "cell_type": "code",
   "execution_count": 82,
   "metadata": {},
   "outputs": [
    {
     "data": {
      "text/plain": [
       "[<matplotlib.lines.Line2D at 0x7f9d96a20908>]"
      ]
     },
     "execution_count": 82,
     "metadata": {},
     "output_type": "execute_result"
    },
    {
     "data": {
      "image/png": "[encoded data removed]",
      "text/plain": [
       "<matplotlib.figure.Figure at 0x7f9d942309b0>"
      ]
     },
     "metadata": {},
     "output_type": "display_data"
    }
   ],
   "source": [
    "plt.plot(costs)"
   ]
  },
  {
   "cell_type": "code",
   "execution_count": 83,
   "metadata": {},
   "outputs": [],
   "source": [
    "reader = data.load_deals(gzip.open('../testdata.gz'))\n",
    "X, contracts, deal_str = next(reader)"
   ]
  },
  {
   "cell_type": "code",
   "execution_count": 84,
   "metadata": {},
   "outputs": [
    {
     "name": "stdout",
     "output_type": "stream",
     "text": [
      "ST7 HQ DA42 CAKT9872  S92 HK9864 DJ63 CQ53  SAQJ854 HAJ7 DKQ5 C4  SK63 HT532 DT987 CJ6\n"
     ]
    }
   ],
   "source": [
    "print(deal_str)"
   ]
  },
  {
   "cell_type": "code",
   "execution_count": 85,
   "metadata": {},
   "outputs": [
    {
     "data": {
      "text/plain": [
       "['2C', '2D', '2H', 'PASS', 'PASS', 'PASS']"
      ]
     },
     "execution_count": 85,
     "metadata": {},
     "output_type": "execute_result"
    }
   ],
   "source": [
    "simulator.simulate_auction([], init_c, init_h)"
   ]
  },
  {
   "cell_type": "code",
   "execution_count": 86,
   "metadata": {},
   "outputs": [],
   "source": [
    "simulator = bidding.Simulator(X, contracts, model(sess))"
   ]
  },
  {
   "cell_type": "code",
   "execution_count": 87,
   "metadata": {},
   "outputs": [
    {
     "data": {
      "text/plain": [
       "['1H', 'PASS', 'PASS', '3D', '4S', 'PASS', 'PASS', 'PASS']"
      ]
     },
     "execution_count": 87,
     "metadata": {},
     "output_type": "execute_result"
    }
   ],
   "source": [
    "simulator.simulate_auction([], init_c, init_h)"
   ]
  },
  {
   "cell_type": "code",
   "execution_count": 88,
   "metadata": {},
   "outputs": [
    {
     "data": {
      "text/plain": [
       "'6NN'"
      ]
     },
     "execution_count": 88,
     "metadata": {},
     "output_type": "execute_result"
    }
   ],
   "source": [
    "simulator.par"
   ]
  },
  {
   "cell_type": "code",
   "execution_count": 93,
   "metadata": {},
   "outputs": [
    {
     "data": {
      "text/plain": [
       "(-480.0, ['3N', '4H', '4S', 'PASS', 'PASS', 'PASS'])"
      ]
     },
     "execution_count": 93,
     "metadata": {},
     "output_type": "execute_result"
    }
   ],
   "source": [
    "simulator.best_auction([], init_c, init_h, 10)"
   ]
  },
  {
   "cell_type": "code",
   "execution_count": 94,
   "metadata": {},
   "outputs": [],
   "source": [
    "def simbid(X, auction, s_c, s_h):\n",
    "    i = len(auction) % 4\n",
    "    padded_auction = (['PAD_START'] * max(0, 3 - len(auction))) + auction\n",
    "    # TODO: fix vulnerability\n",
    "    x_input = bidding.get_input(padded_auction[-3], padded_auction[-2], padded_auction[-1], X[0,:,:,i].reshape((1, 52)), False, False)\n",
    "    out_bid_np, next_c_np, next_h_np = simulator.model(x_input, s_c, s_h)\n",
    "    print(out_bid_np)\n",
    "    bid_id = np.argmax(out_bid_np)\n",
    "    bid = bidding.ID2BID[bid_id]\n",
    "    return bid, next_c_np, next_h_np"
   ]
  },
  {
   "cell_type": "code",
   "execution_count": 95,
   "metadata": {},
   "outputs": [
    {
     "name": "stdout",
     "output_type": "stream",
     "text": [
      "[[  9.58196833e-05   7.93398285e-05   1.33776665e-01   1.02012411e-04\n",
      "    9.86294326e-05   6.10526428e-02   3.95981856e-02   2.52459981e-02\n",
      "    4.61201034e-02   7.40215778e-02   1.52882531e-01   4.76094149e-02\n",
      "    2.41101589e-02   1.12974057e-02   4.71440202e-04   1.83151811e-01\n",
      "    7.73567185e-02   1.05297565e-03   3.67060682e-04   1.10802889e-01\n",
      "    1.60858413e-04   1.80896939e-04   2.44556065e-03   5.86882047e-03\n",
      "    2.20873728e-04   1.42421617e-04   1.05163948e-04   1.17016491e-04\n",
      "    1.18601296e-04   1.33331123e-04   1.30505534e-04   1.52630790e-04\n",
      "    1.56978072e-04   1.24531682e-04   1.31143956e-04   1.04028397e-04\n",
      "    1.11257075e-04   1.00382211e-04   1.08157350e-04   9.35365752e-05]]\n",
      "[[  1.73277294e-06   2.31789727e-06   6.56303108e-01   2.73879800e-06\n",
      "    1.41438295e-06   6.77960517e-04   7.72021129e-04   4.06291708e-03\n",
      "    1.50470866e-03   2.82233139e-03   5.53034013e-03   7.73780234e-03\n",
      "    3.21504511e-02   6.51600712e-04   1.09807233e-05   1.15390047e-02\n",
      "    6.67134067e-03   5.92371543e-05   1.47711771e-05   1.67657912e-03\n",
      "    4.22959647e-06   4.25661528e-06   2.65977591e-01   1.77413528e-03\n",
      "    6.22307107e-06   2.55828718e-06   3.36846074e-06   3.76790217e-06\n",
      "    2.96710209e-06   2.78494031e-06   3.77264109e-06   2.28098475e-06\n",
      "    2.67373389e-06   2.80348991e-06   2.96505709e-06   1.96184374e-06\n",
      "    1.46506295e-06   2.68731856e-06   1.93254459e-06   2.17119236e-06]]\n",
      "[[  1.17712268e-07   1.65160984e-07   2.31683940e-01   2.67899736e-07\n",
      "    1.51212006e-07   1.06964026e-05   7.02770785e-06   2.86972154e-05\n",
      "    3.59406578e-04   1.27874766e-04   3.25345209e-05   5.85596827e-05\n",
      "    1.38480882e-05   5.59631037e-03   1.09278130e-06   1.02925813e-04\n",
      "    1.20599914e-04   1.98892531e-06   1.16661033e-06   4.54354435e-02\n",
      "    3.07770790e-07   2.83727019e-07   2.19265567e-04   7.16194212e-01\n",
      "    4.41781310e-07   1.82018397e-07   2.11247126e-07   1.73393190e-07\n",
      "    1.56478535e-07   2.44012057e-07   1.61840489e-07   2.16733667e-07\n",
      "    1.58844372e-07   2.28964609e-07   2.30030935e-07   1.40882065e-07\n",
      "    1.41783374e-07   1.67492203e-07   1.69634234e-07   1.12914904e-07]]\n",
      "[[  7.75168263e-10   1.77660942e-09   9.98649061e-01   2.23733210e-09\n",
      "    9.78180870e-10   6.13983957e-08   1.37533291e-07   2.62636718e-07\n",
      "    2.12651784e-07   1.65276447e-06   2.73589217e-06   7.66901212e-06\n",
      "    7.71186660e-06   9.27587678e-08   9.66082858e-09   2.88811461e-05\n",
      "    2.42395527e-05   4.01904714e-08   1.21653310e-08   1.02324316e-06\n",
      "    3.20785776e-09   2.96581004e-09   1.21150212e-03   6.46492190e-05\n",
      "    4.59924410e-09   1.31579914e-09   1.96120475e-09   2.03936912e-09\n",
      "    1.85794014e-09   1.86446836e-09   2.73235234e-09   1.62456892e-09\n",
      "    2.02942374e-09   1.75018033e-09   1.81044080e-09   9.99157090e-10\n",
      "    6.40449194e-10   2.34391262e-09   1.50769963e-09   1.51366419e-09]]\n",
      "[[  5.39369882e-10   1.38881251e-09   9.99552429e-01   3.19164828e-09\n",
      "    1.08334264e-09   2.80531935e-08   1.71052221e-08   6.78251766e-09\n",
      "    9.00265604e-08   5.51229220e-07   8.11861810e-07   3.82986855e-07\n",
      "    3.00697138e-08   1.84833607e-06   1.24596697e-08   2.92602963e-05\n",
      "    4.71187241e-06   1.46437431e-08   9.57369828e-09   9.84334401e-05\n",
      "    2.77343859e-09   2.85163715e-09   8.44924770e-08   3.11216980e-04\n",
      "    4.31214353e-09   1.27263622e-09   1.60133617e-09   8.85746254e-10\n",
      "    1.26137489e-09   2.22593344e-09   1.18965793e-09   2.75391909e-09\n",
      "    1.75690973e-09   1.99006522e-09   1.41444689e-09   1.12441356e-09\n",
      "    8.09085021e-10   2.23862173e-09   1.33888034e-09   1.30125888e-09]]\n",
      "[[  1.23843949e-10   3.42822437e-10   9.99707758e-01   5.36274469e-10\n",
      "    2.04439021e-10   9.23263688e-09   1.08082405e-08   7.99247175e-08\n",
      "    1.37781209e-08   3.52131224e-07   3.06614538e-07   4.13543972e-07\n",
      "    3.06607544e-05   2.46547636e-08   2.38177078e-09   1.97646341e-06\n",
      "    6.05037997e-07   6.79881795e-09   2.36513875e-09   3.01129575e-08\n",
      "    5.51050150e-10   7.72678754e-10   2.56564672e-04   1.18409639e-06\n",
      "    9.03001562e-10   1.98846467e-10   4.44512538e-10   3.88530236e-10\n",
      "    4.39044828e-10   3.80867171e-10   4.65259997e-10   4.79842166e-10\n",
      "    3.03286229e-10   4.05301070e-10   3.55931340e-10   2.21718449e-10\n",
      "    1.24682029e-10   4.84159379e-10   2.28679325e-10   4.53369703e-10]]\n"
     ]
    }
   ],
   "source": [
    "auction = []\n",
    "s_c, s_h = init_c, init_h\n",
    "while not bidding.auction_over(auction):\n",
    "    bid, s_c, s_h = simbid(X, auction, s_c, s_h)\n",
    "    auction.append(bid)"
   ]
  },
  {
   "cell_type": "code",
   "execution_count": 96,
   "metadata": {},
   "outputs": [
    {
     "data": {
      "text/plain": [
       "['3C', 'PASS', '4S', 'PASS', 'PASS', 'PASS']"
      ]
     },
     "execution_count": 96,
     "metadata": {},
     "output_type": "execute_result"
    }
   ],
   "source": [
    "auction"
   ]
  },
  {
   "cell_type": "code",
   "execution_count": 97,
   "metadata": {},
   "outputs": [
    {
     "data": {
      "text/plain": [
       "[<matplotlib.lines.Line2D at 0x7f9d6d369748>]"
      ]
     },
     "execution_count": 97,
     "metadata": {},
     "output_type": "execute_result"
    },
    {
     "data": {
      "image/png": "[encoded data removed]",
      "text/plain": [
       "<matplotlib.figure.Figure at 0x7f9d941e0b00>"
      ]
     },
     "metadata": {},
     "output_type": "display_data"
    }
   ],
   "source": [
    "plt.plot(np.convolve(costs, np.ones((100,))/100))"
   ]
  },
  {
   "cell_type": "code",
   "execution_count": 101,
   "metadata": {},
   "outputs": [],
   "source": [
    "saver = tf.train.Saver()"
   ]
  },
  {
   "cell_type": "code",
   "execution_count": 102,
   "metadata": {},
   "outputs": [],
   "source": [
    "saver.save?"
   ]
  },
  {
   "cell_type": "code",
   "execution_count": null,
   "metadata": {},
   "outputs": [],
   "source": []
  }
 ],
 "metadata": {
  "kernelspec": {
   "display_name": "Python 3",
   "language": "python",
   "name": "python3"
  },
  "language_info": {
   "codemirror_mode": {
    "name": "ipython",
    "version": 3
   },
   "file_extension": ".py",
   "mimetype": "text/x-python",
   "name": "python",
   "nbconvert_exporter": "python",
   "pygments_lexer": "ipython3",
   "version": "3.5.4"
  }
 },
 "nbformat": 4,
 "nbformat_minor": 2
}
