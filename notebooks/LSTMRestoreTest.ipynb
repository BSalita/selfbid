{
 "cells": [
  {
   "cell_type": "code",
   "execution_count": 1,
   "metadata": {},
   "outputs": [],
   "source": [
    "import numpy as np\n",
    "import tensorflow as tf"
   ]
  },
  {
   "cell_type": "code",
   "execution_count": 2,
   "metadata": {},
   "outputs": [],
   "source": [
    "X_val = np.load('./X_val.npy')\n",
    "y_val = np.load('./y_val.npy')"
   ]
  },
  {
   "cell_type": "code",
   "execution_count": 3,
   "metadata": {},
   "outputs": [],
   "source": [
    "sess = tf.InteractiveSession()"
   ]
  },
  {
   "cell_type": "code",
   "execution_count": 4,
   "metadata": {},
   "outputs": [],
   "source": [
    "saver = tf.train.import_meta_graph('../model/sayc-500000.meta')"
   ]
  },
  {
   "cell_type": "code",
   "execution_count": 5,
   "metadata": {},
   "outputs": [
    {
     "name": "stdout",
     "output_type": "stream",
     "text": [
      "INFO:tensorflow:Restoring parameters from ../model/sayc-500000\n"
     ]
    }
   ],
   "source": [
    "saver.restore(sess, '../model/sayc-500000')"
   ]
  },
  {
   "cell_type": "code",
   "execution_count": 6,
   "metadata": {},
   "outputs": [],
   "source": [
    "graph = tf.get_default_graph()"
   ]
  },
  {
   "cell_type": "code",
   "execution_count": 7,
   "metadata": {},
   "outputs": [],
   "source": [
    "seq_in = graph.get_tensor_by_name('seq_in:0')\n",
    "keep_prob = graph.get_tensor_by_name('keep_prob:0')"
   ]
  },
  {
   "cell_type": "code",
   "execution_count": 8,
   "metadata": {},
   "outputs": [],
   "source": [
    "out_bid_logit = graph.get_tensor_by_name('out_bid_logit:0')"
   ]
  },
  {
   "cell_type": "code",
   "execution_count": 21,
   "metadata": {},
   "outputs": [],
   "source": [
    "bids = sess.run(out_bid_logit, feed_dict={seq_in: X_val[0:1, 0:1], keep_prob: 1.0})"
   ]
  },
  {
   "cell_type": "code",
   "execution_count": 22,
   "metadata": {},
   "outputs": [
    {
     "data": {
      "text/plain": [
       "array([[-25.80791664,  -9.33546734,  -2.7819128 ,  -6.53328896,\n",
       "        -25.92403221,  -5.27107382,  -6.20774603,  10.26448536,\n",
       "         -3.29983425,  -7.1399045 ,  -6.18421268,  -8.07068157,\n",
       "         -4.1593771 , -11.01375294,  -7.52219439,  -7.62676764,\n",
       "         -9.0797081 ,  -9.77803993, -12.84655952, -12.37415791,\n",
       "        -14.97718143, -20.7016716 , -11.13573456, -20.58936119,\n",
       "        -24.46537971, -18.08568954, -23.33672142, -39.07943344,\n",
       "        -64.59513092, -14.25973701, -35.92338181, -45.35156631,\n",
       "        -41.93603134, -54.34156418, -12.36878586, -44.40045547,\n",
       "        -45.70103073, -28.52837563, -36.65755081, -33.71347809]], dtype=float32)"
      ]
     },
     "execution_count": 22,
     "metadata": {},
     "output_type": "execute_result"
    }
   ],
   "source": [
    "bids"
   ]
  },
  {
   "cell_type": "code",
   "execution_count": 23,
   "metadata": {},
   "outputs": [
    {
     "data": {
      "text/plain": [
       "array([[  2.15750859e-16,   3.07501180e-09,   2.15784053e-06,\n",
       "          5.06777091e-08,   1.92098589e-16,   1.79056741e-07,\n",
       "          7.01776912e-08,   9.99995589e-01,   1.28554984e-06,\n",
       "          2.76291416e-08,   7.18487598e-08,   1.08927178e-08,\n",
       "          5.44244699e-07,   5.74085501e-10,   1.88512868e-08,\n",
       "          1.69795378e-08,   3.97120248e-09,   1.97532946e-09,\n",
       "          9.18329232e-11,   1.47285587e-10,   1.09064016e-11,\n",
       "          3.56096276e-14,   5.08160736e-10,   3.98421124e-14,\n",
       "          8.26054906e-16,   4.87162611e-13,   2.55375351e-15,\n",
       "          3.71712218e-22,   3.08232619e-33,   2.23492631e-11,\n",
       "          8.72695337e-21,   7.01865916e-25,   2.13600435e-23,\n",
       "          8.74878353e-29,   1.48079077e-10,   1.81683857e-24,\n",
       "          4.94861518e-25,   1.42060131e-17,   4.18810066e-21,\n",
       "          7.95447767e-20]], dtype=float32)"
      ]
     },
     "execution_count": 23,
     "metadata": {},
     "output_type": "execute_result"
    }
   ],
   "source": [
    "sess.run(tf.nn.softmax(bids))"
   ]
  },
  {
   "cell_type": "code",
   "execution_count": null,
   "metadata": {},
   "outputs": [],
   "source": []
  }
 ],
 "metadata": {
  "kernelspec": {
   "display_name": "Python 3",
   "language": "python",
   "name": "python3"
  },
  "language_info": {
   "codemirror_mode": {
    "name": "ipython",
    "version": 3
   },
   "file_extension": ".py",
   "mimetype": "text/x-python",
   "name": "python",
   "nbconvert_exporter": "python",
   "pygments_lexer": "ipython3",
   "version": "3.5.4"
  }
 },
 "nbformat": 4,
 "nbformat_minor": 2
}
