{
 "cells": [
  {
   "cell_type": "code",
   "execution_count": 351,
   "metadata": {},
   "outputs": [],
   "source": [
    "%matplotlib inline"
   ]
  },
  {
   "cell_type": "code",
   "execution_count": 352,
   "metadata": {},
   "outputs": [],
   "source": [
    "import numpy as np\n",
    "import jack_to_deal_auction as jack\n",
    "import bidding\n",
    "from data_access import card_index_lookup\n",
    "import matplotlib.pyplot as plt"
   ]
  },
  {
   "cell_type": "code",
   "execution_count": 143,
   "metadata": {},
   "outputs": [],
   "source": [
    "suit_index_lookup = {'S': 0, 'H': 1, 'D': 2, 'C': 3}"
   ]
  },
  {
   "cell_type": "code",
   "execution_count": 3,
   "metadata": {},
   "outputs": [],
   "source": [
    "sample_str = '''W:AT73.JT4.92.A984 K4.AK76.KQT85.T2 QJ9865.Q53.64.65 2.982.AJ73.KQJ73\n",
    "W ALL 3N.-1.N\n",
    "PP 1N PP 3N PP PP PP\n",
    "SQS2SAS4S3SKS5H2D5D4DJD2H9H4HAH3DTD6D3D9D8S6D7HTDQC5DAC4CKCAC2C6STH6S8C3S7H7S9C7SJH8C8CTHQCJHJHKDKH5CQC9\n",
    " SQ 5\n",
    " SJ 5\n",
    " S9 5\n",
    " S8 5\n",
    " S6 5\n",
    " S5 5\n",
    " HQ 2\n",
    " H5 2\n",
    " H3 2\n",
    " D6 2\n",
    " D4 2\n",
    " C6 2\n",
    " C5 2'''"
   ]
  },
  {
   "cell_type": "code",
   "execution_count": 20,
   "metadata": {},
   "outputs": [
    {
     "data": {
      "text/plain": [
       "(1, 40)"
      ]
     },
     "execution_count": 20,
     "metadata": {},
     "output_type": "execute_result"
    }
   ],
   "source": [
    "bidding.encode_bid('1C').shape"
   ]
  },
  {
   "cell_type": "code",
   "execution_count": 23,
   "metadata": {},
   "outputs": [
    {
     "data": {
      "text/plain": [
       "3"
      ]
     },
     "execution_count": 23,
     "metadata": {},
     "output_type": "execute_result"
    }
   ],
   "source": [
    "-1 % 4"
   ]
  },
  {
   "cell_type": "code",
   "execution_count": 21,
   "metadata": {},
   "outputs": [],
   "source": [
    "def convert_auction(auction_str):\n",
    "    return auction_str.strip().replace('PP', 'PASS').replace('DD', 'X').replace('RR', 'XX').split()"
   ]
  },
  {
   "cell_type": "code",
   "execution_count": 24,
   "metadata": {},
   "outputs": [],
   "source": [
    "seats = ['W', 'N', 'E', 'S']\n",
    "seat_index = {'W': 0, 'N': 1, 'E': 2, 'S': 3}"
   ]
  },
  {
   "cell_type": "code",
   "execution_count": 218,
   "metadata": {},
   "outputs": [],
   "source": [
    "class DealMeta():\n",
    "    \n",
    "    def __init__(self, dealer, vuln, level, strain, doubled, redoubled, declarer, tricks_made):\n",
    "        self.dealer = dealer\n",
    "        self.vuln = vuln\n",
    "        self.level = level\n",
    "        self.strain = strain\n",
    "        self.doubled = doubled\n",
    "        self.redoubled = redoubled\n",
    "        self.declarer = declarer\n",
    "        self.tricks_made = tricks_made\n",
    "        \n",
    "    @classmethod\n",
    "    def from_str(cls, s):\n",
    "        #W ALL 3N.-1.N\n",
    "        parts = s.strip().split()\n",
    "        outcome = parts[2]\n",
    "        outcome_parts = outcome.split('.')\n",
    "        level = int(outcome_parts[0][0])\n",
    "        doubled = 'X' in outcome_parts[0]\n",
    "        redoubled = 'XX' in outcome_parts[0]\n",
    "        strain = outcome_parts[0][1]\n",
    "        tricks_made = (level + 6) if outcome_parts[1] == '=' else (level + 6) + int(outcome_parts[1])\n",
    "        declarer = outcome_parts[2]\n",
    "        \n",
    "        return cls(\n",
    "            dealer=parts[0],\n",
    "            vuln=parts[1],\n",
    "            level=level,\n",
    "            strain=strain,\n",
    "            doubled=doubled,\n",
    "            redoubled=redoubled,\n",
    "            declarer=declarer,\n",
    "            tricks_made=tricks_made\n",
    "        )\n",
    "        \n",
    "    def leader(self):\n",
    "        return seats[(seat_index[self.declarer] + 1) % 4]\n",
    "    \n",
    "    def dealer_relative(self):\n",
    "        return (seat_index[self.dealer] - seat_index[self.leader()]) % 4\n",
    "    \n",
    "    def declarer_vuln(self):\n",
    "        if self.vuln == 'ALL':\n",
    "            return True\n",
    "        if self.vuln == '-':\n",
    "            return False\n",
    "        return self.declarer in self.vuln\n",
    "    \n",
    "    def leader_vuln(self):\n",
    "        if self.vuln == 'ALL':\n",
    "            return True\n",
    "        if self.vuln == '-':\n",
    "            return False\n",
    "        return self.leader() in self.vuln\n",
    "    \n",
    "    def get_n_pad_start(self):\n",
    "        dealer_ix = seat_index[self.dealer]\n",
    "        declarer_ix = seat_index[self.declarer]\n",
    "        \n",
    "        return (dealer_ix - declarer_ix) % 4\n",
    "    \n",
    "    def to_dict(self):\n",
    "        return {\n",
    "            'dealer': self.dealer,\n",
    "            'vuln': self.vuln,\n",
    "            'level': self.level,\n",
    "            'strain': self.strain,\n",
    "            'doubled': self.doubled,\n",
    "            'decarer': self.declarer,\n",
    "            'tricks_made': self.tricks_made,\n",
    "            'leader': self.leader(),\n",
    "            'declarer_vuln': self.declarer_vuln(),\n",
    "            'leader_vuln': self.leader_vuln()\n",
    "        }\n",
    "    "
   ]
  },
  {
   "cell_type": "code",
   "execution_count": 57,
   "metadata": {},
   "outputs": [
    {
     "data": {
      "text/plain": [
       "({'dealer': 'W',\n",
       "  'decarer': 'N',\n",
       "  'declarer_vuln': True,\n",
       "  'doubled': False,\n",
       "  'leader': 'E',\n",
       "  'leader_vuln': True,\n",
       "  'level': 3,\n",
       "  'strain': 'N',\n",
       "  'tricks_made': 8,\n",
       "  'vuln': 'ALL'},\n",
       " 3)"
      ]
     },
     "execution_count": 57,
     "metadata": {},
     "output_type": "execute_result"
    }
   ],
   "source": [
    "meta_str = 'W ALL 3N.-1.N'\n",
    "d = DealMeta.from_str(meta_str)\n",
    "d.to_dict(), d.get_n_pad_start()"
   ]
  },
  {
   "cell_type": "code",
   "execution_count": 118,
   "metadata": {},
   "outputs": [
    {
     "data": {
      "text/plain": [
       "numpy.float16"
      ]
     },
     "execution_count": 118,
     "metadata": {},
     "output_type": "execute_result"
    }
   ],
   "source": [
    "np.float16"
   ]
  },
  {
   "cell_type": "code",
   "execution_count": 141,
   "metadata": {},
   "outputs": [],
   "source": [
    "def binary_hand(suits):\n",
    "    x = np.zeros((1, 52), np.float16)\n",
    "    assert(len(suits) == 4)\n",
    "    for suit_index in [0, 1, 2, 3]:\n",
    "        for card in suits[suit_index]:\n",
    "            card_index = card_index_lookup[card]\n",
    "            x[0, suit_index * 13 + card_index] = 1\n",
    "    assert(np.sum(x) == 13)\n",
    "    return x"
   ]
  },
  {
   "cell_type": "code",
   "execution_count": 194,
   "metadata": {},
   "outputs": [],
   "source": [
    "def loss_array(card_tricks, max_loss=40):\n",
    "    assert(len(card_tricks) == 13)\n",
    "    x = max_loss * np.ones((1, 52), np.float16)\n",
    "    max_tricks = max(card_tricks.values())\n",
    "    for card, tricks in card_tricks.items():\n",
    "        loss = max_tricks - tricks\n",
    "        suit_index = suit_index_lookup[card[0]]\n",
    "        card_index = card_index_lookup[card[1]]\n",
    "        x[0, suit_index * 13 + card_index] = loss\n",
    "    \n",
    "    assert(np.sum(x < max_loss) == 13)\n",
    "    \n",
    "    return x"
   ]
  },
  {
   "cell_type": "code",
   "execution_count": 333,
   "metadata": {},
   "outputs": [],
   "source": [
    "def lead_data_iterator(fin):\n",
    "    lines = []\n",
    "    for i, line in enumerate(fin):\n",
    "        line = line.strip()\n",
    "        if i % 17 == 0 and i > 0:\n",
    "            deal_str = lines[0]\n",
    "            hands = list(map(lambda hand_str: list(map(list, hand_str.split('.'))), deal_str[2:].split()))\n",
    "            deal_meta = DealMeta.from_str(lines[1])\n",
    "            # auction\n",
    "            padded_auction = (['PAD_START'] * deal_meta.get_n_pad_start()) + convert_auction(lines[2])\n",
    "            n_pad_end = 4 - (len(padded_auction) % 4) if (len(padded_auction) % 4) > 0 else 0\n",
    "            padded_auction = padded_auction + (['PAD_END'] * n_pad_end)\n",
    "            padded_auction = padded_auction[:-4] if set(padded_auction[-4:]) == set(['PASS', 'PAD_END']) else padded_auction\n",
    "            # lead_tricks\n",
    "            lead_tricks = {}\n",
    "            for card_tricks_line in lines[4:]:\n",
    "                card, tricks = card_tricks_line.strip().split()\n",
    "                lead_tricks[card] = int(tricks)\n",
    "                \n",
    "            led_card = lines[3][:2]\n",
    "            max_tricks = max(lead_tricks.values())\n",
    "            \n",
    "            yield max_tricks - lead_tricks[led_card]   \n",
    "            #yield lines, hands, deal_meta, padded_auction, lead_tricks\n",
    "            \n",
    "            lines = []\n",
    "        \n",
    "        lines.append(line)"
   ]
  },
  {
   "cell_type": "code",
   "execution_count": 129,
   "metadata": {},
   "outputs": [
    {
     "data": {
      "text/plain": [
       "[['Q', '9', '6', '2'], ['A', 'T', '7'], ['6', '3', '2'], ['K', '8', '4']]"
      ]
     },
     "execution_count": 129,
     "metadata": {},
     "output_type": "execute_result"
    }
   ],
   "source": [
    "list(map(list, 'Q962.AT7.632.K84'.split('.')))"
   ]
  },
  {
   "cell_type": "code",
   "execution_count": 142,
   "metadata": {},
   "outputs": [
    {
     "data": {
      "text/plain": [
       "array([[ 0.,  0.,  0.,  1.,  0.,  0.,  0.,  0.,  0.,  1.,  0.,  0.,  0.,\n",
       "         0.,  1.,  0.,  0.,  0.,  0.,  1.,  0.,  1.,  0.,  0.,  1.,  0.,\n",
       "         0.,  1.,  0.,  0.,  1.,  0.,  0.,  1.,  1.,  1.,  0.,  1.,  1.,\n",
       "         0.,  0.,  0.,  0.,  0.,  0.,  0.,  0.,  0.,  0.,  0.,  0.,  0.]], dtype=float16)"
      ]
     },
     "execution_count": 142,
     "metadata": {},
     "output_type": "execute_result"
    }
   ],
   "source": [
    "binary_hand(list(map(list, 'J5.K863.KT76532.'.split('.'))))"
   ]
  },
  {
   "cell_type": "code",
   "execution_count": 136,
   "metadata": {},
   "outputs": [
    {
     "data": {
      "text/plain": [
       "array([-0.14282227,  0.4284668 ,  0.4284668 , -0.71435547], dtype=float16)"
      ]
     },
     "execution_count": 136,
     "metadata": {},
     "output_type": "execute_result"
    }
   ],
   "source": [
    "(np.sum(binary_hand(list(map(list, 'A73.QJ53.AQJ8.QJ'.split('.')))).reshape((4, 13)), axis=1) - 3.25) / 1.75"
   ]
  },
  {
   "cell_type": "code",
   "execution_count": 195,
   "metadata": {},
   "outputs": [
    {
     "data": {
      "text/plain": [
       "array([[ 8.,  8.,  1.,  1.,  1.,  8.,  1.,  8.,  8.,  8.,  8.,  8.,  8.,\n",
       "         8.,  8.,  8.,  8.,  8.,  8.,  8.,  8.,  8.,  0.,  8.,  8.,  8.,\n",
       "         1.,  8.,  8.,  0.,  8.,  8.,  8.,  0.,  8.,  8.,  0.,  8.,  8.,\n",
       "         0.,  8.,  2.,  2.,  2.,  8.,  8.,  8.,  8.,  8.,  8.,  8.,  8.]], dtype=float16)"
      ]
     },
     "execution_count": 195,
     "metadata": {},
     "output_type": "execute_result"
    }
   ],
   "source": [
    "loss_array({'CA': 5,\n",
    "  'CJ': 3,\n",
    "  'CQ': 3,\n",
    "  'CT': 3,\n",
    "  'D4': 5,\n",
    "  'D7': 5,\n",
    "  'DA': 4,\n",
    "  'DJ': 5,\n",
    "  'H5': 5,\n",
    "  'S8': 4,\n",
    "  'SJ': 4,\n",
    "  'SQ': 4,\n",
    "  'ST': 4}, 8)"
   ]
  },
  {
   "cell_type": "code",
   "execution_count": 347,
   "metadata": {},
   "outputs": [],
   "source": [
    "lead_it = lead_data_iterator(open('../data/leads_raw/BW5C_N.txt'))"
   ]
  },
  {
   "cell_type": "code",
   "execution_count": 348,
   "metadata": {},
   "outputs": [],
   "source": [
    "losses_nt = [l for l in lead_it]"
   ]
  },
  {
   "cell_type": "code",
   "execution_count": 344,
   "metadata": {},
   "outputs": [],
   "source": [
    "losses = [l for l in lead_it]"
   ]
  },
  {
   "cell_type": "code",
   "execution_count": 356,
   "metadata": {},
   "outputs": [
    {
     "data": {
      "image/png": "[encoded data removed]",
      "text/plain": [
       "<matplotlib.figure.Figure at 0x7f77558a76d8>"
      ]
     },
     "metadata": {},
     "output_type": "display_data"
    }
   ],
   "source": [
    "plt.hist(losses, 30, range=(0, 5), histtype='step', normed=True)\n",
    "plt.hist(losses_nt, 30, range=(0, 5), histtype='step', normed=True);"
   ]
  },
  {
   "cell_type": "code",
   "execution_count": 350,
   "metadata": {},
   "outputs": [
    {
     "data": {
      "text/plain": [
       "(0.18427085975145829, 0.34879138897704431, 0.22988261344556299)"
      ]
     },
     "execution_count": 350,
     "metadata": {},
     "output_type": "execute_result"
    }
   ],
   "source": [
    "np.mean(losses), np.mean(losses_nt), np.mean(losses + losses_nt)"
   ]
  },
  {
   "cell_type": "code",
   "execution_count": 178,
   "metadata": {},
   "outputs": [
    {
     "data": {
      "text/plain": [
       "(['W:KQJ952.98.AQ9.95 6.AQ6.T8765.AKJ3 T874.J73.K3.8742 A3.KT542.J42.QT6',\n",
       "  'N - 4S.-2.W',\n",
       "  '1D PP 1H 2S DD 3S 4D 4S PP PP PP',\n",
       "  'CAC2C6C5CKC4CTC9D8D3DJDASJS6S4SAH2H8HQH3HAH7H4H9D6DKD2D9S8S3S2D5C8CQS5C3DQD7C7D4S9H6S7H5SKDTSTHTSQCJHJHK',\n",
       "  'S6 5',\n",
       "  'HA 5',\n",
       "  'HQ 5',\n",
       "  'H6 5',\n",
       "  'DT 5',\n",
       "  'D8 5',\n",
       "  'D7 5',\n",
       "  'D6 5',\n",
       "  'D5 5',\n",
       "  'CA 5',\n",
       "  'CK 5',\n",
       "  'CJ 5',\n",
       "  'C3 5'],\n",
       " [[['K', 'Q', 'J', '9', '5', '2'], ['9', '8'], ['A', 'Q', '9'], ['9', '5']],\n",
       "  [['6'], ['A', 'Q', '6'], ['T', '8', '7', '6', '5'], ['A', 'K', 'J', '3']],\n",
       "  [['T', '8', '7', '4'], ['J', '7', '3'], ['K', '3'], ['8', '7', '4', '2']],\n",
       "  [['A', '3'], ['K', 'T', '5', '4', '2'], ['J', '4', '2'], ['Q', 'T', '6']]],\n",
       " {'dealer': 'N',\n",
       "  'decarer': 'W',\n",
       "  'declarer_vuln': False,\n",
       "  'doubled': False,\n",
       "  'leader': 'N',\n",
       "  'leader_vuln': False,\n",
       "  'level': 4,\n",
       "  'strain': 'S',\n",
       "  'tricks_made': 8,\n",
       "  'vuln': '-'},\n",
       " ['PAD_START',\n",
       "  '1D',\n",
       "  'PASS',\n",
       "  '1H',\n",
       "  '2S',\n",
       "  'X',\n",
       "  '3S',\n",
       "  '4D',\n",
       "  '4S',\n",
       "  'PASS',\n",
       "  'PASS',\n",
       "  'PASS'],\n",
       " {'C3': 5,\n",
       "  'CA': 5,\n",
       "  'CJ': 5,\n",
       "  'CK': 5,\n",
       "  'D5': 5,\n",
       "  'D6': 5,\n",
       "  'D7': 5,\n",
       "  'D8': 5,\n",
       "  'DT': 5,\n",
       "  'H6': 5,\n",
       "  'HA': 5,\n",
       "  'HQ': 5,\n",
       "  'S6': 5})"
      ]
     },
     "execution_count": 178,
     "metadata": {},
     "output_type": "execute_result"
    }
   ],
   "source": [
    "next(lead_it)"
   ]
  },
  {
   "cell_type": "code",
   "execution_count": 157,
   "metadata": {},
   "outputs": [
    {
     "data": {
      "text/plain": [
       "(1, 40)"
      ]
     },
     "execution_count": 157,
     "metadata": {},
     "output_type": "execute_result"
    }
   ],
   "source": [
    "bidding.encode_bid('PASS').shape"
   ]
  },
  {
   "cell_type": "code",
   "execution_count": 158,
   "metadata": {},
   "outputs": [],
   "source": [
    "X_bnn = np.load('./bw5c_bin/X_test.npy')"
   ]
  },
  {
   "cell_type": "code",
   "execution_count": 159,
   "metadata": {},
   "outputs": [
    {
     "data": {
      "text/plain": [
       "(50000, 4, 179)"
      ]
     },
     "execution_count": 159,
     "metadata": {},
     "output_type": "execute_result"
    }
   ],
   "source": [
    "X_bnn.shape"
   ]
  },
  {
   "cell_type": "code",
   "execution_count": 179,
   "metadata": {},
   "outputs": [],
   "source": [
    "def binary_auction(auction, n_bids=24):\n",
    "    assert(len(auction) % 4 == 0)\n",
    "    auction = auction if len(auction) < n_bids else auction[(len(auction) - n_bids):]\n",
    "    auction = (['PAD_START'] * (n_bids - len(auction))) + auction\n",
    "    assert(len(auction) == n_bids)\n",
    "    \n",
    "    x = np.zeros((1, n_bids, 40), np.float16)\n",
    "    \n",
    "    for i, bid in enumerate(auction):\n",
    "        x[0, i, :] = bidding.encode_bid(bid)\n",
    "        \n",
    "    assert(np.sum(x) == n_bids)\n",
    "    \n",
    "    return x"
   ]
  },
  {
   "cell_type": "code",
   "execution_count": 180,
   "metadata": {},
   "outputs": [],
   "source": [
    "binauction = binary_auction(['PAD_START', '1C', 'X', 'PASS', '1H', 'X', '3H', 'PASS'])"
   ]
  },
  {
   "cell_type": "code",
   "execution_count": 181,
   "metadata": {},
   "outputs": [
    {
     "data": {
      "text/plain": [
       "(1, 24, 40)"
      ]
     },
     "execution_count": 181,
     "metadata": {},
     "output_type": "execute_result"
    }
   ],
   "source": [
    "binauction.shape"
   ]
  },
  {
   "cell_type": "code",
   "execution_count": 182,
   "metadata": {},
   "outputs": [
    {
     "data": {
      "text/plain": [
       "array([ 1.,  0.,  0.,  0.,  0.,  0.,  0.,  0.,  0.,  0.,  0.,  0.,  0.,\n",
       "        0.,  0.,  0.,  0.,  0.,  0.,  0.,  0.,  0.,  0.,  0.,  0.,  0.,\n",
       "        0.,  0.,  0.,  0.,  0.,  0.,  0.,  0.,  0.,  0.,  0.,  0.,  0.,  0.], dtype=float16)"
      ]
     },
     "execution_count": 182,
     "metadata": {},
     "output_type": "execute_result"
    }
   ],
   "source": [
    "binauction[0, 16, :]"
   ]
  },
  {
   "cell_type": "code",
   "execution_count": 228,
   "metadata": {},
   "outputs": [
    {
     "data": {
      "text/plain": [
       "['W:QJ84.K98.A952.T5 K.64.KQJ76.QJ973 AT97532.AT2.T8.K 6.QJ753.43.A8642',\n",
       " 'E NS 4S.+1.E',\n",
       " '1S PP 3S PP 4S PP PP PP',\n",
       " 'HQH8H4HASAS6S4SKCKCAC5C7D4D2DJD8CQS3C6CTH2H3H9H6HKC3HTH5DAD6DTD3D5D7S2C2S5C4S8C9D9DQS7H7STC8SJCJSQDKS9HJ',\n",
       " 'S6 3',\n",
       " 'HQ 2',\n",
       " 'HJ 2',\n",
       " 'H7 2',\n",
       " 'H5 2',\n",
       " 'H3 2',\n",
       " 'D4 3',\n",
       " 'D3 3',\n",
       " 'CA 3',\n",
       " 'C8 2',\n",
       " 'C6 2',\n",
       " 'C4 2',\n",
       " 'C2 2']"
      ]
     },
     "execution_count": 228,
     "metadata": {},
     "output_type": "execute_result"
    }
   ],
   "source": [
    "lines"
   ]
  },
  {
   "cell_type": "code",
   "execution_count": 229,
   "metadata": {},
   "outputs": [
    {
     "data": {
      "text/plain": [
       "[[['Q', 'J', '8', '4'], ['K', '9', '8'], ['A', '9', '5', '2'], ['T', '5']],\n",
       " [['K'], ['6', '4'], ['K', 'Q', 'J', '7', '6'], ['Q', 'J', '9', '7', '3']],\n",
       " [['A', 'T', '9', '7', '5', '3', '2'], ['A', 'T', '2'], ['T', '8'], ['K']],\n",
       " [['6'], ['Q', 'J', '7', '5', '3'], ['4', '3'], ['A', '8', '6', '4', '2']]]"
      ]
     },
     "execution_count": 229,
     "metadata": {},
     "output_type": "execute_result"
    }
   ],
   "source": [
    "hands"
   ]
  },
  {
   "cell_type": "code",
   "execution_count": 230,
   "metadata": {},
   "outputs": [
    {
     "data": {
      "text/plain": [
       "array([[ 1.        ,  0.        ,  1.        ,  0.        ,  0.        ,\n",
       "         0.        ,  0.        ,  0.        ,  0.        ,  0.        ,\n",
       "         0.        ,  1.        ,  1.        ,  0.        , -1.28613281,\n",
       "         1.        , -0.71435547,  1.        ,  0.        ,  0.        ,\n",
       "         0.        ,  0.        ,  0.        ,  0.        ,  0.        ,\n",
       "         0.        ,  1.        ,  0.        ,  0.        ,  0.        ,\n",
       "         0.        ,  0.        ,  0.        ,  1.        ,  1.        ,\n",
       "         0.        ,  0.        ,  0.        ,  1.        ,  0.        ,\n",
       "         1.        ,  0.        ,  1.        ,  0.        ,  0.        ,\n",
       "         0.        ,  0.        ,  0.        ,  0.        ,  0.        ,\n",
       "         0.        ,  0.        ,  0.        ,  0.        ,  1.        ,\n",
       "         1.        ,  0.        ,  1.        ,  0.        ,  0.        ,\n",
       "         0.        ,  0.        ,  0.        ,  1.        ,  0.        ,\n",
       "         1.        ,  0.        ,  1.        ,  0.        ,  1.        ]], dtype=float16)"
      ]
     },
     "execution_count": 230,
     "metadata": {},
     "output_type": "execute_result"
    }
   ],
   "source": [
    "hand_features(hands, deal_meta)"
   ]
  },
  {
   "cell_type": "markdown",
   "metadata": {},
   "source": [
    "### hand features encoding\n",
    "\n",
    "shape = (1, 1 + 5 + 1 + 1 + 4 + 1 + 1 + 4 + 52) = (1, 70)\n",
    "\n",
    "- 0 = encoded level (actual level - 3)\n",
    "- 1,2,3,4,5 = strain one-hot (N, S, H, D, C)\n",
    "- 6 = doubled\n",
    "- 7 = redoubled\n",
    "- 8, 9, 10, 11 = dealer id (0=leader, 1=dummy, 2=partner, 3=declarer)\n",
    "- 12 = vuln leader\n",
    "- 13 = vuln declarer\n",
    "- 14, 15, 16, 17 = shape of hand (S, H, D, C)\n",
    "- 18:70 = cards themselves one-hot encoded, 52 features with 13 set to 1"
   ]
  },
  {
   "cell_type": "markdown",
   "metadata": {},
   "source": [
    "### Auction sequence encoding\n",
    "shape = (n_examples=?, n_bids=24, 40). the last dimension is the bid one-hot encoding"
   ]
  },
  {
   "cell_type": "code",
   "execution_count": 201,
   "metadata": {},
   "outputs": [],
   "source": [
    "def hand_features(hands, deal_meta):\n",
    "    x = np.zeros((1, 70), np.float16)\n",
    "    x[0, 0] = deal_meta.level - 3\n",
    "    if deal_meta.strain == 'N':\n",
    "        x[0, 1] = 1\n",
    "    else:\n",
    "        x[0, 2 + suit_index_lookup[deal_meta.strain]] = 1\n",
    "    if deal_meta.doubled:\n",
    "        x[0, 6] = 1\n",
    "    if deal_meta.redoubled:\n",
    "        x[0, 7] = 1\n",
    "    x[0, 8 + deal_meta.dealer_relative()] = 1\n",
    "    if deal_meta.leader_vuln():\n",
    "        x[0, 12] = 1\n",
    "    if deal_meta.declarer_vuln():\n",
    "        x[0, 13] = 1\n",
    "    h = binary_hand(hands[seat_index[deal_meta.leader()]])\n",
    "    shape = (np.sum(h.reshape((4, 13)), axis=1) - 3.25) / 1.75\n",
    "    x[0, 14:18] = shape\n",
    "    x[0, 18:70] = h\n",
    "    \n",
    "    return x"
   ]
  },
  {
   "cell_type": "markdown",
   "metadata": {},
   "source": [
    "### Prediction loss encoding\n",
    "\n",
    "shape = (1, 52)\n",
    "\n",
    "for every card there is a loss. cards that you don't have in your hand have a very large loss"
   ]
  },
  {
   "cell_type": "code",
   "execution_count": 172,
   "metadata": {},
   "outputs": [
    {
     "data": {
      "text/plain": [
       "70"
      ]
     },
     "execution_count": 172,
     "metadata": {},
     "output_type": "execute_result"
    }
   ],
   "source": [
    "1 + 5 + 1 + 1 + 4 + 1 + 1 + 4 + 52"
   ]
  },
  {
   "cell_type": "markdown",
   "metadata": {},
   "source": [
    "### Trying if it works"
   ]
  },
  {
   "cell_type": "code",
   "execution_count": 232,
   "metadata": {},
   "outputs": [],
   "source": [
    "A = np.load('../data/leads_bin/A.npy')\n",
    "H = np.load('../data/leads_bin/H.npy')\n",
    "C = np.load('../data/leads_bin/C.npy')"
   ]
  },
  {
   "cell_type": "code",
   "execution_count": 251,
   "metadata": {},
   "outputs": [],
   "source": [
    "i = -1\n",
    "lead_it = lead_data_iterator(open('../data/leads_raw/BW5C_N.txt'))"
   ]
  },
  {
   "cell_type": "code",
   "execution_count": 293,
   "metadata": {},
   "outputs": [
    {
     "data": {
      "text/plain": [
       "(1,\n",
       " ['W:A653.987.8752.74 942.T32.Q43.AKJ3 KQJ.KQ6.KJ6.QT98 T87.AJ54.AT9.652',\n",
       "  'E EW 1N.-1.E',\n",
       "  '1N PP PP PP',\n",
       "  'H4H7HTHKSKS8S3S9SJS7S5S2SQSTSAS4S6H2C9C6C4CKC8C5H3HQHAH8HJH9D3H6H5D2C3D6C2C7CACTCJCQD9D5DJDTD7DQD4DKDAD8',\n",
       "  'ST 7',\n",
       "  'S8 7',\n",
       "  'S7 7',\n",
       "  'HA 6',\n",
       "  'HJ 6',\n",
       "  'H5 7',\n",
       "  'H4 7',\n",
       "  'DA 6',\n",
       "  'DT 7',\n",
       "  'D9 7',\n",
       "  'C6 7',\n",
       "  'C5 7',\n",
       "  'C2 7'],\n",
       " ['1N', 'PASS', 'PASS', 'PASS'])"
      ]
     },
     "execution_count": 293,
     "metadata": {},
     "output_type": "execute_result"
    }
   ],
   "source": [
    "i += 1\n",
    "lines, _, _, padded_auction, _ = next(lead_it)\n",
    "i, lines, padded_auction"
   ]
  },
  {
   "cell_type": "code",
   "execution_count": 322,
   "metadata": {},
   "outputs": [],
   "source": [
    "i = 1285625 // 17 - 1"
   ]
  },
  {
   "cell_type": "code",
   "execution_count": 323,
   "metadata": {},
   "outputs": [
    {
     "data": {
      "text/plain": [
       "['1C', 'PASS', '1S', 'PASS', '3C', 'PASS', '3N', 'PASS', 'PASS', 'PASS']"
      ]
     },
     "execution_count": 323,
     "metadata": {},
     "output_type": "execute_result"
    }
   ],
   "source": [
    "recovered_auction = [bidding.ID2BID[np.argmax(A[i, k, :])] for k in range(24)]\n",
    "recovered_auction[(24 - list(reversed(recovered_auction)).index('PAD_START')):]"
   ]
  },
  {
   "cell_type": "code",
   "execution_count": 324,
   "metadata": {},
   "outputs": [
    {
     "data": {
      "text/plain": [
       "array([[ 40.,   1.,  40.,   2.,  40.,  40.,  40.,  40.,  40.,   1.,   1.,\n",
       "         40.,   1.],\n",
       "       [ 40.,  40.,  40.,  40.,  40.,  40.,  40.,  40.,   0.,  40.,  40.,\n",
       "         40.,  40.],\n",
       "       [ 40.,  40.,  40.,  40.,  40.,  40.,   0.,   0.,   0.,  40.,  40.,\n",
       "         40.,  40.],\n",
       "       [ 40.,  40.,  40.,   1.,   1.,  40.,  40.,  40.,  40.,   0.,  40.,\n",
       "          0.,  40.]], dtype=float16)"
      ]
     },
     "execution_count": 324,
     "metadata": {},
     "output_type": "execute_result"
    }
   ],
   "source": [
    "C[i].reshape(4, 13)"
   ]
  },
  {
   "cell_type": "code",
   "execution_count": 325,
   "metadata": {},
   "outputs": [
    {
     "data": {
      "text/plain": [
       "0.0"
      ]
     },
     "execution_count": 325,
     "metadata": {},
     "output_type": "execute_result"
    }
   ],
   "source": [
    "H[i, 0]"
   ]
  },
  {
   "cell_type": "code",
   "execution_count": 326,
   "metadata": {},
   "outputs": [
    {
     "data": {
      "text/plain": [
       "array([ 1.,  0.,  0.,  0.,  0.], dtype=float16)"
      ]
     },
     "execution_count": 326,
     "metadata": {},
     "output_type": "execute_result"
    }
   ],
   "source": [
    "H[i, 1:6]"
   ]
  },
  {
   "cell_type": "code",
   "execution_count": 327,
   "metadata": {},
   "outputs": [
    {
     "data": {
      "text/plain": [
       "array([ 0.,  0.], dtype=float16)"
      ]
     },
     "execution_count": 327,
     "metadata": {},
     "output_type": "execute_result"
    }
   ],
   "source": [
    "H[i, 6:8]"
   ]
  },
  {
   "cell_type": "code",
   "execution_count": 328,
   "metadata": {},
   "outputs": [
    {
     "data": {
      "text/plain": [
       "array([ 0.,  1.,  0.,  0.], dtype=float16)"
      ]
     },
     "execution_count": 328,
     "metadata": {},
     "output_type": "execute_result"
    }
   ],
   "source": [
    "H[i, 8:12]"
   ]
  },
  {
   "cell_type": "code",
   "execution_count": 329,
   "metadata": {},
   "outputs": [
    {
     "data": {
      "text/plain": [
       "array([ 0.,  0.], dtype=float16)"
      ]
     },
     "execution_count": 329,
     "metadata": {},
     "output_type": "execute_result"
    }
   ],
   "source": [
    "H[i, 12:14]"
   ]
  },
  {
   "cell_type": "code",
   "execution_count": 330,
   "metadata": {},
   "outputs": [
    {
     "data": {
      "text/plain": [
       "array([ 1.        , -1.28613281, -0.14282227,  0.4284668 ], dtype=float16)"
      ]
     },
     "execution_count": 330,
     "metadata": {},
     "output_type": "execute_result"
    }
   ],
   "source": [
    "H[i, 14:18]"
   ]
  },
  {
   "cell_type": "code",
   "execution_count": 331,
   "metadata": {},
   "outputs": [
    {
     "data": {
      "text/plain": [
       "array([ 0.,  1.,  0.,  1.,  0.,  0.,  0.,  0.,  0.,  1.,  1.,  0.,  1.,\n",
       "        0.,  0.,  0.,  0.,  0.,  0.,  0.,  0.,  1.,  0.,  0.,  0.,  0.,\n",
       "        0.,  0.,  0.,  0.,  0.,  0.,  1.,  1.,  1.,  0.,  0.,  0.,  0.,\n",
       "        0.,  0.,  0.,  1.,  1.,  0.,  0.,  0.,  0.,  1.,  0.,  1.,  0.], dtype=float16)"
      ]
     },
     "execution_count": 331,
     "metadata": {},
     "output_type": "execute_result"
    }
   ],
   "source": [
    "H[i, 18:]"
   ]
  },
  {
   "cell_type": "code",
   "execution_count": 332,
   "metadata": {},
   "outputs": [
    {
     "data": {
      "text/plain": [
       "array([ 0.,  2.,  0.,  3.,  0.,  0.,  0.,  0.,  0.,  2.,  2.,  0.,  2.,\n",
       "        0.,  0.,  0.,  0.,  0.,  0.,  0.,  0.,  1.,  0.,  0.,  0.,  0.,\n",
       "        0.,  0.,  0.,  0.,  0.,  0.,  1.,  1.,  1.,  0.,  0.,  0.,  0.,\n",
       "        0.,  0.,  0.,  2.,  2.,  0.,  0.,  0.,  0.,  1.,  0.,  1.,  0.], dtype=float16)"
      ]
     },
     "execution_count": 332,
     "metadata": {},
     "output_type": "execute_result"
    }
   ],
   "source": [
    "H[i, 18:] * (C[i] + 1)"
   ]
  },
  {
   "cell_type": "code",
   "execution_count": null,
   "metadata": {},
   "outputs": [],
   "source": []
  }
 ],
 "metadata": {
  "kernelspec": {
   "display_name": "Python 3",
   "language": "python",
   "name": "python3"
  },
  "language_info": {
   "codemirror_mode": {
    "name": "ipython",
    "version": 3
   },
   "file_extension": ".py",
   "mimetype": "text/x-python",
   "name": "python",
   "nbconvert_exporter": "python",
   "pygments_lexer": "ipython3",
   "version": "3.5.4"
  }
 },
 "nbformat": 4,
 "nbformat_minor": 2
}
