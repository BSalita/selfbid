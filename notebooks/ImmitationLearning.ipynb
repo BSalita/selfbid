{
 "cells": [
  {
   "cell_type": "code",
   "execution_count": 1,
   "metadata": {},
   "outputs": [],
   "source": [
    "import sys\n",
    "import gzip\n",
    "\n",
    "import numpy as np\n",
    "import tensorflow as tf\n",
    "\n",
    "from binary_sayc import load_deals, DealData\n",
    "from simulator import Simulator\n",
    "from eval_bidding import eval_bidding"
   ]
  },
  {
   "cell_type": "code",
   "execution_count": 2,
   "metadata": {},
   "outputs": [
    {
     "name": "stdout",
     "output_type": "stream",
     "text": [
      "INFO:tensorflow:Restoring parameters from ../model/sayc-500000\n"
     ]
    }
   ],
   "source": [
    "sess = tf.InteractiveSession()\n",
    "saver = tf.train.import_meta_graph('../model/sayc-500000.meta')\n",
    "saver.restore(sess, '../model/sayc-500000')\n",
    "\n",
    "graph = tf.get_default_graph()\n",
    "\n",
    "seq_in = graph.get_tensor_by_name('seq_in:0')\n",
    "seq_out = graph.get_tensor_by_name('seq_out:0')\n",
    "keep_prob = graph.get_tensor_by_name('keep_prob:0')\n",
    "\n",
    "out_bid_logit = graph.get_tensor_by_name('out_bid_logit:0')\n",
    "out_bid_target = graph.get_tensor_by_name('out_bid_target:0')"
   ]
  },
  {
   "cell_type": "code",
   "execution_count": 3,
   "metadata": {},
   "outputs": [],
   "source": [
    "def model(sess, p_keep=1.0):\n",
    "    def pred_fun(X):\n",
    "        bids = sess.run(out_bid_logit, feed_dict={seq_in: X, keep_prob: p_keep})\n",
    "        return sess.run(tf.nn.softmax(bids[-1]))\n",
    "    return pred_fun"
   ]
  },
  {
   "cell_type": "code",
   "execution_count": null,
   "metadata": {},
   "outputs": [],
   "source": []
  },
  {
   "cell_type": "code",
   "execution_count": 4,
   "metadata": {},
   "outputs": [],
   "source": [
    "cost = tf.losses.softmax_cross_entropy(out_bid_target, out_bid_logit)\n",
    "\n",
    "#train_step = tf.train.AdamOptimizer(0.001).minimize(cost)\n",
    "train_step = graph.get_operation_by_name('softmax_w/Adam')"
   ]
  },
  {
   "cell_type": "code",
   "execution_count": null,
   "metadata": {},
   "outputs": [],
   "source": []
  },
  {
   "cell_type": "code",
   "execution_count": null,
   "metadata": {},
   "outputs": [],
   "source": [
    "reader = load_deals(gzip.open('../deals_bidding_valid_0001.gz'))"
   ]
  },
  {
   "cell_type": "code",
   "execution_count": null,
   "metadata": {},
   "outputs": [
    {
     "name": "stdout",
     "output_type": "stream",
     "text": [
      "...................................................................................................."
     ]
    }
   ],
   "source": [
    "for i, (deal_str, auction_str, contracts) in enumerate(reader):\n",
    "    if i % 10 == 0:\n",
    "        sys.stdout.write('.')\n",
    "    deal_data = DealData.from_deal_auction_string(deal_str, auction_str)\n",
    "    deal_data.reset_auction()\n",
    "    init_auction = deal_data.auction\n",
    "    \n",
    "    sim = Simulator(deal_data, contracts, model(sess, 0.95))\n",
    "    \n",
    "    best_score, best_auction = sim.best_auction(init_auction, 10)\n",
    "    \n",
    "    deal_data.auction = best_auction\n",
    "    \n",
    "    n_time_steps = (len(best_auction) // 4) + 1\n",
    "    \n",
    "    X, y = deal_data.get_binary(n_time_steps)\n",
    "    \n",
    "    sess.run(train_step, feed_dict={seq_in: X, seq_out: y, keep_prob: 0.8})"
   ]
  },
  {
   "cell_type": "code",
   "execution_count": null,
   "metadata": {},
   "outputs": [],
   "source": []
  },
  {
   "cell_type": "code",
   "execution_count": null,
   "metadata": {},
   "outputs": [],
   "source": [
    "def apply_bidding(bid_model, fin, fout):\n",
    "    reader = load_deals(fin)\n",
    "    for i, (deal_str, auction_str, contracts) in enumerate(reader):\n",
    "        if i % 10 == 0:\n",
    "            sys.stdout.write('.')\n",
    "        if i > 100:\n",
    "            break\n",
    "        deal_data = DealData.from_deal_auction_string(deal_str, auction_str)\n",
    "        deal_data.reset_auction()\n",
    "        init_auction = deal_data.auction\n",
    "        sim = Simulator(deal_data, contracts, bid_model)\n",
    "        auction = [('P' if bid == 'PASS' else bid) for bid in sim.simulate_auction(init_auction, True) if bid != 'PAD_START']\n",
    "        fout.write((' ' + deal_str + '\\n').encode('ascii'))\n",
    "        fout.write((' ' + ' '.join(auction_str.split()[:2] + auction)).encode('ascii'))\n",
    "        fout.write('\\n'.encode('ascii'))\n",
    "        for contract, (score1, score2) in contracts.items():\n",
    "            fout.write(('{}\\t{}\\t{}\\n'. format(contract, score1, score2)).encode('ascii'))"
   ]
  },
  {
   "cell_type": "code",
   "execution_count": null,
   "metadata": {},
   "outputs": [],
   "source": [
    "fout = gzip.open('../test1.gz', 'w')\n",
    "apply_bidding(model(sess), gzip.open('../deals_bidding_valid_0001.gz'), fout)\n",
    "fout.close()"
   ]
  },
  {
   "cell_type": "code",
   "execution_count": null,
   "metadata": {},
   "outputs": [],
   "source": [
    "eval_bidding(gzip.open('../test1.gz'))"
   ]
  },
  {
   "cell_type": "code",
   "execution_count": null,
   "metadata": {},
   "outputs": [],
   "source": []
  }
 ],
 "metadata": {
  "kernelspec": {
   "display_name": "Python 3",
   "language": "python",
   "name": "python3"
  },
  "language_info": {
   "codemirror_mode": {
    "name": "ipython",
    "version": 3
   },
   "file_extension": ".py",
   "mimetype": "text/x-python",
   "name": "python",
   "nbconvert_exporter": "python",
   "pygments_lexer": "ipython3",
   "version": "3.5.4"
  }
 },
 "nbformat": 4,
 "nbformat_minor": 2
}
