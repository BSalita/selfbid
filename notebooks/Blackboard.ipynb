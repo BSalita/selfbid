{
 "cells": [
  {
   "cell_type": "code",
   "execution_count": 1,
   "metadata": {},
   "outputs": [],
   "source": [
    "import time\n",
    "import numpy as np\n",
    "import gzip\n",
    "import tensorflow as tf\n",
    "import pandas as pd\n",
    "\n",
    "import data_access as data\n",
    "\n",
    "from tqdm import tqdm"
   ]
  },
  {
   "cell_type": "code",
   "execution_count": 2,
   "metadata": {},
   "outputs": [],
   "source": [
    "reader = data.load_deals(gzip.open('../testdata.gz'))"
   ]
  },
  {
   "cell_type": "code",
   "execution_count": 3,
   "metadata": {},
   "outputs": [],
   "source": [
    "X, contracts = next(reader)"
   ]
  },
  {
   "cell_type": "code",
   "execution_count": 4,
   "metadata": {},
   "outputs": [
    {
     "data": {
      "text/plain": [
       "array([[ 0.,  1.,  0.,  0.,  0.,  0.,  0.,  0.,  1.,  0.,  0.,  1.,  0.],\n",
       "       [ 0.,  0.,  0.,  0.,  1.,  0.,  0.,  0.,  0.,  1.,  0.,  1.,  1.],\n",
       "       [ 0.,  0.,  0.,  0.,  1.,  1.,  1.,  1.,  0.,  0.,  0.,  0.,  0.],\n",
       "       [ 0.,  0.,  0.,  1.,  0.,  0.,  0.,  0.,  1.,  0.,  0.,  0.,  0.]])"
      ]
     },
     "execution_count": 4,
     "metadata": {},
     "output_type": "execute_result"
    }
   ],
   "source": [
    "X[0,:,:,3]"
   ]
  },
  {
   "cell_type": "code",
   "execution_count": 5,
   "metadata": {},
   "outputs": [
    {
     "data": {
      "text/plain": [
       "array([[ 0.,  1.,  0.,  0.,  0.,  0.,  0.,  0.,  1.,  0.,  0.,  1.,  0.,\n",
       "         0.,  0.,  0.,  0.,  1.,  0.,  0.,  0.,  0.,  1.,  0.,  1.,  1.,\n",
       "         0.,  0.,  0.,  0.,  1.,  1.,  1.,  1.,  0.,  0.,  0.,  0.,  0.,\n",
       "         0.,  0.,  0.,  1.,  0.,  0.,  0.,  0.,  1.,  0.,  0.,  0.,  0.]])"
      ]
     },
     "execution_count": 5,
     "metadata": {},
     "output_type": "execute_result"
    }
   ],
   "source": [
    "X[0,:,:,3].reshape((1, 52))"
   ]
  },
  {
   "cell_type": "code",
   "execution_count": 6,
   "metadata": {},
   "outputs": [],
   "source": [
    "n_bids = len(data.bid2id)"
   ]
  },
  {
   "cell_type": "code",
   "execution_count": 7,
   "metadata": {},
   "outputs": [],
   "source": [
    "num_steps = 32\n",
    "lstm_size = 128\n",
    "\n",
    "lstm = tf.nn.rnn_cell.BasicLSTMCell(lstm_size)\n",
    "\n",
    "x_in = tf.placeholder(tf.float32, [1, 2 + 3*n_bids + 52], 'x_in')\n",
    "\n",
    "state_c = tf.placeholder(tf.float32, [1, lstm.state_size.c], 'state_c')\n",
    "state_h = tf.placeholder(tf.float32, [1, lstm.state_size.h], 'state_h')\n",
    "\n",
    "init_c = np.zeros((1, lstm.state_size.c))\n",
    "init_h = np.zeros((1, lstm.state_size.h))\n",
    "\n",
    "softmax_w = tf.get_variable('softmax_w', shape=[lstm.output_size, n_bids], dtype=tf.float32, initializer=tf.contrib.layers.xavier_initializer(seed=1337))\n",
    "softmax_b = tf.Variable(np.zeros((1, n_bids)), dtype=tf.float32)\n"
   ]
  },
  {
   "cell_type": "code",
   "execution_count": 8,
   "metadata": {},
   "outputs": [],
   "source": [
    "sess = tf.InteractiveSession()"
   ]
  },
  {
   "cell_type": "code",
   "execution_count": 9,
   "metadata": {},
   "outputs": [],
   "source": [
    "def encode_bid(bid):\n",
    "    bid_one_hot = np.zeros((1, n_bids), dtype=np.float32)\n",
    "    bid_one_hot[0, data.bid2id[bid]] = 1\n",
    "    return bid_one_hot\n",
    "\n",
    "def get_input(lho_bid, partner_bid, rho_bid, hand, v_we, v_them):\n",
    "    vuln = np.array([[v_we, v_them]], dtype=np.float32)\n",
    "    return np.concatenate((vuln, encode_bid(lho_bid), encode_bid(partner_bid), encode_bid(rho_bid), hand), axis=1)"
   ]
  },
  {
   "cell_type": "code",
   "execution_count": 10,
   "metadata": {},
   "outputs": [],
   "source": [
    "x_in_0 = get_input('PAD_START', 'PAD_START', 'PAD_START', X[0,:,:,0].reshape((1, 52)), False, False)"
   ]
  },
  {
   "cell_type": "code",
   "execution_count": 11,
   "metadata": {},
   "outputs": [],
   "source": [
    "output, (next_c, next_h) = lstm(x_in, (state_c, state_h))"
   ]
  },
  {
   "cell_type": "code",
   "execution_count": 12,
   "metadata": {},
   "outputs": [
    {
     "data": {
      "text/plain": [
       "TensorShape([Dimension(1), Dimension(128)])"
      ]
     },
     "execution_count": 12,
     "metadata": {},
     "output_type": "execute_result"
    }
   ],
   "source": [
    "output.shape"
   ]
  },
  {
   "cell_type": "code",
   "execution_count": 13,
   "metadata": {},
   "outputs": [],
   "source": [
    "out_bid = tf.nn.softmax(tf.add(tf.matmul(output, softmax_w), softmax_b))"
   ]
  },
  {
   "cell_type": "code",
   "execution_count": 14,
   "metadata": {},
   "outputs": [
    {
     "data": {
      "text/plain": [
       "TensorShape([Dimension(1), Dimension(40)])"
      ]
     },
     "execution_count": 14,
     "metadata": {},
     "output_type": "execute_result"
    }
   ],
   "source": [
    "out_bid.shape"
   ]
  },
  {
   "cell_type": "code",
   "execution_count": 15,
   "metadata": {},
   "outputs": [],
   "source": [
    "sess.run(tf.global_variables_initializer())"
   ]
  },
  {
   "cell_type": "code",
   "execution_count": 16,
   "metadata": {},
   "outputs": [
    {
     "name": "stdout",
     "output_type": "stream",
     "text": [
      "CPU times: user 0 ns, sys: 0 ns, total: 0 ns\n",
      "Wall time: 10 µs\n"
     ]
    }
   ],
   "source": [
    "%time\n",
    "out_bid_0 = sess.run(out_bid, feed_dict={x_in: x_in_0, state_c: init_c, state_h: init_h})"
   ]
  },
  {
   "cell_type": "code",
   "execution_count": 17,
   "metadata": {},
   "outputs": [
    {
     "name": "stdout",
     "output_type": "stream",
     "text": [
      "CPU times: user 0 ns, sys: 0 ns, total: 0 ns\n",
      "Wall time: 7.63 µs\n"
     ]
    },
    {
     "data": {
      "text/plain": [
       "array([[ 0.03513054, -0.14355598, -0.04834708, -0.25853854,  0.08921582,\n",
       "        -0.03133602, -0.17231166, -0.1114969 ,  0.0155274 , -0.12208191,\n",
       "         0.02189039,  0.13560772,  0.23195234,  0.06138988,  0.16721036,\n",
       "         0.05136308,  0.03310371, -0.04438537,  0.0465861 ,  0.12211782,\n",
       "        -0.01246611,  0.05344652,  0.0482442 ,  0.08670079, -0.01844062,\n",
       "         0.02018764, -0.02305588, -0.06913504, -0.01867585,  0.09721985,\n",
       "        -0.00559311, -0.12044452, -0.0604309 , -0.15839787, -0.08757549,\n",
       "        -0.00179401,  0.12353435, -0.01312838,  0.0290947 , -0.11663657,\n",
       "         0.10123291,  0.07003731, -0.1912934 , -0.05704527,  0.07295059,\n",
       "        -0.04472804, -0.14155932, -0.0686332 ,  0.14684923,  0.07269339,\n",
       "        -0.09894346, -0.01096533, -0.00671386,  0.16663069, -0.13340357,\n",
       "         0.12920776,  0.12024439,  0.05776527,  0.03414896, -0.05918268,\n",
       "         0.06411506, -0.20459491,  0.01481543, -0.05068365, -0.11199539,\n",
       "        -0.12375126,  0.0349847 , -0.0434694 ,  0.09602185,  0.00410836,\n",
       "        -0.18932508,  0.06741162,  0.02932602, -0.03409465, -0.0651767 ,\n",
       "         0.10412204,  0.16395161,  0.04624749, -0.04950162,  0.03229711,\n",
       "         0.05081525,  0.08170961,  0.0643528 , -0.07293911, -0.06254891,\n",
       "        -0.02459103, -0.16497582,  0.16760123, -0.03510851,  0.01829706,\n",
       "        -0.08549584,  0.11810851,  0.04482622,  0.22756569,  0.049584  ,\n",
       "         0.01638644,  0.12512542, -0.17367999,  0.14117754,  0.02169894,\n",
       "         0.05722043,  0.0628214 ,  0.10750394,  0.06296778, -0.12625374,\n",
       "        -0.12443253, -0.11700005, -0.0363951 , -0.0014588 ,  0.07922847,\n",
       "        -0.03039447,  0.13433897,  0.03786255,  0.10612185,  0.10310991,\n",
       "        -0.03860869, -0.01919424, -0.07488135, -0.00483634, -0.08390737,\n",
       "        -0.08268435, -0.00344289,  0.05032261,  0.11928655, -0.16411532,\n",
       "         0.15006764,  0.07669684,  0.11909609]], dtype=float32)"
      ]
     },
     "execution_count": 17,
     "metadata": {},
     "output_type": "execute_result"
    }
   ],
   "source": [
    "%time\n",
    "sess.run(next_c, feed_dict={x_in: x_in_0, state_c: init_c, state_h: init_h})"
   ]
  },
  {
   "cell_type": "code",
   "execution_count": 18,
   "metadata": {},
   "outputs": [
    {
     "name": "stdout",
     "output_type": "stream",
     "text": [
      "CPU times: user 0 ns, sys: 0 ns, total: 0 ns\n",
      "Wall time: 8.11 µs\n"
     ]
    },
    {
     "data": {
      "text/plain": [
       "array([[ 0.01609665, -0.06077044, -0.0244471 , -0.11951753,  0.04720319,\n",
       "        -0.01583029, -0.09008619, -0.05796791,  0.00710448, -0.06521562,\n",
       "         0.01134629,  0.07159963,  0.12322612,  0.02933597,  0.08318885,\n",
       "         0.02335306,  0.01485762, -0.02142076,  0.02155773,  0.0500484 ,\n",
       "        -0.00569134,  0.02838464,  0.02571752,  0.04851871, -0.00996098,\n",
       "         0.00952325, -0.01223299, -0.03512239, -0.00959018,  0.04428341,\n",
       "        -0.00294821, -0.04804185, -0.02793876, -0.08189852, -0.0399058 ,\n",
       "        -0.00098585,  0.06023633, -0.00734918,  0.01595885, -0.04753117,\n",
       "         0.05711212,  0.04230979, -0.0900789 , -0.02749023,  0.03292326,\n",
       "        -0.02333415, -0.07432293, -0.03431798,  0.0708868 ,  0.04081799,\n",
       "        -0.05996556, -0.00462106, -0.00383686,  0.08142198, -0.0602603 ,\n",
       "         0.07056093,  0.06388619,  0.02556089,  0.01600537, -0.0260678 ,\n",
       "         0.03419851, -0.0836817 ,  0.00904017, -0.0261287 , -0.06259164,\n",
       "        -0.05950082,  0.02166935, -0.02150986,  0.04619922,  0.00189521,\n",
       "        -0.09875633,  0.03284742,  0.01384741, -0.01562504, -0.03442647,\n",
       "         0.05077919,  0.08303946,  0.0239062 , -0.02225423,  0.01660663,\n",
       "         0.02303039,  0.03922651,  0.03459581, -0.03365136, -0.02563243,\n",
       "        -0.01177645, -0.08098158,  0.08319194, -0.01869596,  0.00963518,\n",
       "        -0.03532844,  0.05443655,  0.02631378,  0.09011929,  0.02755294,\n",
       "         0.00826012,  0.06190543, -0.09722213,  0.07295705,  0.01192955,\n",
       "         0.02703522,  0.03401733,  0.06528106,  0.02878009, -0.05768168,\n",
       "        -0.06384443, -0.06153249, -0.01991335, -0.00074378,  0.04373159,\n",
       "        -0.01482092,  0.06845835,  0.0168776 ,  0.05885676,  0.05268728,\n",
       "        -0.01982666, -0.00972878, -0.04201872, -0.00278913, -0.03988643,\n",
       "        -0.03572709, -0.00170624,  0.02490802,  0.06156901, -0.08662492,\n",
       "         0.0936728 ,  0.04492852,  0.0587143 ]], dtype=float32)"
      ]
     },
     "execution_count": 18,
     "metadata": {},
     "output_type": "execute_result"
    }
   ],
   "source": [
    "%time\n",
    "sess.run(next_h, feed_dict={x_in: x_in_0, state_c: init_c, state_h: init_h})"
   ]
  },
  {
   "cell_type": "code",
   "execution_count": 19,
   "metadata": {},
   "outputs": [
    {
     "data": {
      "text/plain": [
       "array([[ 0.02403424,  0.02583252,  0.02387475,  0.02665216,  0.02560438,\n",
       "         0.02573131,  0.02635817,  0.02497757,  0.02397253,  0.02405758,\n",
       "         0.02471473,  0.02511335,  0.02500698,  0.02724934,  0.02502115,\n",
       "         0.02674881,  0.02768386,  0.02175892,  0.02438564,  0.02438872,\n",
       "         0.02244969,  0.02404417,  0.02820112,  0.02514033,  0.02555827,\n",
       "         0.02259923,  0.02541686,  0.02523277,  0.02372505,  0.02530306,\n",
       "         0.02331924,  0.02489634,  0.0217726 ,  0.02369095,  0.02368653,\n",
       "         0.02635667,  0.02726492,  0.02482493,  0.02679865,  0.02655185]], dtype=float32)"
      ]
     },
     "execution_count": 19,
     "metadata": {},
     "output_type": "execute_result"
    }
   ],
   "source": [
    "out_bid_0"
   ]
  },
  {
   "cell_type": "code",
   "execution_count": 137,
   "metadata": {},
   "outputs": [],
   "source": [
    "def is_contract(bid):\n",
    "    return bid[0].isdigit()\n",
    "\n",
    "def can_double(auction):\n",
    "    if len(auction) == 0:\n",
    "        return False\n",
    "    if is_contract(auction[-1]):\n",
    "        return True\n",
    "    if len(auction) >= 3 and is_contract(auction[-3]) and auction[-2] == 'PASS' and auction[-1] == 'PASS':\n",
    "        return True\n",
    "    return False\n",
    "\n",
    "def can_redouble(auction):\n",
    "    if len(auction) == 0:\n",
    "        return False\n",
    "    if auction[-1] == 'X':\n",
    "        return True\n",
    "    if len(auction) >= 3 and auction[-3] == 'X' and auction[-2] == 'PASS' and auction[-1] == 'PASS':\n",
    "        return True\n",
    "    return False\n",
    "\n",
    "def last_contract(auction):\n",
    "    for bid in reversed(auction):\n",
    "        if is_contract(bid):\n",
    "            return bid\n",
    "    return None\n",
    "\n",
    "def contract_level_step(contract):\n",
    "    return int(contract[0])*5 + data.suit_rank[contract[1]]\n",
    "\n",
    "def is_higher_contract(this_contract, other_contract):\n",
    "    return contract_level_step(this_contract) > contract_level_step(other_contract)\n",
    "\n",
    "def can_bid_contract(bid, auction):\n",
    "    assert is_contract(bid)\n",
    "    contract = last_contract(auction)\n",
    "    if contract is None:\n",
    "        return True\n",
    "    return is_higher_contract(bid, contract)\n",
    "\n",
    "def auction_over(auction):\n",
    "    if len(auction) < 4:\n",
    "        return False\n",
    "    if auction[-1] == 'PAD_END':\n",
    "        return True\n",
    "    contract = last_contract(auction)\n",
    "    if contract is None:\n",
    "        return all([bid == 'PASS' for bid in auction[-4:]]) and all([bid == 'PAD_START' for bid in auction[:-4]])\n",
    "    else:\n",
    "        return all([bid == 'PASS' for bid in auction[-3:]])\n",
    "\n",
    "def can_bid(bid, auction):\n",
    "    if bid == 'PASS':\n",
    "        return True\n",
    "    if bid == 'X':\n",
    "        return can_double(auction)\n",
    "    if bid == 'XX':\n",
    "        return can_redouble(auction)\n",
    "    if is_contract(bid):\n",
    "        return can_bid_contract(bid, auction)\n",
    "    return False\n",
    "\n",
    "def sample_bid(auction, from_bids):\n",
    "    if auction_over(auction):\n",
    "        return 'PAD_END'\n",
    "    while True:\n",
    "        bid_one_hot = np.random.multinomial(1, from_bids[0])\n",
    "        bid_id = np.argmax(bid_one_hot)\n",
    "        bid = data.id2bid[bid_id]\n",
    "        if can_bid(bid, auction):\n",
    "            return bid\n",
    "        \n",
    "def get_contract(auction):\n",
    "    contract = None\n",
    "    doubled = False\n",
    "    redoubled = False\n",
    "    last_bid_i = None\n",
    "    for i in reversed(range(len(auction))):\n",
    "        bid = auction[i]\n",
    "        if is_contract(bid):\n",
    "            contract = bid\n",
    "            last_bid_i = i\n",
    "            break\n",
    "        if bid == 'X':\n",
    "            doubled = True\n",
    "        if bid == 'XX':\n",
    "            redoubled = True\n",
    "    \n",
    "    if contract is None:\n",
    "        return None\n",
    "    \n",
    "    declarer_i = None\n",
    "    for i in range(last_bid_i + 1):\n",
    "        bid = auction[i]\n",
    "        if not is_contract(bid):\n",
    "            continue\n",
    "        if (i + last_bid_i) % 2 != 0:\n",
    "            continue\n",
    "        if bid[1] != contract[1]:\n",
    "            continue\n",
    "        declarer_i = i\n",
    "        break\n",
    "        \n",
    "    declarer = ['N', 'E', 'S', 'W'][declarer_i % 4]\n",
    "    \n",
    "    xx = '' if not doubled else 'X' if not redoubled else 'XX'\n",
    "    \n",
    "    return contract + xx + declarer"
   ]
  },
  {
   "cell_type": "code",
   "execution_count": 138,
   "metadata": {},
   "outputs": [],
   "source": [
    "def get_par(contracts, vuln_ns, vuln_ew):\n",
    "    side_vuln = [int(vuln_ns), int(vuln_ew)]\n",
    "    side = {'N': 0, 'E': 1, 'S': 0, 'W': 1}\n",
    "    \n",
    "    contract_scores = sorted(contracts.items(), key=lambda cs: (int(cs[0][0]) * 5 + data.suit_rank[cs[0][1]], cs[0]))\n",
    "    \n",
    "    best_score = [0, 0]\n",
    "    best_contract = [None, None]\n",
    "    \n",
    "    for contract, scores in contract_scores:\n",
    "        side_i = side[contract[-1]]\n",
    "        score = scores[side_vuln[side_i]]\n",
    "        \n",
    "        if score > best_score[side_i]:\n",
    "            if score > 0 and 'X' in contract:\n",
    "                continue\n",
    "            if score < 0 and 'X' not in contract:\n",
    "                continue\n",
    "            best_score[side_i] = score\n",
    "            best_score[(side_i + 1) % 2] = -score\n",
    "            best_contract[side_i] = contract\n",
    "            best_contract[(side_i + 1) % 2] = contract\n",
    "            \n",
    "    assert best_contract[0] == best_contract[1]\n",
    "            \n",
    "    return best_contract[0]"
   ]
  },
  {
   "cell_type": "code",
   "execution_count": 139,
   "metadata": {},
   "outputs": [
    {
     "data": {
      "text/plain": [
       "(True, False, False)"
      ]
     },
     "execution_count": 139,
     "metadata": {},
     "output_type": "execute_result"
    }
   ],
   "source": [
    "is_contract('4S'), is_contract('PASS'), is_contract('X')"
   ]
  },
  {
   "cell_type": "code",
   "execution_count": 140,
   "metadata": {},
   "outputs": [
    {
     "data": {
      "text/plain": [
       "False"
      ]
     },
     "execution_count": 140,
     "metadata": {},
     "output_type": "execute_result"
    }
   ],
   "source": [
    "can_double(['PASS', '1S', 'X', 'PASS'])"
   ]
  },
  {
   "cell_type": "code",
   "execution_count": 141,
   "metadata": {},
   "outputs": [
    {
     "data": {
      "text/plain": [
       "'1S'"
      ]
     },
     "execution_count": 141,
     "metadata": {},
     "output_type": "execute_result"
    }
   ],
   "source": [
    "last_contract(['PASS', '1S', 'X', 'PASS'])"
   ]
  },
  {
   "cell_type": "code",
   "execution_count": 142,
   "metadata": {},
   "outputs": [
    {
     "name": "stdout",
     "output_type": "stream",
     "text": [
      "['PAD_START', '1H', '5N', '7S', 'PASS', '7N', 'X', 'XX', 'PASS', 'PASS', 'PASS']\n",
      "7NXXE\n"
     ]
    }
   ],
   "source": [
    "auction = ['PAD_START']\n",
    "while not auction_over(auction):\n",
    "    auction.append(sample_bid(auction, out_bid_0))\n",
    "print(auction)\n",
    "print(get_contract(auction))"
   ]
  },
  {
   "cell_type": "code",
   "execution_count": 143,
   "metadata": {},
   "outputs": [
    {
     "data": {
      "text/plain": [
       "'4SE'"
      ]
     },
     "execution_count": 143,
     "metadata": {},
     "output_type": "execute_result"
    }
   ],
   "source": [
    "get_contract(['1S', '1N', 'PASS', '2H', 'PASS', '2S', 'PASS', '4S', 'PASS', 'PASS', 'PASS'])"
   ]
  },
  {
   "cell_type": "code",
   "execution_count": 180,
   "metadata": {},
   "outputs": [],
   "source": [
    "class Simulator(object):\n",
    "    \n",
    "    def __init__(self, deal, contracts, model, sess):\n",
    "        self.deal = deal\n",
    "        self.contracts = contracts\n",
    "        self.hands = [\n",
    "            deal[0,:,:,0].reshape((1, 52)), \n",
    "            deal[0,:,:,1].reshape((1, 52)),\n",
    "            deal[0,:,:,2].reshape((1, 52)),\n",
    "            deal[0,:,:,3].reshape((1, 52)),\n",
    "        ]\n",
    "        self.model = model\n",
    "        self.sess = sess\n",
    "        \n",
    "        self.par = get_par(self.contracts, False, False)\n",
    "        \n",
    "        self.cache = {}\n",
    "        \n",
    "    def simulate_bid(self, auction, s_c, s_h, n=1):\n",
    "        i = len(auction) % 4\n",
    "        padded_auction = (['PAD_START'] * max(0, 3 - len(auction))) + auction\n",
    "        auction_key = tuple(auction)\n",
    "        if auction_key not in self.cache:\n",
    "            x_input = get_input(padded_auction[-3], padded_auction[-2], padded_auction[-1], self.hands[i], False, False)\n",
    "            out_bid_np, next_c_np, next_h_np = sess.run([out_bid, next_c, next_h], feed_dict={x_in: x_input, state_c: s_c, state_h: s_h})\n",
    "            self.cache[auction_key] = (out_bid_np, next_c_np, next_h_np)\n",
    "        else:\n",
    "            out_bid_np, next_c_np, next_h_np = self.cache[auction_key]\n",
    "        bids = []\n",
    "        last_contract = get_contract(padded_auction)\n",
    "        while len(bids) < n:\n",
    "            s_bid = sample_bid(padded_auction, out_bid_np)\n",
    "            if is_contract(s_bid) and is_higher_contract(s_bid, self.par):\n",
    "                 continue\n",
    "            if 'X' in s_bid and contract_level_step(last_contract) == contract_level_step(self.par) and last_contract[-1] == self.par[-1]:\n",
    "                if s_bid not in self.par:\n",
    "                    continue\n",
    "            bids.append(s_bid)\n",
    "        return bids, (next_c_np, next_h_np)\n",
    "    \n",
    "    def simulate_auction(self, auction, s_c, s_h):\n",
    "        sim_auction = auction[:]\n",
    "        C, H = s_c, s_h\n",
    "        while not auction_over(sim_auction):\n",
    "            bids, (next_c_np, next_h_np) = self.simulate_bid(sim_auction, C, H, 1)\n",
    "            sim_auction.append(bids[0])\n",
    "            C = next_c_np\n",
    "            H = next_h_np\n",
    "        return sim_auction\n",
    "    \n",
    "    def best_bid(self, auction, s_c, s_h, n=100):\n",
    "        results = {}\n",
    "        declarer2i = {seat:i for i, seat in enumerate(['N', 'E', 'S', 'W'])}\n",
    "        bids, (next_c_np, next_h_np) = self.simulate_bid(auction, s_c, s_h, n)\n",
    "        for bid in bids:\n",
    "            sim_auction = self.simulate_auction(auction + [bid], next_c_np, next_h_np)\n",
    "            sim_contract = get_contract(sim_auction)\n",
    "            if sim_contract is not None:\n",
    "                seat_to_bid = len(auction) % 4\n",
    "                declarer_seat = declarer2i[sim_contract[-1]]\n",
    "                sign = 1 if (seat_to_bid + declarer_seat) % 2 == 0 else -1\n",
    "                score = sign * self.contracts.get(sim_contract, (0, 0))[0]\n",
    "            else:\n",
    "                score = 0\n",
    "            if bid not in results:\n",
    "                results[bid] = [0, 0]\n",
    "            results[bid][0] += score\n",
    "            results[bid][1] += 1\n",
    "        max_score_bid = max(((v[0] / v[1], k) for k, v in results.items()))\n",
    "        return max_score_bid\n",
    "    \n",
    "    def best_auction(self, auction, s_c, s_h, n=100):\n",
    "        self.cache = {}\n",
    "        best_auction = auction[:]\n",
    "        while not auction_over(best_auction):\n",
    "            score, bid = self.best_bid(best_auction, s_c, s_h, n)\n",
    "            best_auction.append(bid)\n",
    "        return score, best_auction\n",
    "    "
   ]
  },
  {
   "cell_type": "code",
   "execution_count": 145,
   "metadata": {},
   "outputs": [
    {
     "data": {
      "text/plain": [
       "tensorflow.python.framework.ops.Tensor"
      ]
     },
     "execution_count": 145,
     "metadata": {},
     "output_type": "execute_result"
    }
   ],
   "source": [
    "type(next_c)"
   ]
  },
  {
   "cell_type": "code",
   "execution_count": 146,
   "metadata": {
    "scrolled": false
   },
   "outputs": [],
   "source": [
    "simulator = Simulator(X, contracts, lstm, sess)\n",
    "\n",
    "bid, (next_c_np, next_h_np) = simulator.simulate_bid(['6N', 'PASS'], init_c, init_h)"
   ]
  },
  {
   "cell_type": "code",
   "execution_count": 147,
   "metadata": {},
   "outputs": [
    {
     "data": {
      "text/plain": [
       "['PASS']"
      ]
     },
     "execution_count": 147,
     "metadata": {},
     "output_type": "execute_result"
    }
   ],
   "source": [
    "bid"
   ]
  },
  {
   "cell_type": "code",
   "execution_count": 86,
   "metadata": {},
   "outputs": [],
   "source": [
    "simulator.cache = {}"
   ]
  },
  {
   "cell_type": "code",
   "execution_count": 87,
   "metadata": {},
   "outputs": [
    {
     "name": "stdout",
     "output_type": "stream",
     "text": [
      "CPU times: user 52 ms, sys: 4 ms, total: 56 ms\n",
      "Wall time: 96.5 ms\n"
     ]
    },
    {
     "data": {
      "text/plain": [
       "(-1115.0, 'PASS')"
      ]
     },
     "execution_count": 87,
     "metadata": {},
     "output_type": "execute_result"
    }
   ],
   "source": [
    "%time simulator.best_bid(['7H', 'PASS'], init_c, init_h, 20)"
   ]
  },
  {
   "cell_type": "code",
   "execution_count": 116,
   "metadata": {},
   "outputs": [
    {
     "name": "stdout",
     "output_type": "stream",
     "text": [
      "CPU times: user 352 ms, sys: 4 ms, total: 356 ms\n",
      "Wall time: 519 ms\n"
     ]
    },
    {
     "data": {
      "text/plain": [
       "(-2900.0, ['5H', '6N', 'X', 'PASS', 'PASS', 'PASS'])"
      ]
     },
     "execution_count": 116,
     "metadata": {},
     "output_type": "execute_result"
    }
   ],
   "source": [
    "%time simulator.best_auction([], init_c, init_h, 10)"
   ]
  },
  {
   "cell_type": "code",
   "execution_count": 92,
   "metadata": {},
   "outputs": [
    {
     "data": {
      "text/plain": [
       "'6NN'"
      ]
     },
     "execution_count": 92,
     "metadata": {},
     "output_type": "execute_result"
    }
   ],
   "source": [
    "simulator.par"
   ]
  },
  {
   "cell_type": "code",
   "execution_count": 93,
   "metadata": {},
   "outputs": [
    {
     "data": {
      "text/plain": [
       "2874"
      ]
     },
     "execution_count": 93,
     "metadata": {},
     "output_type": "execute_result"
    }
   ],
   "source": [
    "len(simulator.cache)"
   ]
  },
  {
   "cell_type": "code",
   "execution_count": 94,
   "metadata": {},
   "outputs": [
    {
     "data": {
      "text/plain": [
       "'7SN'"
      ]
     },
     "execution_count": 94,
     "metadata": {},
     "output_type": "execute_result"
    }
   ],
   "source": [
    "get_contract(['7S', 'PASS', 'PASS', 'PASS'])"
   ]
  },
  {
   "cell_type": "code",
   "execution_count": 95,
   "metadata": {},
   "outputs": [
    {
     "data": {
      "text/plain": [
       "(-50, -100)"
      ]
     },
     "execution_count": 95,
     "metadata": {},
     "output_type": "execute_result"
    }
   ],
   "source": [
    "contracts['7SN']"
   ]
  },
  {
   "cell_type": "code",
   "execution_count": 96,
   "metadata": {},
   "outputs": [
    {
     "data": {
      "text/plain": [
       "'6NN'"
      ]
     },
     "execution_count": 96,
     "metadata": {},
     "output_type": "execute_result"
    }
   ],
   "source": [
    "get_par(contracts, False, False)"
   ]
  },
  {
   "cell_type": "code",
   "execution_count": 168,
   "metadata": {},
   "outputs": [],
   "source": [
    "X2, contracts2 = next(reader)"
   ]
  },
  {
   "cell_type": "code",
   "execution_count": 169,
   "metadata": {},
   "outputs": [
    {
     "data": {
      "text/plain": [
       "'4SN'"
      ]
     },
     "execution_count": 169,
     "metadata": {},
     "output_type": "execute_result"
    }
   ],
   "source": [
    "get_par(contracts2, False, False)"
   ]
  },
  {
   "cell_type": "code",
   "execution_count": 170,
   "metadata": {},
   "outputs": [
    {
     "name": "stdout",
     "output_type": "stream",
     "text": [
      "1.18 ms ± 365 µs per loop (mean ± std. dev. of 7 runs, 100 loops each)\n"
     ]
    }
   ],
   "source": [
    "%%timeit\n",
    "get_par(contracts, True, False)"
   ]
  },
  {
   "cell_type": "code",
   "execution_count": 185,
   "metadata": {},
   "outputs": [],
   "source": [
    "sim2 = Simulator(X2, contracts2, lstm, sess)"
   ]
  },
  {
   "cell_type": "code",
   "execution_count": 186,
   "metadata": {},
   "outputs": [
    {
     "data": {
      "text/plain": [
       "'4SN'"
      ]
     },
     "execution_count": 186,
     "metadata": {},
     "output_type": "execute_result"
    }
   ],
   "source": [
    "sim2.par"
   ]
  },
  {
   "cell_type": "code",
   "execution_count": 217,
   "metadata": {},
   "outputs": [
    {
     "name": "stdout",
     "output_type": "stream",
     "text": [
      "CPU times: user 1.22 s, sys: 20 ms, total: 1.24 s\n",
      "Wall time: 1.49 s\n"
     ]
    },
    {
     "data": {
      "text/plain": [
       "(100.0,\n",
       " ['1S',\n",
       "  '2C',\n",
       "  '2H',\n",
       "  'X',\n",
       "  '3C',\n",
       "  '3H',\n",
       "  '3N',\n",
       "  'X',\n",
       "  '4C',\n",
       "  'PASS',\n",
       "  '4H',\n",
       "  'PASS',\n",
       "  'PASS',\n",
       "  'PASS'])"
      ]
     },
     "execution_count": 217,
     "metadata": {},
     "output_type": "execute_result"
    }
   ],
   "source": [
    "%time sim2.best_auction([], init_c, init_h, 10)"
   ]
  },
  {
   "cell_type": "code",
   "execution_count": 212,
   "metadata": {},
   "outputs": [
    {
     "data": {
      "text/plain": [
       "'4SN'"
      ]
     },
     "execution_count": 212,
     "metadata": {},
     "output_type": "execute_result"
    }
   ],
   "source": [
    "sim2.par"
   ]
  },
  {
   "cell_type": "code",
   "execution_count": 110,
   "metadata": {},
   "outputs": [
    {
     "data": {
      "text/plain": [
       "'1NE'"
      ]
     },
     "execution_count": 110,
     "metadata": {},
     "output_type": "execute_result"
    }
   ],
   "source": [
    "get_contract(['1D', '1H', '1S', 'X', 'PASS', '1N', 'PASS', 'PASS', 'PASS'])"
   ]
  },
  {
   "cell_type": "code",
   "execution_count": 214,
   "metadata": {},
   "outputs": [
    {
     "data": {
      "text/plain": [
       "(-250, -500)"
      ]
     },
     "execution_count": 214,
     "metadata": {},
     "output_type": "execute_result"
    }
   ],
   "source": [
    "contracts2['4DS']"
   ]
  },
  {
   "cell_type": "code",
   "execution_count": 218,
   "metadata": {},
   "outputs": [],
   "source": [
    "a = np.array([np.array([1, 2]), np.array([1, 2, 3])])"
   ]
  },
  {
   "cell_type": "code",
   "execution_count": 219,
   "metadata": {},
   "outputs": [
    {
     "data": {
      "text/plain": [
       "array([array([1, 2]), array([1, 2, 3])], dtype=object)"
      ]
     },
     "execution_count": 219,
     "metadata": {},
     "output_type": "execute_result"
    }
   ],
   "source": [
    "a"
   ]
  },
  {
   "cell_type": "code",
   "execution_count": 220,
   "metadata": {},
   "outputs": [
    {
     "data": {
      "text/plain": [
       "(2,)"
      ]
     },
     "execution_count": 220,
     "metadata": {},
     "output_type": "execute_result"
    }
   ],
   "source": [
    "a.shape"
   ]
  },
  {
   "cell_type": "code",
   "execution_count": 221,
   "metadata": {},
   "outputs": [
    {
     "data": {
      "text/plain": [
       "3.25"
      ]
     },
     "execution_count": 221,
     "metadata": {},
     "output_type": "execute_result"
    }
   ],
   "source": [
    "13 / 4"
   ]
  },
  {
   "cell_type": "code",
   "execution_count": 224,
   "metadata": {},
   "outputs": [
    {
     "data": {
      "text/plain": [
       "2.7142857142857144"
      ]
     },
     "execution_count": 224,
     "metadata": {},
     "output_type": "execute_result"
    }
   ],
   "source": [
    "(8 - 3.25)/1.75"
   ]
  },
  {
   "cell_type": "code",
   "execution_count": 225,
   "metadata": {},
   "outputs": [],
   "source": [
    "tf.contrib.rnn.MultiRNNCell?"
   ]
  },
  {
   "cell_type": "code",
   "execution_count": null,
   "metadata": {},
   "outputs": [],
   "source": []
  }
 ],
 "metadata": {
  "kernelspec": {
   "display_name": "Python 3",
   "language": "python",
   "name": "python3"
  },
  "language_info": {
   "codemirror_mode": {
    "name": "ipython",
    "version": 3
   },
   "file_extension": ".py",
   "mimetype": "text/x-python",
   "name": "python",
   "nbconvert_exporter": "python",
   "pygments_lexer": "ipython3",
   "version": "3.5.4"
  }
 },
 "nbformat": 4,
 "nbformat_minor": 2
}
