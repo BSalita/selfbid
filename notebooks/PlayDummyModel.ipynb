{
 "cells": [
  {
   "cell_type": "code",
   "execution_count": 2,
   "metadata": {},
   "outputs": [],
   "source": [
    "import numpy as np\n",
    "import tensorflow as tf\n",
    "\n",
    "from collections import namedtuple\n",
    "\n",
    "from lead_binary import DealMeta, suit_index_lookup\n",
    "from binary_righty import binary_hand, get_card_index, encode_card"
   ]
  },
  {
   "cell_type": "code",
   "execution_count": 2,
   "metadata": {},
   "outputs": [],
   "source": [
    "sess = tf.InteractiveSession()"
   ]
  },
  {
   "cell_type": "code",
   "execution_count": 3,
   "metadata": {},
   "outputs": [],
   "source": [
    "model_path = './dummy_model/dummy-920000'"
   ]
  },
  {
   "cell_type": "code",
   "execution_count": 4,
   "metadata": {},
   "outputs": [
    {
     "name": "stdout",
     "output_type": "stream",
     "text": [
      "INFO:tensorflow:Restoring parameters from ./dummy_model/dummy-920000\n"
     ]
    }
   ],
   "source": [
    "saver = tf.train.import_meta_graph(model_path + '.meta')\n",
    "saver.restore(sess, model_path)"
   ]
  },
  {
   "cell_type": "code",
   "execution_count": 5,
   "metadata": {},
   "outputs": [],
   "source": [
    "graph = tf.get_default_graph()"
   ]
  },
  {
   "cell_type": "code",
   "execution_count": 6,
   "metadata": {},
   "outputs": [],
   "source": [
    "seq_in = graph.get_tensor_by_name('seq_in:0')\n",
    "seq_out = graph.get_tensor_by_name('seq_out:0')\n",
    "keep_prob = graph.get_tensor_by_name('keep_prob:0')\n",
    "\n",
    "out_card_logit = graph.get_tensor_by_name('out_card_logit:0')\n",
    "out_card_target = graph.get_tensor_by_name('out_card_target:0')"
   ]
  },
  {
   "cell_type": "code",
   "execution_count": 7,
   "metadata": {},
   "outputs": [
    {
     "data": {
      "text/plain": [
       "(TensorShape([Dimension(None), Dimension(32)]),\n",
       " TensorShape([Dimension(None), Dimension(32)]),\n",
       " TensorShape([Dimension(None), Dimension(None), Dimension(32)]))"
      ]
     },
     "execution_count": 7,
     "metadata": {},
     "output_type": "execute_result"
    }
   ],
   "source": [
    "out_card_logit.shape, out_card_target.shape, seq_out.shape"
   ]
  },
  {
   "cell_type": "code",
   "execution_count": 8,
   "metadata": {},
   "outputs": [],
   "source": [
    "state_c_0 = graph.get_tensor_by_name('state_c_0:0')\n",
    "state_h_0 = graph.get_tensor_by_name('state_h_0:0')\n",
    "\n",
    "state_c_1 = graph.get_tensor_by_name('state_c_1:0')\n",
    "state_h_1 = graph.get_tensor_by_name('state_h_1:0')\n",
    "\n",
    "state_c_2 = graph.get_tensor_by_name('state_c_2:0')\n",
    "state_h_2 = graph.get_tensor_by_name('state_h_2:0')\n",
    "\n",
    "next_c_0 = graph.get_tensor_by_name('next_c_0:0')\n",
    "next_h_0 = graph.get_tensor_by_name('next_h_0:0')\n",
    "\n",
    "next_c_1 = graph.get_tensor_by_name('next_c_1:0')\n",
    "next_h_1 = graph.get_tensor_by_name('next_h_1:0')\n",
    "\n",
    "next_c_2 = graph.get_tensor_by_name('next_c_2:0')\n",
    "next_h_2 = graph.get_tensor_by_name('next_h_2:0')\n",
    "\n",
    "x_in = graph.get_tensor_by_name('x_in:0')\n",
    "out_card = graph.get_tensor_by_name('out_card:0')"
   ]
  },
  {
   "cell_type": "code",
   "execution_count": 14,
   "metadata": {},
   "outputs": [
    {
     "data": {
      "text/plain": [
       "(TensorShape([Dimension(1), Dimension(298)]),\n",
       " TensorShape([Dimension(1), Dimension(32)]))"
      ]
     },
     "execution_count": 14,
     "metadata": {},
     "output_type": "execute_result"
    }
   ],
   "source": [
    "x_in.shape, out_card.shape"
   ]
  },
  {
   "cell_type": "code",
   "execution_count": 15,
   "metadata": {},
   "outputs": [],
   "source": [
    "State = namedtuple('State', ['c', 'h'])\n",
    "\n",
    "lstm_size = 128\n",
    "\n",
    "zero_state = (\n",
    "    State(c=np.zeros((1, lstm_size)), h=np.zeros((1, lstm_size))),\n",
    "    State(c=np.zeros((1, lstm_size)), h=np.zeros((1, lstm_size))),\n",
    "    State(c=np.zeros((1, lstm_size)), h=np.zeros((1, lstm_size))),\n",
    ")"
   ]
  },
  {
   "cell_type": "code",
   "execution_count": 16,
   "metadata": {},
   "outputs": [],
   "source": [
    "def model(sess, p_keep=1.0):\n",
    "    def pred_fun(x, state_in):\n",
    "        feed_dict = {\n",
    "            keep_prob: p_keep,\n",
    "            x_in: x,\n",
    "            state_c_0: state_in[0].c,\n",
    "            state_h_0: state_in[0].h,\n",
    "            state_c_1: state_in[1].c,\n",
    "            state_h_1: state_in[1].h,\n",
    "            state_c_2: state_in[2].c,\n",
    "            state_h_2: state_in[2].h,\n",
    "        }\n",
    "        cards = sess.run(out_card, feed_dict=feed_dict)\n",
    "        next_state = (\n",
    "            State(c=sess.run(next_c_0, feed_dict=feed_dict), h=sess.run(next_h_0, feed_dict=feed_dict)),\n",
    "            State(c=sess.run(next_c_1, feed_dict=feed_dict), h=sess.run(next_h_1, feed_dict=feed_dict)),\n",
    "            State(c=sess.run(next_c_2, feed_dict=feed_dict), h=sess.run(next_h_2, feed_dict=feed_dict)),\n",
    "        )\n",
    "        return cards, next_state\n",
    "    return pred_fun"
   ]
  },
  {
   "cell_type": "code",
   "execution_count": 17,
   "metadata": {},
   "outputs": [],
   "source": [
    "dummy = model(sess)"
   ]
  },
  {
   "cell_type": "raw",
   "metadata": {},
   "source": [
    "W:AJT9.J84.JT9872. 6.Q9.AKQ3.KJ9743 Q87542.A73.6.AQ8 K3.KT652.54.T652 #:0012 C:BW5C T:1 D:W V:NS A:PP1C2SPP4SPPPPPP R1:4S.+1.E R2:4S.+2.E\n",
    "\n",
    "W:K6.96.A987.KJ753 J9872.J8.J652.98 AQ53.QT52.KQ.A62 T4.AK743.T43.QT4 #:0049 C:BW5C T:1 D:N V:- A:PP1NPP3NPPPPPP R1:3N.+2.E R2:3N.+4.E\n",
    "\n",
    "W:AJ4.T73.AT64.AQ3 T982.A862.KQJ2.K 753.KQJ.53.T8652 KQ6.954.987.J974 #:0052 C:BW5C T:1 D:W V:ALL A:1NPPPPPP R1:1N.=.W R2:1N.=.W"
   ]
  },
  {
   "cell_type": "code",
   "execution_count": 19,
   "metadata": {},
   "outputs": [],
   "source": [
    "# deal_str = 'W:T9.T86.AK3.AT873 AKQ87.AKQ5.Q862. J65.7432.J94.KJ6 432.J9.T75.Q9542'\n",
    "\n",
    "# outcome = 'S - 4S.=.N'\n",
    "\n",
    "deal_str = 'W:AJT9.J84.JT9872. 6.Q9.AKQ3.KJ9743 Q87542.A73.6.AQ8 K3.KT652.54.T652'\n",
    "\n",
    "outcome = 'W NS 4S.+2.E'"
   ]
  },
  {
   "cell_type": "code",
   "execution_count": 20,
   "metadata": {},
   "outputs": [],
   "source": [
    "hands = list(map(lambda hand_str: list(map(list, hand_str.split('.'))), deal_str[2:].split()))"
   ]
  },
  {
   "cell_type": "code",
   "execution_count": 21,
   "metadata": {},
   "outputs": [
    {
     "data": {
      "text/plain": [
       "[[['A', 'J', 'T', '9'], ['J', '8', '4'], ['J', 'T', '9', '8', '7', '2'], []],\n",
       " [['6'], ['Q', '9'], ['A', 'K', 'Q', '3'], ['K', 'J', '9', '7', '4', '3']],\n",
       " [['Q', '8', '7', '5', '4', '2'], ['A', '7', '3'], ['6'], ['A', 'Q', '8']],\n",
       " [['K', '3'], ['K', 'T', '6', '5', '2'], ['5', '4'], ['T', '6', '5', '2']]]"
      ]
     },
     "execution_count": 21,
     "metadata": {},
     "output_type": "execute_result"
    }
   ],
   "source": [
    "hands"
   ]
  },
  {
   "cell_type": "code",
   "execution_count": 22,
   "metadata": {},
   "outputs": [],
   "source": [
    "declarer_bin = binary_hand(hands[2])\n",
    "dummy_bin = binary_hand(hands[0])"
   ]
  },
  {
   "cell_type": "code",
   "execution_count": 23,
   "metadata": {},
   "outputs": [
    {
     "data": {
      "text/plain": [
       "array([[ 1.,  0.,  0.,  1.,  1.,  1.,  0.,  0.],\n",
       "       [ 0.,  0.,  0.,  1.,  0.,  0.,  1.,  1.],\n",
       "       [ 0.,  0.,  0.,  1.,  1.,  1.,  1.,  2.],\n",
       "       [ 0.,  0.,  0.,  0.,  0.,  0.,  0.,  0.]], dtype=float16)"
      ]
     },
     "execution_count": 23,
     "metadata": {},
     "output_type": "execute_result"
    }
   ],
   "source": [
    "dummy_bin.reshape((4, 8))"
   ]
  },
  {
   "cell_type": "code",
   "execution_count": 24,
   "metadata": {},
   "outputs": [],
   "source": [
    "deal_meta = DealMeta.from_str(outcome)"
   ]
  },
  {
   "cell_type": "code",
   "execution_count": 25,
   "metadata": {},
   "outputs": [],
   "source": [
    "def get_x_in(dummy_bin, declarer_bin, last_lead, last_trick, this_trick, d_meta):\n",
    "    x = np.zeros((1, 298), np.float16)\n",
    "    \n",
    "    x[0, 292] = d_meta.level\n",
    "    if d_meta.strain == 'N':\n",
    "        x[0, 293] = 1\n",
    "    else:\n",
    "        x[0, 294 + suit_index_lookup[d_meta.strain]] = 1\n",
    "    x[0, 288 + last_lead] = 1\n",
    "    \n",
    "    x[0, 0:32] = dummy_bin\n",
    "    x[0, 32:64] = declarer_bin\n",
    "    \n",
    "    x[0, 64:96] = encode_card(last_trick[0])\n",
    "    x[0, 96:128] = encode_card(last_trick[1])\n",
    "    x[0, 128:160] = encode_card(last_trick[2])\n",
    "    x[0, 160:192] = encode_card(last_trick[3])\n",
    "    \n",
    "    x[0, 192:224] = encode_card(this_trick[0])\n",
    "    x[0, 224:256] = encode_card(this_trick[1])\n",
    "    x[0, 256:288] = encode_card(this_trick[2])\n",
    "    \n",
    "    return x"
   ]
  },
  {
   "cell_type": "code",
   "execution_count": 26,
   "metadata": {},
   "outputs": [],
   "source": [
    "next_state = zero_state"
   ]
  },
  {
   "cell_type": "raw",
   "metadata": {},
   "source": [
    "W:T9.T86.AK3.AT873 AKQ87.AKQ5.Q862. J65.7432.J94.KJ6 432.J9.T75.Q9542\n",
    "\n",
    "W:AJT9.J84.JT9872. 6.Q9.AKQ3.KJ9743 Q87542.A73.6.AQ8 K3.KT652.54.T652\n",
    "\n",
    "W:K6.96.A987.KJ753 J9872.J8.J652.98 AQ53.QT52.KQ.A62 T4.AK743.T43.QT4\n",
    "\n",
    "W:AJ4.T73.AT64.AQ3 T982.A862.KQJ2.K 753.KQJ.53.T8652 KQ6.954.987.J974"
   ]
  },
  {
   "cell_type": "code",
   "execution_count": null,
   "metadata": {},
   "outputs": [],
   "source": []
  },
  {
   "cell_type": "code",
   "execution_count": null,
   "metadata": {},
   "outputs": [],
   "source": []
  },
  {
   "cell_type": "code",
   "execution_count": 27,
   "metadata": {},
   "outputs": [],
   "source": [
    "x = get_x_in(dummy_bin, declarer_bin, 0, ['>>', '>>', '>>', '>>'],  ['>>', '>>', 'C2'], deal_meta)"
   ]
  },
  {
   "cell_type": "code",
   "execution_count": 29,
   "metadata": {},
   "outputs": [],
   "source": [
    "card, next_state = dummy(x, next_state)"
   ]
  },
  {
   "cell_type": "code",
   "execution_count": 30,
   "metadata": {},
   "outputs": [
    {
     "data": {
      "text/plain": [
       "array([[  3.29213362e-04,   2.32883322e-04,   2.70162109e-05,\n",
       "          7.86976540e-04,   1.16306928e-03,   2.29660362e-01,\n",
       "          3.67557514e-05,   8.82916447e-06],\n",
       "       [  2.56797939e-05,   1.05918407e-04,   3.02418375e-05,\n",
       "          7.48313905e-04,   1.68862766e-06,   1.14631139e-05,\n",
       "          3.73032154e-03,   3.37206751e-01],\n",
       "       [  6.27911882e-04,   2.13620260e-05,   2.63371312e-05,\n",
       "          1.27133244e-04,   1.03821229e-04,   6.16876059e-04,\n",
       "          1.03778671e-02,   4.13878024e-01],\n",
       "       [  2.57621537e-06,   2.52471400e-05,   3.15151046e-05,\n",
       "          9.07687809e-06,   2.45828051e-05,   1.72677173e-05,\n",
       "          4.45334763e-06,   4.99855730e-07]], dtype=float32)"
      ]
     },
     "execution_count": 30,
     "metadata": {},
     "output_type": "execute_result"
    }
   ],
   "source": [
    "card.reshape((4, 8))"
   ]
  },
  {
   "cell_type": "code",
   "execution_count": 3,
   "metadata": {},
   "outputs": [
    {
     "data": {
      "text/plain": [
       "2"
      ]
     },
     "execution_count": 3,
     "metadata": {},
     "output_type": "execute_result"
    }
   ],
   "source": [
    "np.argmax(np.array([1,2,5,3]))"
   ]
  },
  {
   "cell_type": "code",
   "execution_count": 20,
   "metadata": {},
   "outputs": [
    {
     "data": {
      "text/plain": [
       "['SA',\n",
       " 'SK',\n",
       " 'SQ',\n",
       " 'SJ',\n",
       " 'ST',\n",
       " 'S9',\n",
       " 'S8',\n",
       " 'Sx',\n",
       " 'HA',\n",
       " 'HK',\n",
       " 'HQ',\n",
       " 'HJ',\n",
       " 'HT',\n",
       " 'H9',\n",
       " 'H8',\n",
       " 'Hx',\n",
       " 'DA',\n",
       " 'DK',\n",
       " 'DQ',\n",
       " 'DJ',\n",
       " 'DT',\n",
       " 'D9',\n",
       " 'D8',\n",
       " 'Dx',\n",
       " 'CA',\n",
       " 'CK',\n",
       " 'CQ',\n",
       " 'CJ',\n",
       " 'CT',\n",
       " 'C9',\n",
       " 'C8',\n",
       " 'Cx']"
      ]
     },
     "execution_count": 20,
     "metadata": {},
     "output_type": "execute_result"
    }
   ],
   "source": [
    "[(suit + rank) for suit in 'SHDC' for rank in 'AKQJT98x']"
   ]
  },
  {
   "cell_type": "code",
   "execution_count": 8,
   "metadata": {},
   "outputs": [
    {
     "data": {
      "text/plain": [
       "'2'"
      ]
     },
     "execution_count": 8,
     "metadata": {},
     "output_type": "execute_result"
    }
   ],
   "source": [
    "min(['5', '2', '7'])"
   ]
  },
  {
   "cell_type": "code",
   "execution_count": 9,
   "metadata": {},
   "outputs": [],
   "source": [
    "lst1 = [1,2,3,4]"
   ]
  },
  {
   "cell_type": "code",
   "execution_count": 10,
   "metadata": {},
   "outputs": [],
   "source": [
    "del lst1[0]"
   ]
  },
  {
   "cell_type": "code",
   "execution_count": 11,
   "metadata": {},
   "outputs": [
    {
     "data": {
      "text/plain": [
       "[2, 3, 4]"
      ]
     },
     "execution_count": 11,
     "metadata": {},
     "output_type": "execute_result"
    }
   ],
   "source": [
    "lst1"
   ]
  },
  {
   "cell_type": "code",
   "execution_count": 19,
   "metadata": {},
   "outputs": [
    {
     "data": {
      "text/plain": [
       "True"
      ]
     },
     "execution_count": 19,
     "metadata": {},
     "output_type": "execute_result"
    }
   ],
   "source": [
    "'7' < '8'"
   ]
  },
  {
   "cell_type": "code",
   "execution_count": null,
   "metadata": {},
   "outputs": [],
   "source": []
  }
 ],
 "metadata": {
  "kernelspec": {
   "display_name": "Python 3",
   "language": "python",
   "name": "python3"
  },
  "language_info": {
   "codemirror_mode": {
    "name": "ipython",
    "version": 3
   },
   "file_extension": ".py",
   "mimetype": "text/x-python",
   "name": "python",
   "nbconvert_exporter": "python",
   "pygments_lexer": "ipython3",
   "version": "3.5.4"
  }
 },
 "nbformat": 4,
 "nbformat_minor": 2
}
