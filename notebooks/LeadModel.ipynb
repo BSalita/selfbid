{
 "cells": [
  {
   "cell_type": "code",
   "execution_count": 1,
   "metadata": {},
   "outputs": [],
   "source": [
    "%matplotlib inline"
   ]
  },
  {
   "cell_type": "code",
   "execution_count": 2,
   "metadata": {},
   "outputs": [],
   "source": [
    "import glob\n",
    "import tensorflow as tf\n",
    "import numpy as np\n",
    "import matplotlib.pyplot as plt\n",
    "\n",
    "import lead_binary\n",
    "\n",
    "from collections import namedtuple"
   ]
  },
  {
   "cell_type": "code",
   "execution_count": 3,
   "metadata": {},
   "outputs": [],
   "source": [
    "# model_path = './lead_model_jack/lead_jack-200000'\n",
    "# model_path = './lead_model_jack2/lead_jack-1000000'\n",
    "#model_path = './lead_model_jack3/lead_jack-1000000'\n",
    "#model_path = './lead_model_jack4/lead_jack-1000000'\n",
    "model_path = './lead_model/lead-3960000'"
   ]
  },
  {
   "cell_type": "code",
   "execution_count": 4,
   "metadata": {},
   "outputs": [],
   "source": [
    "sess = tf.InteractiveSession()"
   ]
  },
  {
   "cell_type": "code",
   "execution_count": 5,
   "metadata": {},
   "outputs": [
    {
     "name": "stdout",
     "output_type": "stream",
     "text": [
      "INFO:tensorflow:Restoring parameters from ./lead_model/lead-3960000\n"
     ]
    }
   ],
   "source": [
    "saver = tf.train.import_meta_graph(model_path + '.meta')\n",
    "saver.restore(sess, model_path)"
   ]
  },
  {
   "cell_type": "code",
   "execution_count": 6,
   "metadata": {},
   "outputs": [],
   "source": [
    "keep_prob = sess.graph.get_tensor_by_name('keep_prob:0')\n",
    "A = sess.graph.get_tensor_by_name('seq_in:0')\n",
    "H = sess.graph.get_tensor_by_name('H:0')\n",
    "\n",
    "# state_c_0 = sess.graph.get_tensor_by_name('state_c_0:0')\n",
    "# state_h_0 = sess.graph.get_tensor_by_name('state_h_0:0')\n",
    "\n",
    "# state_c_1 = sess.graph.get_tensor_by_name('state_c_1:0')\n",
    "# state_h_1 = sess.graph.get_tensor_by_name('state_h_1:0')\n",
    "\n",
    "#pred = sess.graph.get_tensor_by_name('Mul:0')\n",
    "pred = sess.graph.get_tensor_by_name('pred:0')"
   ]
  },
  {
   "cell_type": "code",
   "execution_count": 7,
   "metadata": {},
   "outputs": [],
   "source": [
    "def lead_iterator(fin):\n",
    "    lines = []\n",
    "    for i, line in enumerate(fin):\n",
    "        line = line.strip()\n",
    "        if i % 17 == 0 and i > 0:\n",
    "            deal_str = lines[0]\n",
    "            hands = list(map(lambda hand_str: list(map(list, hand_str.split('.'))), deal_str[2:].split()))\n",
    "            deal_meta = lead_binary.DealMeta.from_str(lines[1])\n",
    "            # auction\n",
    "            padded_auction = (['PAD_START'] * deal_meta.get_n_pad_start()) + lead_binary.convert_auction(lines[2])\n",
    "            n_pad_end = 4 - (len(padded_auction) % 4) if (len(padded_auction) % 4) > 0 else 0\n",
    "            padded_auction = padded_auction + (['PAD_END'] * n_pad_end)\n",
    "            padded_auction = padded_auction[:-4] if set(padded_auction[-4:]) == set(['PASS', 'PAD_END']) else padded_auction\n",
    "            \n",
    "            auction_ftrs = lead_binary.binary_auction(padded_auction)\n",
    "            hand_ftrs = lead_binary.hand_features(hands, deal_meta)\n",
    "            leader_hand = '.'.join(''.join(suit) for suit in hands[lead_binary.seat_index[deal_meta.leader()]])\n",
    "            \n",
    "            lead_tricks = {}\n",
    "            for card_tricks_line in lines[4:]:\n",
    "                card, tricks = card_tricks_line.strip().split()\n",
    "                lead_tricks[card] = int(tricks)\n",
    "                \n",
    "            yield auction_ftrs, hand_ftrs, leader_hand, lines[1], lines[2], lines[3][:2], lead_tricks\n",
    "            \n",
    "            lines = []\n",
    "        \n",
    "        lines.append(line)"
   ]
  },
  {
   "cell_type": "code",
   "execution_count": 8,
   "metadata": {},
   "outputs": [],
   "source": [
    "suits = ['S', 'H', 'D', 'C']\n",
    "card_values = list('AKQJT98765432')"
   ]
  },
  {
   "cell_type": "code",
   "execution_count": 9,
   "metadata": {},
   "outputs": [],
   "source": [
    "def get_card_str(card_index):\n",
    "    return '%s%s' % (suits[card_index // 13], card_values[card_index % 13])"
   ]
  },
  {
   "cell_type": "code",
   "execution_count": 10,
   "metadata": {},
   "outputs": [],
   "source": [
    "def get_top_leads(pred, k=5):\n",
    "    score_i = sorted([(s, i) for i, s in enumerate(pred)], reverse=True)\n",
    "    return [(get_card_str(i), s) for s, i in score_i[:k]]"
   ]
  },
  {
   "cell_type": "code",
   "execution_count": 15,
   "metadata": {},
   "outputs": [],
   "source": [
    "# fnm_in = '../data/leads_raw/test/JOS_N.test.txt'\n",
    "# fnm_out = 'leads_nt_listing_jos.txt'\n",
    "# fnm_in = '../data/leads_raw/test/JOS_S.test.txt'\n",
    "# fnm_out = 'leads_suit_listing_jos.txt'\n",
    "# fnm_in = '../data/leads_raw/test/BW5C_S.test.txt'\n",
    "# fnm_out = 'leads_suit_listing_bw5c.txt'\n",
    "fnm_in = '../data/leads_raw/test/BW5C_N.test.txt'\n",
    "fnm_out = 'leads_nt_listing_bw5c.txt'\n",
    "fout = open(fnm_out, 'w')\n",
    "n_hands = 1000\n",
    "\n",
    "lead_it = lead_iterator(open(fnm_in))\n",
    "for (i, (a, h, hand, outcome, auction, jack_lead, lead_tricks)) in enumerate(lead_it):\n",
    "    if i > n_hands:\n",
    "        break\n",
    "    \n",
    "    \n",
    "    p = sess.run(pred, feed_dict={A: a, H: h, keep_prob: 1.0})[0]\n",
    "    \n",
    "    top_lead = get_top_leads(p)[0][0]\n",
    "    \n",
    "    if top_lead != jack_lead:\n",
    "        \n",
    "        fout.write(outcome)\n",
    "        fout.write('\\n')\n",
    "        fout.write(auction)\n",
    "        fout.write('\\n')\n",
    "        fout.write(hand)\n",
    "        fout.write('\\n')\n",
    "    \n",
    "        fout.write(' %s\\n' % jack_lead)\n",
    "        for card, score in get_top_leads(p):\n",
    "            fout.write('  %s %1.3f' % (card, score))\n",
    "            \n",
    "        fout.write('\\nJack tricks: %d\\n' % lead_tricks[jack_lead])\n",
    "        fout.write('BNN tricks: %d\\n' % lead_tricks[top_lead])\n",
    "\n",
    "        fout.write('\\n------------\\n')\n",
    "\n",
    "fout.close()"
   ]
  },
  {
   "cell_type": "code",
   "execution_count": 11,
   "metadata": {},
   "outputs": [],
   "source": [
    "def small_card_x(card_str):\n",
    "    if card_str[1] in ('7', '6', '5', '4', '3', '2'):\n",
    "        return card_str[0] + 'x'\n",
    "    return card_str"
   ]
  },
  {
   "cell_type": "code",
   "execution_count": 12,
   "metadata": {},
   "outputs": [
    {
     "name": "stdout",
     "output_type": "stream",
     "text": [
      "../data/leads_raw/test/BW5C_N.test.txt\n",
      "../data/leads_raw/test/BW5C_S.test.txt\n",
      "../data/leads_raw/test/JOS_N.test.txt\n",
      "../data/leads_raw/test/JOS_S.test.txt\n"
     ]
    }
   ],
   "source": [
    "nn_leads = []\n",
    "jack_leads = []\n",
    "tricks_given = []\n",
    "for fnm in glob.glob('../data/leads_raw/test/*.txt'):\n",
    "    print(fnm)\n",
    "    for a, h, hand, outcome, auction, jack_lead, lead_tricks in lead_iterator(open(fnm)):\n",
    "        a_zeros = np.zeros((1, 24, 40))\n",
    "        #a = a_zeros\n",
    "        p = (h[:,18:] * sess.run(pred, feed_dict={A: a, H: h, keep_prob: 1.0}))[0]\n",
    "        \n",
    "        nn_lead = get_top_leads(p)[0][0]\n",
    "        \n",
    "        max_tricks = max(lead_tricks.values())\n",
    "        tricks_given.append(max_tricks - lead_tricks[nn_lead])\n",
    "        \n",
    "        nn_lead_x = small_card_x(nn_lead)\n",
    "        nn_leads.append(nn_lead_x)\n",
    "        jack_leads.append(small_card_x(jack_lead))"
   ]
  },
  {
   "cell_type": "code",
   "execution_count": 33,
   "metadata": {},
   "outputs": [
    {
     "name": "stdout",
     "output_type": "stream",
     "text": [
      "104278 ../data/leads_raw/test/JOS_N.test.txt\r\n"
     ]
    }
   ],
   "source": [
    "!wc -l ../data/leads_raw/test/JOS_N.test.txt"
   ]
  },
  {
   "cell_type": "code",
   "execution_count": 21,
   "metadata": {},
   "outputs": [
    {
     "data": {
      "text/plain": [
       "(36906, 36906)"
      ]
     },
     "execution_count": 21,
     "metadata": {},
     "output_type": "execute_result"
    }
   ],
   "source": [
    "len(nn_leads), len(jack_leads)"
   ]
  },
  {
   "cell_type": "code",
   "execution_count": 24,
   "metadata": {},
   "outputs": [
    {
     "data": {
      "text/plain": [
       "[]"
      ]
     },
     "execution_count": 24,
     "metadata": {},
     "output_type": "execute_result"
    }
   ],
   "source": [
    "nn_leads[95625//17:(95625+155567)][:10]"
   ]
  },
  {
   "cell_type": "code",
   "execution_count": 23,
   "metadata": {},
   "outputs": [
    {
     "data": {
      "text/plain": [
       "[]"
      ]
     },
     "execution_count": 23,
     "metadata": {},
     "output_type": "execute_result"
    }
   ],
   "source": [
    "list(zip(nn_leads[95625:(95625+155567)], jack_leads[95625:(95625+155567)]))[:10]"
   ]
  },
  {
   "cell_type": "code",
   "execution_count": 17,
   "metadata": {},
   "outputs": [
    {
     "name": "stdout",
     "output_type": "stream",
     "text": [
      "0.7472\n",
      "0.7889777777777778\n"
     ]
    }
   ],
   "source": [
    "start_i, end_i = 0, 95625 // 17\n",
    "#start_i, end_i = 95625 // 17, (95625 + 155567) // 17\n",
    "#start_i, end_i = (95625 + 155567) // 17, (95625 + 155567 + 104278) // 17\n",
    "#start_i, end_i = (95625 + 155567 + 104278) // 17, (95625 + 155567 + 104278 + 272000) // 17\n",
    "print(sum((nn_lead == jack_lead) for nn_lead, jack_lead in zip(nn_leads[start_i:end_i], jack_leads[start_i:end_i])) / (end_i - start_i))\n",
    "print(sum((nn_lead[0] == jack_lead[0]) for nn_lead, jack_lead in zip(nn_leads[start_i:end_i], jack_leads[start_i:end_i])) / (end_i - start_i))"
   ]
  },
  {
   "cell_type": "code",
   "execution_count": 14,
   "metadata": {},
   "outputs": [
    {
     "data": {
      "text/plain": [
       "0.7219964233457974"
      ]
     },
     "execution_count": 14,
     "metadata": {},
     "output_type": "execute_result"
    }
   ],
   "source": [
    "sum((nn_lead == jack_lead) for nn_lead, jack_lead in zip(nn_leads, jack_leads)) / len(nn_leads)"
   ]
  },
  {
   "cell_type": "code",
   "execution_count": 15,
   "metadata": {},
   "outputs": [
    {
     "data": {
      "text/plain": [
       "0.7564894597084485"
      ]
     },
     "execution_count": 15,
     "metadata": {},
     "output_type": "execute_result"
    }
   ],
   "source": [
    "sum((nn_lead[0] == jack_lead[0]) for nn_lead, jack_lead in zip(nn_leads, jack_leads)) / len(nn_leads)"
   ]
  },
  {
   "cell_type": "code",
   "execution_count": 13,
   "metadata": {},
   "outputs": [
    {
     "data": {
      "text/plain": [
       "0.2400693654148377"
      ]
     },
     "execution_count": 13,
     "metadata": {},
     "output_type": "execute_result"
    }
   ],
   "source": [
    "np.mean(tricks_given)"
   ]
  },
  {
   "cell_type": "code",
   "execution_count": 14,
   "metadata": {},
   "outputs": [
    {
     "data": {
      "image/png": "[encoded data removed]",
      "text/plain": [
       "<matplotlib.figure.Figure at 0x7f16d822c278>"
      ]
     },
     "metadata": {},
     "output_type": "display_data"
    }
   ],
   "source": [
    "plt.hist(tricks_given, 20);"
   ]
  },
  {
   "cell_type": "code",
   "execution_count": 15,
   "metadata": {},
   "outputs": [
    {
     "data": {
      "text/plain": [
       "[('DJ', 'DK'),\n",
       " ('DT', 'CT'),\n",
       " ('HT', 'Cx'),\n",
       " ('Cx', 'S9'),\n",
       " ('Hx', 'Cx'),\n",
       " ('Dx', 'Cx'),\n",
       " ('Cx', 'CT'),\n",
       " ('Cx', 'Hx'),\n",
       " ('SQ', 'CT'),\n",
       " ('Sx', 'DT'),\n",
       " ('Hx', 'Cx'),\n",
       " ('Dx', 'D8'),\n",
       " ('SQ', 'Sx'),\n",
       " ('Dx', 'Sx'),\n",
       " ('CJ', 'Dx'),\n",
       " ('Sx', 'Sx'),\n",
       " ('DQ', 'DK'),\n",
       " ('Dx', 'Cx'),\n",
       " ('HQ', 'HK'),\n",
       " ('SJ', 'SQ')]"
      ]
     },
     "execution_count": 15,
     "metadata": {},
     "output_type": "execute_result"
    }
   ],
   "source": [
    "list(zip(nn_leads, jack_leads))[:20]"
   ]
  },
  {
   "cell_type": "code",
   "execution_count": 15,
   "metadata": {},
   "outputs": [],
   "source": [
    "def metric(predictions, costs):\n",
    "    predicted_indexes = np.argmax(predictions, axis=1)\n",
    "    result = []\n",
    "    for i in range(len(predictions)):\n",
    "        result.append(costs[i, predicted_indexes[i]])\n",
    "        \n",
    "    return result\n"
   ]
  },
  {
   "cell_type": "code",
   "execution_count": 16,
   "metadata": {},
   "outputs": [],
   "source": [
    "L = np.load('../data/leads_bin2/L_val.npy')\n",
    "C = np.load('../data/leads_bin2/C_val.npy')"
   ]
  },
  {
   "cell_type": "code",
   "execution_count": 17,
   "metadata": {},
   "outputs": [],
   "source": [
    "losses = metric(L, C)"
   ]
  },
  {
   "cell_type": "code",
   "execution_count": 18,
   "metadata": {},
   "outputs": [
    {
     "data": {
      "text/plain": [
       "0.33936"
      ]
     },
     "execution_count": 18,
     "metadata": {},
     "output_type": "execute_result"
    }
   ],
   "source": [
    "np.mean(losses)"
   ]
  },
  {
   "cell_type": "code",
   "execution_count": 19,
   "metadata": {},
   "outputs": [],
   "source": [
    "import matplotlib.pyplot as plt"
   ]
  },
  {
   "cell_type": "code",
   "execution_count": 20,
   "metadata": {},
   "outputs": [],
   "source": [
    "%matplotlib inline"
   ]
  },
  {
   "cell_type": "code",
   "execution_count": 21,
   "metadata": {},
   "outputs": [
    {
     "data": {
      "image/png": "[encoded data removed]",
      "text/plain": [
       "<matplotlib.figure.Figure at 0x7f25c09d6208>"
      ]
     },
     "metadata": {},
     "output_type": "display_data"
    }
   ],
   "source": [
    "plt.hist(losses, 40);"
   ]
  },
  {
   "cell_type": "code",
   "execution_count": 31,
   "metadata": {},
   "outputs": [],
   "source": [
    "A_val = np.load('../data/leads_bin2/A_val.npy')\n",
    "H_val = np.load('../data/leads_bin2/H_val.npy')"
   ]
  },
  {
   "cell_type": "code",
   "execution_count": 32,
   "metadata": {},
   "outputs": [
    {
     "data": {
      "text/plain": [
       "((10000, 24, 40), (10000, 70))"
      ]
     },
     "execution_count": 32,
     "metadata": {},
     "output_type": "execute_result"
    }
   ],
   "source": [
    "A_val.shape, H_val.shape"
   ]
  },
  {
   "cell_type": "code",
   "execution_count": 19,
   "metadata": {},
   "outputs": [
    {
     "data": {
      "text/plain": [
       "array([[ 0.        ,  0.        ,  0.1566782 ,  0.03503932,  0.        ,\n",
       "         0.00051358,  0.00073965,  0.        ,  0.00077453,  0.00222775,\n",
       "         0.        ,  0.        ,  0.        ,  0.        ,  0.        ,\n",
       "         0.01199078,  0.        ,  0.        ,  0.        ,  0.        ,\n",
       "         0.        ,  0.        ,  0.00696403,  0.        ,  0.01082721,\n",
       "         0.        ,  0.        ,  0.        ,  0.        ,  0.        ,\n",
       "         0.        ,  0.        ,  0.        ,  0.        ,  0.00281614,\n",
       "         0.        ,  0.0148021 ,  0.        ,  0.        ,  0.        ,\n",
       "         0.        ,  0.        ,  0.        ,  0.        ,  0.        ,\n",
       "         0.        ,  0.        ,  0.00149825,  0.00252849,  0.        ,\n",
       "         0.        ,  0.        ],\n",
       "       [ 0.        ,  0.        ,  0.        ,  0.        ,  0.00341247,\n",
       "         0.        ,  0.0021444 ,  0.00141141,  0.        ,  0.        ,\n",
       "         0.        ,  0.        ,  0.        ,  0.03810577,  0.        ,\n",
       "         0.        ,  0.04760906,  0.        ,  0.        ,  0.        ,\n",
       "         0.        ,  0.        ,  0.00709159,  0.02211106,  0.        ,\n",
       "         0.        ,  0.03690435,  0.        ,  0.        ,  0.        ,\n",
       "         0.01430816,  0.00112153,  0.        ,  0.        ,  0.        ,\n",
       "         0.        ,  0.        ,  0.        ,  0.        ,  0.        ,\n",
       "         0.        ,  0.        ,  0.        ,  0.        ,  0.        ,\n",
       "         0.        ,  0.        ,  0.00258965,  0.00437978,  0.        ,\n",
       "         0.        ,  0.06917904]], dtype=float32)"
      ]
     },
     "execution_count": 19,
     "metadata": {},
     "output_type": "execute_result"
    }
   ],
   "source": [
    "sess.run(pred, feed_dict={\n",
    "    A: A_val[:2, :, :], \n",
    "    H: H_val[:2, :],\n",
    "    keep_prob: 1.0\n",
    "})"
   ]
  },
  {
   "cell_type": "code",
   "execution_count": 30,
   "metadata": {},
   "outputs": [
    {
     "ename": "NameError",
     "evalue": "name 'A_val' is not defined",
     "output_type": "error",
     "traceback": [
      "\u001b[0;31m---------------------------------------------------------------------------\u001b[0m",
      "\u001b[0;31mNameError\u001b[0m                                 Traceback (most recent call last)",
      "\u001b[0;32m<ipython-input-30-a4fe594b3e32>\u001b[0m in \u001b[0;36m<module>\u001b[0;34m()\u001b[0m\n\u001b[0;32m----> 1\u001b[0;31m \u001b[0mA_val\u001b[0m\u001b[0;34m.\u001b[0m\u001b[0mshape\u001b[0m\u001b[0;34m\u001b[0m\u001b[0m\n\u001b[0m",
      "\u001b[0;31mNameError\u001b[0m: name 'A_val' is not defined"
     ]
    }
   ],
   "source": [
    "A_val.shape"
   ]
  },
  {
   "cell_type": "code",
   "execution_count": 17,
   "metadata": {},
   "outputs": [
    {
     "data": {
      "text/plain": [
       "'1.4.0'"
      ]
     },
     "execution_count": 17,
     "metadata": {},
     "output_type": "execute_result"
    }
   ],
   "source": [
    "tf.__version__"
   ]
  },
  {
   "cell_type": "code",
   "execution_count": null,
   "metadata": {},
   "outputs": [],
   "source": []
  }
 ],
 "metadata": {
  "kernelspec": {
   "display_name": "Python 3",
   "language": "python",
   "name": "python3"
  },
  "language_info": {
   "codemirror_mode": {
    "name": "ipython",
    "version": 3
   },
   "file_extension": ".py",
   "mimetype": "text/x-python",
   "name": "python",
   "nbconvert_exporter": "python",
   "pygments_lexer": "ipython3",
   "version": "3.5.4"
  }
 },
 "nbformat": 4,
 "nbformat_minor": 2
}
