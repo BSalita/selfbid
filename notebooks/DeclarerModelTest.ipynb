{
 "cells": [
  {
   "cell_type": "code",
   "execution_count": 1,
   "metadata": {},
   "outputs": [],
   "source": [
    "import numpy as np\n",
    "import tensorflow as tf\n",
    "\n",
    "from collections import namedtuple\n",
    "\n",
    "from lead_binary import DealMeta, suit_index_lookup\n",
    "from binary_declarer import binary_hand, get_card_index"
   ]
  },
  {
   "cell_type": "code",
   "execution_count": 2,
   "metadata": {},
   "outputs": [],
   "source": [
    "sess = tf.InteractiveSession()"
   ]
  },
  {
   "cell_type": "code",
   "execution_count": 3,
   "metadata": {},
   "outputs": [],
   "source": [
    "model_path = './declarer_model2/declarer-940000'"
   ]
  },
  {
   "cell_type": "code",
   "execution_count": 4,
   "metadata": {},
   "outputs": [
    {
     "name": "stdout",
     "output_type": "stream",
     "text": [
      "INFO:tensorflow:Restoring parameters from ./declarer_model2/declarer-940000\n"
     ]
    }
   ],
   "source": [
    "saver = tf.train.import_meta_graph(model_path + '.meta')\n",
    "saver.restore(sess, model_path)"
   ]
  },
  {
   "cell_type": "code",
   "execution_count": 5,
   "metadata": {},
   "outputs": [],
   "source": [
    "graph = tf.get_default_graph()"
   ]
  },
  {
   "cell_type": "code",
   "execution_count": 6,
   "metadata": {},
   "outputs": [],
   "source": [
    "seq_in = graph.get_tensor_by_name('seq_in:0')\n",
    "seq_out = graph.get_tensor_by_name('seq_out:0')\n",
    "keep_prob = graph.get_tensor_by_name('keep_prob:0')\n",
    "\n",
    "out_card_logit = graph.get_tensor_by_name('out_card_logit:0')\n",
    "out_card_target = graph.get_tensor_by_name('out_card_target:0')"
   ]
  },
  {
   "cell_type": "code",
   "execution_count": 7,
   "metadata": {},
   "outputs": [],
   "source": [
    "state_c_0 = graph.get_tensor_by_name('state_c_0:0')\n",
    "state_h_0 = graph.get_tensor_by_name('state_h_0:0')\n",
    "\n",
    "state_c_1 = graph.get_tensor_by_name('state_c_1:0')\n",
    "state_h_1 = graph.get_tensor_by_name('state_h_1:0')\n",
    "\n",
    "state_c_2 = graph.get_tensor_by_name('state_c_2:0')\n",
    "state_h_2 = graph.get_tensor_by_name('state_h_2:0')\n",
    "\n",
    "state_c_3 = graph.get_tensor_by_name('state_c_3:0')\n",
    "state_h_3 = graph.get_tensor_by_name('state_h_3:0')\n",
    "\n",
    "state_c_4 = graph.get_tensor_by_name('state_c_4:0')\n",
    "state_h_4 = graph.get_tensor_by_name('state_h_4:0')\n",
    "\n",
    "next_c_0 = graph.get_tensor_by_name('next_c_0:0')\n",
    "next_h_0 = graph.get_tensor_by_name('next_h_0:0')\n",
    "\n",
    "next_c_1 = graph.get_tensor_by_name('next_c_1:0')\n",
    "next_h_1 = graph.get_tensor_by_name('next_h_1:0')\n",
    "\n",
    "next_c_2 = graph.get_tensor_by_name('next_c_2:0')\n",
    "next_h_2 = graph.get_tensor_by_name('next_h_2:0')\n",
    "\n",
    "next_c_3 = graph.get_tensor_by_name('next_c_3:0')\n",
    "next_h_3 = graph.get_tensor_by_name('next_h_3:0')\n",
    "\n",
    "next_c_4 = graph.get_tensor_by_name('next_c_4:0')\n",
    "next_h_4 = graph.get_tensor_by_name('next_h_4:0')\n",
    "\n",
    "x_in = graph.get_tensor_by_name('x_in:0')\n",
    "out_card = graph.get_tensor_by_name('out_card:0')"
   ]
  },
  {
   "cell_type": "code",
   "execution_count": 8,
   "metadata": {},
   "outputs": [
    {
     "data": {
      "text/plain": [
       "(TensorShape([Dimension(1), Dimension(147)]),\n",
       " TensorShape([Dimension(1), Dimension(32)]))"
      ]
     },
     "execution_count": 8,
     "metadata": {},
     "output_type": "execute_result"
    }
   ],
   "source": [
    "x_in.shape, out_card.shape"
   ]
  },
  {
   "cell_type": "code",
   "execution_count": 9,
   "metadata": {},
   "outputs": [],
   "source": [
    "State = namedtuple('State', ['c', 'h'])\n",
    "\n",
    "lstm_size = 128\n",
    "\n",
    "zero_state = (\n",
    "    State(c=np.zeros((1, lstm_size)), h=np.zeros((1, lstm_size))),\n",
    "    State(c=np.zeros((1, lstm_size)), h=np.zeros((1, lstm_size))),\n",
    "    State(c=np.zeros((1, lstm_size)), h=np.zeros((1, lstm_size))),\n",
    "    State(c=np.zeros((1, lstm_size)), h=np.zeros((1, lstm_size))),\n",
    "    State(c=np.zeros((1, lstm_size)), h=np.zeros((1, lstm_size))),\n",
    ")"
   ]
  },
  {
   "cell_type": "code",
   "execution_count": 10,
   "metadata": {},
   "outputs": [],
   "source": [
    "def model(sess, p_keep=1.0):\n",
    "    def pred_fun(x, state_in):\n",
    "        feed_dict = {\n",
    "            keep_prob: p_keep,\n",
    "            x_in: x,\n",
    "            state_c_0: state_in[0].c,\n",
    "            state_h_0: state_in[0].h,\n",
    "            state_c_1: state_in[1].c,\n",
    "            state_h_1: state_in[1].h,\n",
    "            state_c_2: state_in[2].c,\n",
    "            state_h_2: state_in[2].h,\n",
    "            state_c_3: state_in[2].c,\n",
    "            state_h_3: state_in[2].h,\n",
    "            state_c_4: state_in[2].c,\n",
    "            state_h_4: state_in[2].h,\n",
    "        }\n",
    "        cards = sess.run(out_card, feed_dict=feed_dict)\n",
    "        next_state = (\n",
    "            State(c=sess.run(next_c_0, feed_dict=feed_dict), h=sess.run(next_h_0, feed_dict=feed_dict)),\n",
    "            State(c=sess.run(next_c_1, feed_dict=feed_dict), h=sess.run(next_h_1, feed_dict=feed_dict)),\n",
    "            State(c=sess.run(next_c_2, feed_dict=feed_dict), h=sess.run(next_h_2, feed_dict=feed_dict)),\n",
    "            State(c=sess.run(next_c_3, feed_dict=feed_dict), h=sess.run(next_h_3, feed_dict=feed_dict)),\n",
    "            State(c=sess.run(next_c_4, feed_dict=feed_dict), h=sess.run(next_h_4, feed_dict=feed_dict)),\n",
    "        )\n",
    "        return cards, next_state\n",
    "    return pred_fun"
   ]
  },
  {
   "cell_type": "code",
   "execution_count": 11,
   "metadata": {},
   "outputs": [],
   "source": [
    "decl = model(sess)"
   ]
  },
  {
   "cell_type": "raw",
   "metadata": {},
   "source": [
    "W:AJT9.J84.JT9872. 6.Q9.AKQ3.KJ9743 Q87542.A73.6.AQ8 K3.KT652.54.T652 #:0012 C:BW5C T:1 D:W V:NS A:PP1C2SPP4SPPPPPP R1:4S.+1.E R2:4S.+2.E\n",
    "\n",
    "W:K6.96.A987.KJ753 J9872.J8.J652.98 AQ53.QT52.KQ.A62 T4.AK743.T43.QT4 #:0049 C:BW5C T:1 D:N V:- A:PP1NPP3NPPPPPP R1:3N.+2.E R2:3N.+4.E\n",
    "\n",
    "W:AJ4.T73.AT64.AQ3 T982.A862.KQJ2.K 753.KQJ.53.T8652 KQ6.954.987.J974 #:0052 C:BW5C T:1 D:W V:ALL A:1NPPPPPP R1:1N.=.W R2:1N.=.W"
   ]
  },
  {
   "cell_type": "code",
   "execution_count": 12,
   "metadata": {},
   "outputs": [],
   "source": [
    "# deal_str = 'W:T9.T86.AK3.AT873 AKQ87.AKQ5.Q862. J65.7432.J94.KJ6 432.J9.T75.Q9542'\n",
    "\n",
    "# outcome = 'S - 4S.=.N'\n",
    "\n",
    "deal_str = 'W:AJT9.J84.JT9872. 6.Q9.AKQ3.KJ9743 Q87542.A73.6.AQ8 K3.KT652.54.T652'\n",
    "\n",
    "outcome = 'W NS 4S.+2.E'"
   ]
  },
  {
   "cell_type": "code",
   "execution_count": 13,
   "metadata": {},
   "outputs": [],
   "source": [
    "hands = list(map(lambda hand_str: list(map(list, hand_str.split('.'))), deal_str[2:].split()))"
   ]
  },
  {
   "cell_type": "code",
   "execution_count": 14,
   "metadata": {},
   "outputs": [
    {
     "data": {
      "text/plain": [
       "[[['A', 'J', 'T', '9'], ['J', '8', '4'], ['J', 'T', '9', '8', '7', '2'], []],\n",
       " [['6'], ['Q', '9'], ['A', 'K', 'Q', '3'], ['K', 'J', '9', '7', '4', '3']],\n",
       " [['Q', '8', '7', '5', '4', '2'], ['A', '7', '3'], ['6'], ['A', 'Q', '8']],\n",
       " [['K', '3'], ['K', 'T', '6', '5', '2'], ['5', '4'], ['T', '6', '5', '2']]]"
      ]
     },
     "execution_count": 14,
     "metadata": {},
     "output_type": "execute_result"
    }
   ],
   "source": [
    "hands"
   ]
  },
  {
   "cell_type": "code",
   "execution_count": 15,
   "metadata": {},
   "outputs": [],
   "source": [
    "declarer_bin = binary_hand(hands[2])\n",
    "dummy_bin = binary_hand(hands[0])"
   ]
  },
  {
   "cell_type": "code",
   "execution_count": 16,
   "metadata": {},
   "outputs": [
    {
     "data": {
      "text/plain": [
       "array([[ 1.,  0.,  0.,  1.,  1.,  1.,  0.,  0.],\n",
       "       [ 0.,  0.,  0.,  1.,  0.,  0.,  1.,  1.],\n",
       "       [ 0.,  0.,  0.,  1.,  1.,  1.,  1.,  2.],\n",
       "       [ 0.,  0.,  0.,  0.,  0.,  0.,  0.,  0.]], dtype=float16)"
      ]
     },
     "execution_count": 16,
     "metadata": {},
     "output_type": "execute_result"
    }
   ],
   "source": [
    "dummy_bin.reshape((4, 8))"
   ]
  },
  {
   "cell_type": "code",
   "execution_count": 17,
   "metadata": {},
   "outputs": [],
   "source": [
    "deal_meta = DealMeta.from_str(outcome)"
   ]
  },
  {
   "cell_type": "code",
   "execution_count": 18,
   "metadata": {},
   "outputs": [],
   "source": [
    "def get_x_in(declarer_bin, dummy_bin, card0, card1, d_meta, on_lead, on_play):\n",
    "    x = np.zeros((1, 147), np.float16)\n",
    "    \n",
    "    x[0, 137] = d_meta.level\n",
    "    if d_meta.strain == 'N':\n",
    "        x[0, 138] = 1\n",
    "    else:\n",
    "        x[0, 139 + suit_index_lookup[d_meta.strain]] = 1\n",
    "    x[0, 144] = int(d_meta.doubled)\n",
    "    x[0, 145] = int(d_meta.declarer_vuln())\n",
    "    x[0, 146] = int(d_meta.leader_vuln())\n",
    "    x[0, 128 + on_lead] = 1\n",
    "    x[0, 132 + on_play] = 1\n",
    "    x[0, 0:32] = dummy_bin[:,:]\n",
    "    x[0, 32:64] = declarer_bin[:,:]\n",
    "    if card0 != '>>':\n",
    "        x[0, 64 + get_card_index(card0)] = 1\n",
    "    x[0, 96 + get_card_index(card1)] = 1\n",
    "    \n",
    "    return x"
   ]
  },
  {
   "cell_type": "code",
   "execution_count": 19,
   "metadata": {},
   "outputs": [],
   "source": [
    "next_state = zero_state"
   ]
  },
  {
   "cell_type": "raw",
   "metadata": {},
   "source": [
    "W:T9.T86.AK3.AT873 AKQ87.AKQ5.Q862. J65.7432.J94.KJ6 432.J9.T75.Q9542\n",
    "\n",
    "W:AJT9.J84.JT9872. 6.Q9.AKQ3.KJ9743 Q87542.A73.6.AQ8 K3.KT652.54.T652\n",
    "\n",
    "W:K6.96.A987.KJ753 J9872.J8.J652.98 AQ53.QT52.KQ.A62 T4.AK743.T43.QT4\n",
    "\n",
    "W:AJ4.T73.AT64.AQ3 T982.A862.KQJ2.K 753.KQJ.53.T8652 KQ6.954.987.J974"
   ]
  },
  {
   "cell_type": "code",
   "execution_count": 44,
   "metadata": {},
   "outputs": [],
   "source": [
    "dummy_bin[0, get_card_index('D5')] -= 1"
   ]
  },
  {
   "cell_type": "code",
   "execution_count": 40,
   "metadata": {},
   "outputs": [],
   "source": [
    "declarer_bin[0, get_card_index('DQ')] -= 1"
   ]
  },
  {
   "cell_type": "code",
   "execution_count": 20,
   "metadata": {},
   "outputs": [],
   "source": [
    "x = get_x_in(declarer_bin, dummy_bin, '>>', 'C2', deal_meta, 0, 1)"
   ]
  },
  {
   "cell_type": "code",
   "execution_count": 21,
   "metadata": {},
   "outputs": [],
   "source": [
    "card, next_state = decl(x, next_state)"
   ]
  },
  {
   "cell_type": "code",
   "execution_count": 22,
   "metadata": {},
   "outputs": [
    {
     "data": {
      "text/plain": [
       "array([[  3.79360776e-04,   5.06378361e-04,   2.64651934e-03,\n",
       "          1.04095484e-03,   2.08720285e-03,   3.46488327e-01,\n",
       "          3.37117926e-05,   3.67203538e-05],\n",
       "       [  3.78908262e-05,   4.04609782e-05,   6.53797542e-05,\n",
       "          1.26800779e-03,   1.88201142e-04,   8.72436154e-04,\n",
       "          8.94523342e-04,   3.09821695e-01],\n",
       "       [  4.71577841e-05,   7.67370148e-05,   1.51492204e-04,\n",
       "          7.73113628e-04,   4.55712696e-04,   1.73731986e-03,\n",
       "          5.62496157e-03,   3.24690968e-01],\n",
       "       [  3.67561256e-07,   5.27790417e-06,   1.48076344e-06,\n",
       "          9.35530352e-06,   1.40150214e-05,   3.54903773e-06,\n",
       "          4.59555423e-07,   1.81333078e-07]], dtype=float32)"
      ]
     },
     "execution_count": 22,
     "metadata": {},
     "output_type": "execute_result"
    }
   ],
   "source": [
    "card.reshape((4, 8))"
   ]
  },
  {
   "cell_type": "code",
   "execution_count": 57,
   "metadata": {},
   "outputs": [
    {
     "data": {
      "text/plain": [
       "array([[ 1.,  0.,  0.,  1.,  1.,  0.,  0.,  0.],\n",
       "       [ 0.,  0.,  0.,  1.,  0.,  0.,  1.,  1.],\n",
       "       [ 0.,  0.,  0.,  1.,  1.,  1.,  0.,  0.],\n",
       "       [ 0.,  0.,  0.,  0.,  0.,  0.,  0.,  0.]], dtype=float16)"
      ]
     },
     "execution_count": 57,
     "metadata": {},
     "output_type": "execute_result"
    }
   ],
   "source": [
    "dummy_bin.reshape(4, 8)"
   ]
  },
  {
   "cell_type": "code",
   "execution_count": 50,
   "metadata": {},
   "outputs": [
    {
     "data": {
      "text/plain": [
       "array([[ 1.,  1.,  1.,  0.,  0.,  0.,  1.,  0.],\n",
       "       [ 1.,  1.,  0.,  0.,  0.,  0.,  0.,  1.],\n",
       "       [ 0.,  0.,  1.,  0.,  0.,  0.,  1.,  2.],\n",
       "       [ 0.,  0.,  0.,  0.,  0.,  0.,  0.,  0.]], dtype=float16)"
      ]
     },
     "execution_count": 50,
     "metadata": {},
     "output_type": "execute_result"
    }
   ],
   "source": [
    "declarer_bin.reshape(4, 8)"
   ]
  },
  {
   "cell_type": "code",
   "execution_count": 37,
   "metadata": {},
   "outputs": [
    {
     "data": {
      "text/plain": [
       "<tf.Tensor 'state_h_2:0' shape=(1, 128) dtype=float32>"
      ]
     },
     "execution_count": 37,
     "metadata": {},
     "output_type": "execute_result"
    }
   ],
   "source": [
    "state_h_2"
   ]
  },
  {
   "cell_type": "code",
   "execution_count": null,
   "metadata": {},
   "outputs": [],
   "source": [
    "sess.run(out_card, {\n",
    "    keep_prob: 1.0,\n",
    "    x_in: x\n",
    "})"
   ]
  }
 ],
 "metadata": {
  "kernelspec": {
   "display_name": "Python 3",
   "language": "python",
   "name": "python3"
  },
  "language_info": {
   "codemirror_mode": {
    "name": "ipython",
    "version": 3
   },
   "file_extension": ".py",
   "mimetype": "text/x-python",
   "name": "python",
   "nbconvert_exporter": "python",
   "pygments_lexer": "ipython3",
   "version": "3.5.4"
  }
 },
 "nbformat": 4,
 "nbformat_minor": 2
}
