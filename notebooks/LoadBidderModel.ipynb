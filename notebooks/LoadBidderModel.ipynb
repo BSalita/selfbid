{
 "cells": [
  {
   "cell_type": "code",
   "execution_count": 10,
   "metadata": {},
   "outputs": [],
   "source": [
    "import numpy as np\n",
    "import tensorflow as tf\n",
    "\n",
    "import bidding\n",
    "\n",
    "from collections import namedtuple\n",
    "\n",
    "from binary_sayc import DealData\n",
    "from simulator import Simulator"
   ]
  },
  {
   "cell_type": "code",
   "execution_count": 2,
   "metadata": {},
   "outputs": [],
   "source": [
    "State = namedtuple('State', ['c', 'h'])"
   ]
  },
  {
   "cell_type": "code",
   "execution_count": 3,
   "metadata": {},
   "outputs": [],
   "source": [
    "class Bidder:\n",
    "    \n",
    "    def __init__(self, name, model_path):\n",
    "        self.name = name\n",
    "        self.model_path = model_path\n",
    "        self.sess = tf.InteractiveSession()\n",
    "        self.load_model()\n",
    "        self.lstm_size = 128\n",
    "        self.zero_state = (\n",
    "            State(c=np.zeros((1, self.lstm_size)), h=np.zeros((1, self.lstm_size))),\n",
    "            State(c=np.zeros((1, self.lstm_size)), h=np.zeros((1, self.lstm_size))),\n",
    "            State(c=np.zeros((1, self.lstm_size)), h=np.zeros((1, self.lstm_size))),\n",
    "        )\n",
    "        self.nesw_initial = [self.zero_state, self.zero_state, self.zero_state, self.zero_state]\n",
    "        self.model = self.init_model()\n",
    "        \n",
    "    def close(self):\n",
    "        self.sess.close()\n",
    "        \n",
    "    def load_model(self):\n",
    "        saver = tf.train.import_meta_graph(self.model_path + '.meta')\n",
    "        saver.restore(self.sess, self.model_path)\n",
    "        \n",
    "    def init_model(self):\n",
    "        graph = self.sess.graph\n",
    "\n",
    "        seq_in = graph.get_tensor_by_name('seq_in:0')\n",
    "        seq_out = graph.get_tensor_by_name('seq_out:0')\n",
    "        keep_prob = graph.get_tensor_by_name('keep_prob:0')\n",
    "\n",
    "        out_bid_logit = graph.get_tensor_by_name('out_bid_logit:0')\n",
    "        out_bid_target = graph.get_tensor_by_name('out_bid_target:0')\n",
    "\n",
    "        state_c_0 = graph.get_tensor_by_name('state_c_0:0')\n",
    "        state_h_0 = graph.get_tensor_by_name('state_h_0:0')\n",
    "\n",
    "        state_c_1 = graph.get_tensor_by_name('state_c_1:0')\n",
    "        state_h_1 = graph.get_tensor_by_name('state_h_1:0')\n",
    "\n",
    "        state_c_2 = graph.get_tensor_by_name('state_c_2:0')\n",
    "        state_h_2 = graph.get_tensor_by_name('state_h_2:0')\n",
    "\n",
    "        next_c_0 = graph.get_tensor_by_name('next_c_0:0')\n",
    "        next_h_0 = graph.get_tensor_by_name('next_h_0:0')\n",
    "\n",
    "        next_c_1 = graph.get_tensor_by_name('next_c_1:0')\n",
    "        next_h_1 = graph.get_tensor_by_name('next_h_1:0')\n",
    "\n",
    "        next_c_2 = graph.get_tensor_by_name('next_c_2:0')\n",
    "        next_h_2 = graph.get_tensor_by_name('next_h_2:0')\n",
    "\n",
    "        x_in = graph.get_tensor_by_name('x_in:0')\n",
    "        out_bid = graph.get_tensor_by_name('out_bid:0')\n",
    "        \n",
    "        # defining model\n",
    "        p_keep = 1.0\n",
    "        \n",
    "        def pred_fun(x, state_in):\n",
    "            feed_dict = {\n",
    "                keep_prob: p_keep,\n",
    "                x_in: x,\n",
    "                state_c_0: state_in[0].c,\n",
    "                state_h_0: state_in[0].h,\n",
    "                state_c_1: state_in[1].c,\n",
    "                state_h_1: state_in[1].h,\n",
    "                state_c_2: state_in[2].c,\n",
    "                state_h_2: state_in[2].h,\n",
    "            }\n",
    "            bids = self.sess.run(out_bid, feed_dict=feed_dict)\n",
    "            next_state = (\n",
    "                State(c=self.sess.run(next_c_0, feed_dict=feed_dict), h=self.sess.run(next_h_0, feed_dict=feed_dict)),\n",
    "                State(c=self.sess.run(next_c_1, feed_dict=feed_dict), h=self.sess.run(next_h_1, feed_dict=feed_dict)),\n",
    "                State(c=self.sess.run(next_c_2, feed_dict=feed_dict), h=self.sess.run(next_h_2, feed_dict=feed_dict)),\n",
    "            )\n",
    "            return bids, next_state\n",
    "        return pred_fun\n",
    "        \n",
    "    def simulate_auction(self, deal_data):\n",
    "        deal_data.reset_auction()\n",
    "        sim = Simulator(deal_data, {}, self.model)\n",
    "        return sim.simulate_auction(deal_data.auction, self.nesw_initial, max_bid=True)"
   ]
  },
  {
   "cell_type": "code",
   "execution_count": 4,
   "metadata": {},
   "outputs": [
    {
     "name": "stdout",
     "output_type": "stream",
     "text": [
      "INFO:tensorflow:Restoring parameters from ./jos_model/jos-500000\n"
     ]
    }
   ],
   "source": [
    "jos_bidder = Bidder('jos', './jos_model/jos-500000')"
   ]
  },
  {
   "cell_type": "code",
   "execution_count": 6,
   "metadata": {},
   "outputs": [
    {
     "name": "stdout",
     "output_type": "stream",
     "text": [
      "INFO:tensorflow:Restoring parameters from ./bw5c_model/bw5c-500000\n"
     ]
    }
   ],
   "source": [
    "bw5c_bidder = Bidder('bw5c', './bw5c_model/bw5c-500000')"
   ]
  },
  {
   "cell_type": "code",
   "execution_count": null,
   "metadata": {},
   "outputs": [],
   "source": [
    "deal_str = 'SAK6 HK93 DK63 CQ763  SQJT72 HA865 DQJ8 CT  S98 HT2 DA542 CA9854  S543 HQJ74 DT97 CKJ2'\n",
    "auction_str = 'N Both'\n",
    "\n",
    "deal_data = DealData.from_deal_auction_string(deal_str, auction_str)"
   ]
  },
  {
   "cell_type": "code",
   "execution_count": 8,
   "metadata": {},
   "outputs": [
    {
     "data": {
      "text/plain": [
       "['1N', '2C', '2N', 'PASS', '3C', 'PASS', '3N', 'PASS', 'PASS', 'PASS']"
      ]
     },
     "execution_count": 8,
     "metadata": {},
     "output_type": "execute_result"
    }
   ],
   "source": [
    "jos_bidder.simulate_auction(deal_data)"
   ]
  },
  {
   "cell_type": "code",
   "execution_count": 9,
   "metadata": {},
   "outputs": [
    {
     "data": {
      "text/plain": [
       "['1N', 'PASS', '2N', 'PASS', 'PASS', 'PASS']"
      ]
     },
     "execution_count": 9,
     "metadata": {},
     "output_type": "execute_result"
    }
   ],
   "source": [
    "bw5c_bidder.simulate_auction(deal_data)"
   ]
  },
  {
   "cell_type": "code",
   "execution_count": null,
   "metadata": {},
   "outputs": [],
   "source": []
  },
  {
   "cell_type": "code",
   "execution_count": 9,
   "metadata": {},
   "outputs": [],
   "source": [
    "jos_bidder.close()"
   ]
  },
  {
   "cell_type": "code",
   "execution_count": 12,
   "metadata": {},
   "outputs": [
    {
     "data": {
      "text/plain": [
       "'3NN'"
      ]
     },
     "execution_count": 12,
     "metadata": {},
     "output_type": "execute_result"
    }
   ],
   "source": [
    "bidding.get_contract(['1N', '2C', '2N', 'PASS', '3C', 'PASS', '3N', 'PASS', 'PASS', 'PASS'])"
   ]
  },
  {
   "cell_type": "code",
   "execution_count": 15,
   "metadata": {},
   "outputs": [
    {
     "data": {
      "text/plain": [
       "-100"
      ]
     },
     "execution_count": 15,
     "metadata": {},
     "output_type": "execute_result"
    }
   ],
   "source": [
    "bidding.get_score('3NN', {'3NN': (-50, -100)}, deal_data.vuln_ns, deal_data.vuln_ew)"
   ]
  },
  {
   "cell_type": "code",
   "execution_count": null,
   "metadata": {},
   "outputs": [],
   "source": []
  }
 ],
 "metadata": {
  "kernelspec": {
   "display_name": "Python 3",
   "language": "python",
   "name": "python3"
  },
  "language_info": {
   "codemirror_mode": {
    "name": "ipython",
    "version": 3
   },
   "file_extension": ".py",
   "mimetype": "text/x-python",
   "name": "python",
   "nbconvert_exporter": "python",
   "pygments_lexer": "ipython3",
   "version": "3.5.4"
  }
 },
 "nbformat": 4,
 "nbformat_minor": 2
}
