{
 "cells": [
  {
   "cell_type": "code",
   "execution_count": 1,
   "metadata": {},
   "outputs": [],
   "source": [
    "import numpy as np\n",
    "import tensorflow as tf\n",
    "\n",
    "from collections import namedtuple\n",
    "\n",
    "from lead_binary import DealMeta, suit_index_lookup\n",
    "from binary_righty import binary_hand, get_card_index, encode_card"
   ]
  },
  {
   "cell_type": "code",
   "execution_count": 2,
   "metadata": {},
   "outputs": [],
   "source": [
    "sess = tf.InteractiveSession()"
   ]
  },
  {
   "cell_type": "code",
   "execution_count": 3,
   "metadata": {},
   "outputs": [],
   "source": [
    "#model_path = './righty_model/righty-1000000'\n",
    "#model_path = './decl_model/decl-1000000'\n",
    "model_path = './dummy_model/dummy-920000'\n",
    "#model_path = './lefty_model/lefty-1000000'"
   ]
  },
  {
   "cell_type": "code",
   "execution_count": 4,
   "metadata": {},
   "outputs": [
    {
     "name": "stdout",
     "output_type": "stream",
     "text": [
      "INFO:tensorflow:Restoring parameters from ./dummy_model/dummy-920000\n"
     ]
    }
   ],
   "source": [
    "saver = tf.train.import_meta_graph(model_path + '.meta')\n",
    "saver.restore(sess, model_path)"
   ]
  },
  {
   "cell_type": "code",
   "execution_count": 5,
   "metadata": {},
   "outputs": [],
   "source": [
    "graph = tf.get_default_graph()"
   ]
  },
  {
   "cell_type": "code",
   "execution_count": 6,
   "metadata": {},
   "outputs": [],
   "source": [
    "seq_in = graph.get_tensor_by_name('seq_in:0')\n",
    "seq_out = graph.get_tensor_by_name('seq_out:0')\n",
    "keep_prob = graph.get_tensor_by_name('keep_prob:0')\n",
    "\n",
    "out_card_logit = graph.get_tensor_by_name('out_card_logit:0')\n",
    "out_card_target = graph.get_tensor_by_name('out_card_target:0')"
   ]
  },
  {
   "cell_type": "code",
   "execution_count": 7,
   "metadata": {},
   "outputs": [
    {
     "data": {
      "text/plain": [
       "(TensorShape([Dimension(None), Dimension(32)]),\n",
       " TensorShape([Dimension(None), Dimension(32)]),\n",
       " TensorShape([Dimension(None), Dimension(None), Dimension(32)]))"
      ]
     },
     "execution_count": 7,
     "metadata": {},
     "output_type": "execute_result"
    }
   ],
   "source": [
    "out_card_logit.shape, out_card_target.shape, seq_out.shape"
   ]
  },
  {
   "cell_type": "code",
   "execution_count": 8,
   "metadata": {},
   "outputs": [],
   "source": [
    "state_c_0 = graph.get_tensor_by_name('state_c_0:0')\n",
    "state_h_0 = graph.get_tensor_by_name('state_h_0:0')\n",
    "\n",
    "state_c_1 = graph.get_tensor_by_name('state_c_1:0')\n",
    "state_h_1 = graph.get_tensor_by_name('state_h_1:0')\n",
    "\n",
    "state_c_2 = graph.get_tensor_by_name('state_c_2:0')\n",
    "state_h_2 = graph.get_tensor_by_name('state_h_2:0')\n",
    "\n",
    "next_c_0 = graph.get_tensor_by_name('next_c_0:0')\n",
    "next_h_0 = graph.get_tensor_by_name('next_h_0:0')\n",
    "\n",
    "next_c_1 = graph.get_tensor_by_name('next_c_1:0')\n",
    "next_h_1 = graph.get_tensor_by_name('next_h_1:0')\n",
    "\n",
    "next_c_2 = graph.get_tensor_by_name('next_c_2:0')\n",
    "next_h_2 = graph.get_tensor_by_name('next_h_2:0')\n",
    "\n",
    "x_in = graph.get_tensor_by_name('x_in:0')\n",
    "out_card = graph.get_tensor_by_name('out_card:0')"
   ]
  },
  {
   "cell_type": "code",
   "execution_count": 9,
   "metadata": {},
   "outputs": [
    {
     "data": {
      "text/plain": [
       "(TensorShape([Dimension(1), Dimension(298)]),\n",
       " TensorShape([Dimension(1), Dimension(32)]))"
      ]
     },
     "execution_count": 9,
     "metadata": {},
     "output_type": "execute_result"
    }
   ],
   "source": [
    "x_in.shape, out_card.shape"
   ]
  },
  {
   "cell_type": "code",
   "execution_count": 10,
   "metadata": {},
   "outputs": [],
   "source": [
    "State = namedtuple('State', ['c', 'h'])\n",
    "\n",
    "lstm_size = 128\n",
    "\n",
    "zero_state = (\n",
    "    State(c=np.zeros((1, lstm_size)), h=np.zeros((1, lstm_size))),\n",
    "    State(c=np.zeros((1, lstm_size)), h=np.zeros((1, lstm_size))),\n",
    "    State(c=np.zeros((1, lstm_size)), h=np.zeros((1, lstm_size))),\n",
    ")"
   ]
  },
  {
   "cell_type": "code",
   "execution_count": 13,
   "metadata": {},
   "outputs": [],
   "source": [
    "def model(sess, p_keep=1.0):\n",
    "    def pred_fun(x, state_in):\n",
    "        feed_dict = {\n",
    "            keep_prob: p_keep,\n",
    "            x_in: x,\n",
    "            state_c_0: state_in[0].c,\n",
    "            state_h_0: state_in[0].h,\n",
    "            state_c_1: state_in[1].c,\n",
    "            state_h_1: state_in[1].h,\n",
    "            state_c_2: state_in[2].c,\n",
    "            state_h_2: state_in[2].h,\n",
    "        }\n",
    "        cards = sess.run(out_card, feed_dict=feed_dict)\n",
    "        next_state = (\n",
    "            State(c=sess.run(next_c_0, feed_dict=feed_dict), h=sess.run(next_h_0, feed_dict=feed_dict)),\n",
    "            State(c=sess.run(next_c_1, feed_dict=feed_dict), h=sess.run(next_h_1, feed_dict=feed_dict)),\n",
    "            State(c=sess.run(next_c_2, feed_dict=feed_dict), h=sess.run(next_h_2, feed_dict=feed_dict)),\n",
    "        )\n",
    "        return cards, next_state\n",
    "    return pred_fun"
   ]
  },
  {
   "cell_type": "code",
   "execution_count": 14,
   "metadata": {},
   "outputs": [],
   "source": [
    "righty = model(sess)"
   ]
  },
  {
   "cell_type": "raw",
   "metadata": {},
   "source": [
    "W:AJT9.J84.JT9872. 6.Q9.AKQ3.KJ9743 Q87542.A73.6.AQ8 K3.KT652.54.T652 #:0012 C:BW5C T:1 D:W V:NS A:PP1C2SPP4SPPPPPP R1:4S.+1.E R2:4S.+2.E\n",
    "\n",
    "W:K6.96.A987.KJ753 J9872.J8.J652.98 AQ53.QT52.KQ.A62 T4.AK743.T43.QT4 #:0049 C:BW5C T:1 D:N V:- A:PP1NPP3NPPPPPP R1:3N.+2.E R2:3N.+4.E\n",
    "\n",
    "W:AJ4.T73.AT64.AQ3 T982.A862.KQJ2.K 753.KQJ.53.T8652 KQ6.954.987.J974 #:0052 C:BW5C T:1 D:W V:ALL A:1NPPPPPP R1:1N.=.W R2:1N.=.W"
   ]
  },
  {
   "cell_type": "code",
   "execution_count": 15,
   "metadata": {},
   "outputs": [],
   "source": [
    "deal_str = 'W:T9.T86.AK3.AT873 AKQ87.AKQ5.Q862. J65.7432.J94.KJ6 432.J9.T75.Q9542'\n",
    "\n",
    "outcome = 'S - 4S.=.N'\n",
    "\n",
    "# deal_str = 'W:AJT9.J84.JT9872. 6.Q9.AKQ3.KJ9743 Q87542.A73.6.AQ8 K3.KT652.54.T652'\n",
    "\n",
    "# outcome = 'W NS 4S.+2.E'"
   ]
  },
  {
   "cell_type": "code",
   "execution_count": 78,
   "metadata": {},
   "outputs": [],
   "source": [
    "hands = list(map(lambda hand_str: list(map(list, hand_str.split('.'))), deal_str[2:].split()))"
   ]
  },
  {
   "cell_type": "code",
   "execution_count": 79,
   "metadata": {},
   "outputs": [
    {
     "data": {
      "text/plain": [
       "[[['T', '9'], ['T', '8', '6'], ['A', 'K', '3'], ['A', 'T', '8', '7', '3']],\n",
       " [['A', 'K', 'Q', '8', '7'], ['A', 'K', 'Q', '5'], ['Q', '8', '6', '2'], []],\n",
       " [['J', '6', '5'], ['7', '4', '3', '2'], ['J', '9', '4'], ['K', 'J', '6']],\n",
       " [['4', '3', '2'], ['J', '9'], ['T', '7', '5'], ['Q', '9', '5', '4', '2']]]"
      ]
     },
     "execution_count": 79,
     "metadata": {},
     "output_type": "execute_result"
    }
   ],
   "source": [
    "hands"
   ]
  },
  {
   "cell_type": "code",
   "execution_count": 80,
   "metadata": {},
   "outputs": [],
   "source": [
    "righty_bin = binary_hand(hands[0])\n",
    "dummy_bin = binary_hand(hands[3])"
   ]
  },
  {
   "cell_type": "code",
   "execution_count": 81,
   "metadata": {},
   "outputs": [
    {
     "data": {
      "text/plain": [
       "array([[ 0.,  0.,  0.,  0.,  1.,  1.,  0.,  0.],\n",
       "       [ 0.,  0.,  0.,  0.,  1.,  0.,  1.,  1.],\n",
       "       [ 1.,  1.,  0.,  0.,  0.,  0.,  0.,  1.],\n",
       "       [ 1.,  0.,  0.,  0.,  1.,  0.,  1.,  2.]], dtype=float16)"
      ]
     },
     "execution_count": 81,
     "metadata": {},
     "output_type": "execute_result"
    }
   ],
   "source": [
    "righty_bin.reshape((4, 8))"
   ]
  },
  {
   "cell_type": "code",
   "execution_count": 82,
   "metadata": {},
   "outputs": [],
   "source": [
    "deal_meta = DealMeta.from_str(outcome)"
   ]
  },
  {
   "cell_type": "code",
   "execution_count": 83,
   "metadata": {},
   "outputs": [],
   "source": [
    "def get_x_in(righty_bin, dummy_bin, last_lead, last_trick, this_trick, d_meta):\n",
    "    x = np.zeros((1, 298), np.float16)\n",
    "    \n",
    "    x[0, 292] = d_meta.level\n",
    "    if d_meta.strain == 'N':\n",
    "        x[0, 293] = 1\n",
    "    else:\n",
    "        x[0, 294 + suit_index_lookup[d_meta.strain]] = 1\n",
    "    x[0, 288 + last_lead] = 1\n",
    "    \n",
    "    x[0, 0:32] = righty_bin\n",
    "    x[0, 32:64] = dummy_bin\n",
    "    \n",
    "    x[0, 64:96] = encode_card(last_trick[0])\n",
    "    x[0, 96:128] = encode_card(last_trick[1])\n",
    "    x[0, 128:160] = encode_card(last_trick[2])\n",
    "    x[0, 160:192] = encode_card(last_trick[3])\n",
    "    \n",
    "    x[0, 192:224] = encode_card(this_trick[0])\n",
    "    x[0, 224:256] = encode_card(this_trick[1])\n",
    "    x[0, 256:288] = encode_card(this_trick[2])\n",
    "    \n",
    "    return x"
   ]
  },
  {
   "cell_type": "code",
   "execution_count": 84,
   "metadata": {},
   "outputs": [],
   "source": [
    "next_state = zero_state"
   ]
  },
  {
   "cell_type": "raw",
   "metadata": {},
   "source": [
    "W:T9.T86.AK3.AT873 AKQ87.AKQ5.Q862. J65.7432.J94.KJ6 432.J9.T75.Q9542\n",
    "\n",
    "W:AJT9.J84.JT9872. 6.Q9.AKQ3.KJ9743 Q87542.A73.6.AQ8 K3.KT652.54.T652\n",
    "\n",
    "W:K6.96.A987.KJ753 J9872.J8.J652.98 AQ53.QT52.KQ.A62 T4.AK743.T43.QT4\n",
    "\n",
    "W:AJ4.T73.AT64.AQ3 T982.A862.KQJ2.K 753.KQJ.53.T8652 KQ6.954.987.J974"
   ]
  },
  {
   "cell_type": "code",
   "execution_count": 117,
   "metadata": {},
   "outputs": [],
   "source": [
    "dummy_bin[get_card_index('D5')] -= 1"
   ]
  },
  {
   "cell_type": "code",
   "execution_count": 121,
   "metadata": {},
   "outputs": [],
   "source": [
    "righty_bin[get_card_index('HT')] -= 1"
   ]
  },
  {
   "cell_type": "code",
   "execution_count": 122,
   "metadata": {},
   "outputs": [],
   "source": [
    "x = get_x_in(righty_bin, dummy_bin, 1, ['D4', 'D5', 'DK', 'D2'],  ['>>', '>>', '>>'], deal_meta)"
   ]
  },
  {
   "cell_type": "code",
   "execution_count": 123,
   "metadata": {},
   "outputs": [],
   "source": [
    "card, next_state = righty(x, next_state)"
   ]
  },
  {
   "cell_type": "code",
   "execution_count": 124,
   "metadata": {},
   "outputs": [
    {
     "data": {
      "text/plain": [
       "array([[  5.96527805e-09,   7.81264862e-06,   5.28886403e-06,\n",
       "          2.85826559e-07,   1.16330312e-07,   1.17727176e-07,\n",
       "          7.52518492e-09,   9.90443194e-09],\n",
       "       [  8.55782833e-10,   4.29609418e-06,   3.56907585e-05,\n",
       "          1.67684368e-04,   3.86898249e-01,   4.02634432e-05,\n",
       "          1.51020974e-01,   1.29349564e-05],\n",
       "       [  2.41957545e-01,   2.07751500e-03,   1.48116055e-06,\n",
       "          1.61340085e-05,   2.50886887e-06,   8.16236061e-05,\n",
       "          2.91481638e-06,   2.18722317e-02],\n",
       "       [  4.27268151e-06,   2.33556329e-06,   2.17595170e-05,\n",
       "          1.45187096e-06,   4.74915579e-02,   8.48249874e-06,\n",
       "          6.43345118e-02,   8.39298293e-02]], dtype=float32)"
      ]
     },
     "execution_count": 124,
     "metadata": {},
     "output_type": "execute_result"
    }
   ],
   "source": [
    "card.reshape((4, 8))"
   ]
  },
  {
   "cell_type": "code",
   "execution_count": 94,
   "metadata": {},
   "outputs": [
    {
     "data": {
      "text/plain": [
       "array([[ 0.,  0.,  0.,  0.,  0.,  0.,  0.,  1.],\n",
       "       [ 0.,  0.,  0.,  1.,  0.,  1.,  0.,  0.],\n",
       "       [ 0.,  0.,  0.,  0.,  1.,  0.,  0.,  2.],\n",
       "       [ 0.,  0.,  1.,  0.,  0.,  1.,  0.,  3.]], dtype=float16)"
      ]
     },
     "execution_count": 94,
     "metadata": {},
     "output_type": "execute_result"
    }
   ],
   "source": [
    "dummy_bin.reshape((4, 8))"
   ]
  },
  {
   "cell_type": "code",
   "execution_count": 97,
   "metadata": {},
   "outputs": [
    {
     "data": {
      "text/plain": [
       "array([[ 0.,  0.,  0.,  0.,  1.,  1.,  0.,  0.],\n",
       "       [ 0.,  0.,  0.,  0.,  1.,  0.,  1.,  1.],\n",
       "       [ 1.,  1.,  0.,  0.,  0.,  0.,  0.,  1.],\n",
       "       [ 0.,  0.,  0.,  0.,  1.,  0.,  1.,  2.]], dtype=float16)"
      ]
     },
     "execution_count": 97,
     "metadata": {},
     "output_type": "execute_result"
    }
   ],
   "source": [
    "righty_bin.reshape((4, 8))"
   ]
  },
  {
   "cell_type": "code",
   "execution_count": 28,
   "metadata": {},
   "outputs": [],
   "source": [
    "import scipy.special"
   ]
  },
  {
   "cell_type": "code",
   "execution_count": null,
   "metadata": {},
   "outputs": [],
   "source": [
    "tf.nn.softmax()"
   ]
  },
  {
   "cell_type": "code",
   "execution_count": 11,
   "metadata": {},
   "outputs": [],
   "source": [
    "# X = np.load('./righty_bin/X_val.npy')\n",
    "# Y = np.load('./righty_bin/Y_val.npy')\n",
    "\n",
    "# X = np.load('./decl_bin/X_val.npy')\n",
    "# Y = np.load('./decl_bin/Y_val.npy')\n",
    "\n",
    "X = np.load('./dummy_bin/X_val.npy')\n",
    "Y = np.load('./dummy_bin/Y_val.npy')\n",
    "\n",
    "# X = np.load('./lefty_bin/X_val.npy')\n",
    "# Y = np.load('./lefty_bin/Y_val.npy')"
   ]
  },
  {
   "cell_type": "code",
   "execution_count": 12,
   "metadata": {},
   "outputs": [
    {
     "data": {
      "text/plain": [
       "((20000, 11, 298), (20000, 11, 32))"
      ]
     },
     "execution_count": 12,
     "metadata": {},
     "output_type": "execute_result"
    }
   ],
   "source": [
    "X.shape, Y.shape"
   ]
  },
  {
   "cell_type": "code",
   "execution_count": 13,
   "metadata": {},
   "outputs": [
    {
     "name": "stdout",
     "output_type": "stream",
     "text": [
      "CPU times: user 28.1 s, sys: 1.65 s, total: 29.8 s\n",
      "Wall time: 8.32 s\n"
     ]
    }
   ],
   "source": [
    "%time P = sess.run(out_card_logit, feed_dict={seq_in: X, keep_prob: 1.0})"
   ]
  },
  {
   "cell_type": "code",
   "execution_count": 14,
   "metadata": {},
   "outputs": [],
   "source": [
    "y_true = np.argmax(Y, axis=2)"
   ]
  },
  {
   "cell_type": "code",
   "execution_count": 15,
   "metadata": {},
   "outputs": [],
   "source": [
    "y_pred = np.argmax(sess.run(tf.nn.softmax(P.reshape((20000, 11, 32)))), axis=2)"
   ]
  },
  {
   "cell_type": "code",
   "execution_count": 16,
   "metadata": {},
   "outputs": [
    {
     "data": {
      "text/plain": [
       "((20000, 11), (20000, 11))"
      ]
     },
     "execution_count": 16,
     "metadata": {},
     "output_type": "execute_result"
    }
   ],
   "source": [
    "y_true.shape, y_pred.shape"
   ]
  },
  {
   "cell_type": "code",
   "execution_count": 17,
   "metadata": {},
   "outputs": [
    {
     "data": {
      "text/plain": [
       "array([[ True,  True,  True,  True,  True, False,  True,  True,  True,\n",
       "         True, False],\n",
       "       [ True,  True, False,  True,  True, False,  True, False,  True,\n",
       "         True,  True],\n",
       "       [ True,  True, False, False,  True,  True,  True,  True,  True,\n",
       "         True,  True],\n",
       "       [ True,  True,  True, False,  True,  True,  True,  True,  True,\n",
       "         True,  True],\n",
       "       [ True,  True,  True,  True,  True, False, False, False, False,\n",
       "        False,  True]], dtype=bool)"
      ]
     },
     "execution_count": 17,
     "metadata": {},
     "output_type": "execute_result"
    }
   ],
   "source": [
    "y_pred[0:5,:] == y_true[0:5,:]"
   ]
  },
  {
   "cell_type": "code",
   "execution_count": 18,
   "metadata": {},
   "outputs": [
    {
     "data": {
      "text/plain": [
       "0.8300727272727273"
      ]
     },
     "execution_count": 18,
     "metadata": {},
     "output_type": "execute_result"
    }
   ],
   "source": [
    "np.sum(y_true == y_pred) / (20000 * 11)"
   ]
  },
  {
   "cell_type": "code",
   "execution_count": 19,
   "metadata": {},
   "outputs": [
    {
     "name": "stdout",
     "output_type": "stream",
     "text": [
      "0 0.86315\n",
      "1 0.86135\n",
      "2 0.81845\n",
      "3 0.79295\n",
      "4 0.7819\n",
      "5 0.7822\n",
      "6 0.79835\n",
      "7 0.8206\n",
      "8 0.8368\n",
      "9 0.86685\n",
      "10 0.9082\n"
     ]
    }
   ],
   "source": [
    "for i in range(11):\n",
    "    print(i, np.sum(y_true[:,i] == y_pred[:,i]) / len(y_pred))"
   ]
  },
  {
   "cell_type": "raw",
   "metadata": {},
   "source": [
    "decl = 0.804\n",
    "righty = 0.838\n",
    "dummy = 0.830"
   ]
  },
  {
   "cell_type": "code",
   "execution_count": 20,
   "metadata": {},
   "outputs": [
    {
     "name": "stdout",
     "output_type": "stream",
     "text": [
      "1\n",
      "on lead on 3910 examples\n",
      "(20000,)\n",
      "(3910,)\n",
      "correct on 2453 examples\n",
      "accuracy 0.6273657289002558\n",
      "2\n",
      "on lead on 5738 examples\n",
      "(20000,)\n",
      "(5738,)\n",
      "correct on 3613 examples\n",
      "accuracy 0.6296619031021262\n",
      "3\n",
      "on lead on 6016 examples\n",
      "(20000,)\n",
      "(6016,)\n",
      "correct on 3548 examples\n",
      "accuracy 0.5897606382978723\n",
      "4\n",
      "on lead on 6164 examples\n",
      "(20000,)\n",
      "(6164,)\n",
      "correct on 3645 examples\n",
      "accuracy 0.5913367942894224\n",
      "5\n",
      "on lead on 6103 examples\n",
      "(20000,)\n",
      "(6103,)\n",
      "correct on 3607 examples\n",
      "accuracy 0.5910208094379813\n",
      "6\n",
      "on lead on 6234 examples\n",
      "(20000,)\n",
      "(6234,)\n",
      "correct on 4071 examples\n",
      "accuracy 0.6530317613089509\n",
      "7\n",
      "on lead on 6369 examples\n",
      "(20000,)\n",
      "(6369,)\n",
      "correct on 4455 examples\n",
      "accuracy 0.6994818652849741\n",
      "8\n",
      "on lead on 6700 examples\n",
      "(20000,)\n",
      "(6700,)\n",
      "correct on 4944 examples\n",
      "accuracy 0.7379104477611941\n",
      "9\n",
      "on lead on 6757 examples\n",
      "(20000,)\n",
      "(6757,)\n",
      "correct on 5309 examples\n",
      "accuracy 0.785703714666272\n",
      "10\n",
      "on lead on 6826 examples\n",
      "(20000,)\n",
      "(6826,)\n",
      "correct on 5811 examples\n",
      "accuracy 0.8513038382654556\n"
     ]
    }
   ],
   "source": [
    "for trick_i in range(1, 11):\n",
    "    print(trick_i)\n",
    "    ix_on_lead = np.min((X[:,trick_i,192:288] == np.zeros(3*32)), axis=1)\n",
    "    #import pdb; pdb.set_trace()\n",
    "    print('on lead on {} examples'.format(np.sum(ix_on_lead)))\n",
    "    print(ix_on_lead.shape)\n",
    "    correct = (y_true[ix_on_lead,trick_i] == y_pred[ix_on_lead,trick_i])\n",
    "    print(correct.shape)\n",
    "    print('correct on {} examples'.format(np.sum(correct)))\n",
    "    print('accuracy {}'.format(np.sum(correct) / np.sum(ix_on_lead)))"
   ]
  },
  {
   "cell_type": "code",
   "execution_count": null,
   "metadata": {},
   "outputs": [],
   "source": []
  },
  {
   "cell_type": "code",
   "execution_count": null,
   "metadata": {},
   "outputs": [],
   "source": []
  },
  {
   "cell_type": "code",
   "execution_count": null,
   "metadata": {},
   "outputs": [],
   "source": []
  },
  {
   "cell_type": "code",
   "execution_count": 59,
   "metadata": {},
   "outputs": [
    {
     "name": "stdout",
     "output_type": "stream",
     "text": [
      "CPU times: user 2.8 s, sys: 28 ms, total: 2.82 s\n",
      "Wall time: 762 ms\n"
     ]
    }
   ],
   "source": [
    "%time P = sess.run(out_card_logit, feed_dict={seq_in: X[:2000,:11,:], keep_prob: 1.0})"
   ]
  },
  {
   "cell_type": "code",
   "execution_count": 60,
   "metadata": {},
   "outputs": [],
   "source": [
    "ts = [199, 378, 557, 712, 923, 1060, 1220, 1440, 1620, 1780, 1940, 2100]\n",
    "ts2 = [86, 166, 243, 300, 368, 473, 500, 568, 631, 693, 762, 800]"
   ]
  },
  {
   "cell_type": "code",
   "execution_count": 48,
   "metadata": {},
   "outputs": [
    {
     "data": {
      "text/plain": [
       "(12, 13929, 55.716)"
      ]
     },
     "execution_count": 48,
     "metadata": {},
     "output_type": "execute_result"
    }
   ],
   "source": [
    "len(ts), sum(ts), 4 * sum(ts) / 1000"
   ]
  },
  {
   "cell_type": "code",
   "execution_count": 61,
   "metadata": {},
   "outputs": [
    {
     "data": {
      "text/plain": [
       "(12, 5590, 22.36)"
      ]
     },
     "execution_count": 61,
     "metadata": {},
     "output_type": "execute_result"
    }
   ],
   "source": [
    "len(ts2), sum(ts2), 4 * sum(ts2) / 1000"
   ]
  },
  {
   "cell_type": "code",
   "execution_count": 62,
   "metadata": {},
   "outputs": [
    {
     "data": {
      "text/plain": [
       "2500.0"
      ]
     },
     "execution_count": 62,
     "metadata": {},
     "output_type": "execute_result"
    }
   ],
   "source": [
    "20000 / 8"
   ]
  },
  {
   "cell_type": "code",
   "execution_count": 93,
   "metadata": {},
   "outputs": [
    {
     "name": "stdout",
     "output_type": "stream",
     "text": [
      "CPU times: user 0 ns, sys: 0 ns, total: 0 ns\n",
      "Wall time: 2.16 ms\n"
     ]
    }
   ],
   "source": [
    "%time r = np.random.random((5000, 26))"
   ]
  },
  {
   "cell_type": "code",
   "execution_count": 89,
   "metadata": {},
   "outputs": [
    {
     "data": {
      "text/plain": [
       "array([[ 0.20682298,  0.53041844,  0.03660555],\n",
       "       [ 0.55341602,  0.40714168,  0.45955841],\n",
       "       [ 0.92636572,  0.3402939 ,  0.06994818],\n",
       "       [ 0.05865517,  0.25510273,  0.88977034],\n",
       "       [ 0.36452264,  0.51927876,  0.51155537],\n",
       "       [ 0.40045773,  0.91151877,  0.90542491]])"
      ]
     },
     "execution_count": 89,
     "metadata": {},
     "output_type": "execute_result"
    }
   ],
   "source": [
    "r"
   ]
  },
  {
   "cell_type": "code",
   "execution_count": 94,
   "metadata": {},
   "outputs": [
    {
     "name": "stdout",
     "output_type": "stream",
     "text": [
      "CPU times: user 0 ns, sys: 0 ns, total: 0 ns\n",
      "Wall time: 12.6 µs\n"
     ]
    }
   ],
   "source": [
    "%time rT = r.T"
   ]
  },
  {
   "cell_type": "code",
   "execution_count": 95,
   "metadata": {},
   "outputs": [
    {
     "name": "stdout",
     "output_type": "stream",
     "text": [
      "CPU times: user 0 ns, sys: 0 ns, total: 0 ns\n",
      "Wall time: 6.29 ms\n"
     ]
    }
   ],
   "source": [
    "%time np.random.shuffle(rT)"
   ]
  },
  {
   "cell_type": "code",
   "execution_count": 92,
   "metadata": {},
   "outputs": [
    {
     "data": {
      "text/plain": [
       "array([[ 0.20682298,  0.03660555,  0.53041844],\n",
       "       [ 0.55341602,  0.45955841,  0.40714168],\n",
       "       [ 0.92636572,  0.06994818,  0.3402939 ],\n",
       "       [ 0.05865517,  0.88977034,  0.25510273],\n",
       "       [ 0.36452264,  0.51155537,  0.51927876],\n",
       "       [ 0.40045773,  0.90542491,  0.91151877]])"
      ]
     },
     "execution_count": 92,
     "metadata": {},
     "output_type": "execute_result"
    }
   ],
   "source": [
    "r"
   ]
  },
  {
   "cell_type": "code",
   "execution_count": null,
   "metadata": {},
   "outputs": [],
   "source": []
  }
 ],
 "metadata": {
  "kernelspec": {
   "display_name": "Python 3",
   "language": "python",
   "name": "python3"
  },
  "language_info": {
   "codemirror_mode": {
    "name": "ipython",
    "version": 3
   },
   "file_extension": ".py",
   "mimetype": "text/x-python",
   "name": "python",
   "nbconvert_exporter": "python",
   "pygments_lexer": "ipython3",
   "version": "3.5.4"
  }
 },
 "nbformat": 4,
 "nbformat_minor": 2
}
