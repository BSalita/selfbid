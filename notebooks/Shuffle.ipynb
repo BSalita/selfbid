{
 "cells": [
  {
   "cell_type": "code",
   "execution_count": 1,
   "metadata": {},
   "outputs": [],
   "source": [
    "import numpy as np\n",
    "import random\n",
    "\n",
    "distr = np.array([\n",
    "    np.array([5,3,3,2]) / 13,\n",
    "    np.array([1,6,4,2]) / 13,\n",
    "    np.array([4,2,4,3]) / 13,\n",
    "    np.array([3,2,2,6]) / 13\n",
    "])\n",
    "\n",
    "hcp = np.array([18, 10, 3, 9]) / 52\n",
    "\n",
    "rank_val = {0: 4, 1: 3, 2: 2, 3: 1}"
   ]
  },
  {
   "cell_type": "code",
   "execution_count": 2,
   "metadata": {},
   "outputs": [],
   "source": [
    "CARDS = np.arange(52)"
   ]
  },
  {
   "cell_type": "code",
   "execution_count": 3,
   "metadata": {},
   "outputs": [
    {
     "data": {
      "text/plain": [
       "array([[ 0.38461538,  0.23076923,  0.23076923,  0.15384615],\n",
       "       [ 0.07692308,  0.46153846,  0.30769231,  0.15384615],\n",
       "       [ 0.30769231,  0.15384615,  0.30769231,  0.23076923],\n",
       "       [ 0.23076923,  0.15384615,  0.15384615,  0.46153846]])"
      ]
     },
     "execution_count": 3,
     "metadata": {},
     "output_type": "execute_result"
    }
   ],
   "source": [
    "distr"
   ]
  },
  {
   "cell_type": "code",
   "execution_count": 8,
   "metadata": {},
   "outputs": [],
   "source": [
    "def deal(distr, hcp):\n",
    "    np.random.shuffle(CARDS)\n",
    "    hands = np.zeros((4, 52), np.byte)\n",
    "    n_cards = np.array([0, 0, 0, 0])\n",
    "    hand_hcp = np.array([0, 0, 0, 0])\n",
    "    card_i = 0\n",
    "    n_rejects = 0\n",
    "    while np.sum(n_cards) < 52:\n",
    "        \n",
    "        #import pdb; pdb.set_trace()\n",
    "        card = CARDS[card_i]\n",
    "        suit = card // 13\n",
    "        worth = rank_val.get(card % 13, 0)\n",
    "        w_worth = worth / 52\n",
    "#         params = (w_worth * hcp) + ((1 - w_worth) * distr[suit])\n",
    "#         params = params / np.sum(params)\n",
    "        #params = hcp if worth > 0 else distr[suit]\n",
    "        params = distr[suit]\n",
    "        wnes = np.random.multinomial(1, params)\n",
    "        hand_i = np.argmax(wnes)\n",
    "        if n_cards[hand_i] >= 13:\n",
    "            n_rejects += 1\n",
    "            hands = np.zeros((4, 52), np.byte)\n",
    "            n_cards = np.array([0, 0, 0, 0])\n",
    "            hand_hcp = np.array([0, 0, 0, 0])\n",
    "            card_i = 0\n",
    "            continue\n",
    "        hands[hand_i, card] = 1\n",
    "        hand_hcp[hand_i] += worth\n",
    "        n_cards[hand_i] += 1\n",
    "        card_i += 1\n",
    "    \n",
    "    return n_rejects, np.sum(hands.reshape((4,4,13)), axis=2), hand_hcp"
   ]
  },
  {
   "cell_type": "code",
   "execution_count": 9,
   "metadata": {},
   "outputs": [
    {
     "data": {
      "text/plain": [
       "(392, array([[5, 0, 3, 5],\n",
       "        [5, 5, 2, 1],\n",
       "        [2, 4, 5, 2],\n",
       "        [1, 4, 3, 5]]), array([ 9, 17,  6,  8]))"
      ]
     },
     "execution_count": 9,
     "metadata": {},
     "output_type": "execute_result"
    }
   ],
   "source": [
    "deal(distr, hcp)"
   ]
  },
  {
   "cell_type": "code",
   "execution_count": 10,
   "metadata": {},
   "outputs": [],
   "source": [
    "X = np.zeros((100, 4, 4))\n",
    "H = np.zeros((100, 4))\n",
    "\n",
    "for i in range(100):\n",
    "    _, x, h = deal(distr, hcp)\n",
    "    X[i,:,:] = x\n",
    "    H[i,:] = h"
   ]
  },
  {
   "cell_type": "code",
   "execution_count": 11,
   "metadata": {},
   "outputs": [
    {
     "data": {
      "text/plain": [
       "(array([[ 5.  ,  0.95,  4.02,  3.03],\n",
       "        [ 2.79,  6.22,  2.02,  1.97],\n",
       "        [ 3.04,  3.86,  4.02,  2.08],\n",
       "        [ 2.17,  1.97,  2.94,  5.92]]),\n",
       " array([  9.69,  10.67,   9.69,   9.95]))"
      ]
     },
     "execution_count": 11,
     "metadata": {},
     "output_type": "execute_result"
    }
   ],
   "source": [
    "np.mean(X, axis=0), np.mean(H, axis=0)"
   ]
  },
  {
   "cell_type": "code",
   "execution_count": null,
   "metadata": {},
   "outputs": [],
   "source": []
  },
  {
   "cell_type": "code",
   "execution_count": null,
   "metadata": {},
   "outputs": [],
   "source": []
  },
  {
   "cell_type": "code",
   "execution_count": 37,
   "metadata": {},
   "outputs": [],
   "source": [
    "cards = np.array([0,1,2,3,4,4,4])"
   ]
  },
  {
   "cell_type": "code",
   "execution_count": 38,
   "metadata": {},
   "outputs": [],
   "source": [
    "samples = np.zeros((5000, len(cards)), np.int)"
   ]
  },
  {
   "cell_type": "code",
   "execution_count": 39,
   "metadata": {},
   "outputs": [],
   "source": [
    "samples[:,:] = cards"
   ]
  },
  {
   "cell_type": "code",
   "execution_count": 40,
   "metadata": {},
   "outputs": [
    {
     "data": {
      "text/plain": [
       "array([[0, 1, 2, 3, 4, 4, 4],\n",
       "       [0, 1, 2, 3, 4, 4, 4],\n",
       "       [0, 1, 2, 3, 4, 4, 4],\n",
       "       [0, 1, 2, 3, 4, 4, 4],\n",
       "       [0, 1, 2, 3, 4, 4, 4]])"
      ]
     },
     "execution_count": 40,
     "metadata": {},
     "output_type": "execute_result"
    }
   ],
   "source": [
    "samples[:5,:]"
   ]
  },
  {
   "cell_type": "code",
   "execution_count": 41,
   "metadata": {},
   "outputs": [],
   "source": [
    "shuffler = np.vectorize(np.random.permutation, signature='(n)->(n)')"
   ]
  },
  {
   "cell_type": "code",
   "execution_count": 43,
   "metadata": {},
   "outputs": [],
   "source": [
    "shuffled_samples = shuffler(samples)"
   ]
  },
  {
   "cell_type": "code",
   "execution_count": 44,
   "metadata": {},
   "outputs": [
    {
     "data": {
      "text/plain": [
       "array([[3, 0, 1, ..., 4, 2, 4],\n",
       "       [4, 2, 4, ..., 4, 1, 3],\n",
       "       [4, 4, 1, ..., 0, 2, 4],\n",
       "       ..., \n",
       "       [2, 3, 4, ..., 1, 4, 4],\n",
       "       [2, 4, 0, ..., 3, 4, 1],\n",
       "       [4, 4, 0, ..., 4, 2, 3]])"
      ]
     },
     "execution_count": 44,
     "metadata": {},
     "output_type": "execute_result"
    }
   ],
   "source": [
    "shuffled_samples"
   ]
  },
  {
   "cell_type": "code",
   "execution_count": 45,
   "metadata": {},
   "outputs": [],
   "source": [
    "cards_1, cards_2 = shuffled_samples[:,:3], shuffled_samples[:,3:]"
   ]
  },
  {
   "cell_type": "code",
   "execution_count": 47,
   "metadata": {},
   "outputs": [
    {
     "data": {
      "text/plain": [
       "array([[4, 4, 2, 4],\n",
       "       [0, 4, 1, 3],\n",
       "       [3, 0, 2, 4],\n",
       "       ..., \n",
       "       [0, 1, 4, 4],\n",
       "       [4, 3, 4, 1],\n",
       "       [1, 4, 2, 3]])"
      ]
     },
     "execution_count": 47,
     "metadata": {},
     "output_type": "execute_result"
    }
   ],
   "source": [
    "cards_2"
   ]
  },
  {
   "cell_type": "code",
   "execution_count": 98,
   "metadata": {},
   "outputs": [],
   "source": [
    "hand_1 = np.zeros((5000, 8), np.float16)\n",
    "hand_2 = np.zeros((5000, 8), np.float16)"
   ]
  },
  {
   "cell_type": "code",
   "execution_count": 94,
   "metadata": {},
   "outputs": [
    {
     "data": {
      "text/plain": [
       "array([[ 0.,  0.,  0.,  0.,  0.,  0.,  0.,  0.],\n",
       "       [ 0.,  0.,  0.,  0.,  0.,  0.,  0.,  0.]], dtype=float16)"
      ]
     },
     "execution_count": 94,
     "metadata": {},
     "output_type": "execute_result"
    }
   ],
   "source": [
    "hand_2[:2,:]"
   ]
  },
  {
   "cell_type": "code",
   "execution_count": 51,
   "metadata": {},
   "outputs": [],
   "source": [
    "hand_2[:, cards_2] = 1"
   ]
  },
  {
   "cell_type": "code",
   "execution_count": 52,
   "metadata": {},
   "outputs": [
    {
     "data": {
      "text/plain": [
       "array([[ 1.,  1.,  1.,  1.,  1.,  0.,  0.,  0.],\n",
       "       [ 1.,  1.,  1.,  1.,  1.,  0.,  0.,  0.]], dtype=float16)"
      ]
     },
     "execution_count": 52,
     "metadata": {},
     "output_type": "execute_result"
    }
   ],
   "source": [
    "hand_2[:2,:]"
   ]
  },
  {
   "cell_type": "code",
   "execution_count": 54,
   "metadata": {},
   "outputs": [
    {
     "data": {
      "text/plain": [
       "array([[4, 0, 3, ..., 0, 4, 1],\n",
       "       [4, 4, 0, ..., 1, 3, 4],\n",
       "       [2, 1, 2, ..., 4, 4, 2],\n",
       "       [4, 3, 4, ..., 4, 1, 3]])"
      ]
     },
     "execution_count": 54,
     "metadata": {},
     "output_type": "execute_result"
    }
   ],
   "source": [
    "cards_2.T"
   ]
  },
  {
   "cell_type": "code",
   "execution_count": 57,
   "metadata": {},
   "outputs": [
    {
     "data": {
      "text/plain": [
       "array([[4, 4, 2, 4],\n",
       "       [0, 4, 1, 3],\n",
       "       [3, 0, 2, 4],\n",
       "       ..., \n",
       "       [0, 1, 4, 4],\n",
       "       [4, 3, 4, 1],\n",
       "       [1, 4, 2, 3]])"
      ]
     },
     "execution_count": 57,
     "metadata": {},
     "output_type": "execute_result"
    }
   ],
   "source": [
    "cards_2"
   ]
  },
  {
   "cell_type": "code",
   "execution_count": 59,
   "metadata": {},
   "outputs": [
    {
     "data": {
      "text/plain": [
       "(5000, 8)"
      ]
     },
     "execution_count": 59,
     "metadata": {},
     "output_type": "execute_result"
    }
   ],
   "source": [
    "hand_2[:, cards_2[]]"
   ]
  },
  {
   "cell_type": "code",
   "execution_count": 60,
   "metadata": {},
   "outputs": [
    {
     "data": {
      "text/plain": [
       "(5000, 4)"
      ]
     },
     "execution_count": 60,
     "metadata": {},
     "output_type": "execute_result"
    }
   ],
   "source": [
    "cards_2.shape"
   ]
  },
  {
   "cell_type": "code",
   "execution_count": 74,
   "metadata": {},
   "outputs": [],
   "source": [
    "hand_2[cards_2[:,0]] = 1"
   ]
  },
  {
   "cell_type": "code",
   "execution_count": 75,
   "metadata": {},
   "outputs": [
    {
     "data": {
      "text/plain": [
       "array([ 1.,  1.,  1.,  1.,  1.,  1.,  1.,  1.], dtype=float16)"
      ]
     },
     "execution_count": 75,
     "metadata": {},
     "output_type": "execute_result"
    }
   ],
   "source": [
    "hand_2[0]"
   ]
  },
  {
   "cell_type": "code",
   "execution_count": 72,
   "metadata": {},
   "outputs": [
    {
     "data": {
      "text/plain": [
       "array([[ 1.,  1.,  1., ...,  1.,  1.,  1.],\n",
       "       [ 1.,  1.,  1., ...,  1.,  1.,  1.],\n",
       "       [ 1.,  1.,  1., ...,  1.,  1.,  1.],\n",
       "       ..., \n",
       "       [ 0.,  0.,  0., ...,  0.,  0.,  0.],\n",
       "       [ 0.,  0.,  0., ...,  0.,  0.,  0.],\n",
       "       [ 0.,  0.,  0., ...,  0.,  0.,  0.]], dtype=float16)"
      ]
     },
     "execution_count": 72,
     "metadata": {},
     "output_type": "execute_result"
    }
   ],
   "source": [
    "hand_2"
   ]
  },
  {
   "cell_type": "code",
   "execution_count": 96,
   "metadata": {},
   "outputs": [
    {
     "data": {
      "text/plain": [
       "array([[4, 4, 2, 4],\n",
       "       [0, 4, 1, 3],\n",
       "       [3, 0, 2, 4],\n",
       "       ..., \n",
       "       [0, 1, 4, 4],\n",
       "       [4, 3, 4, 1],\n",
       "       [1, 4, 2, 3]])"
      ]
     },
     "execution_count": 96,
     "metadata": {},
     "output_type": "execute_result"
    }
   ],
   "source": [
    "cards_2"
   ]
  },
  {
   "cell_type": "code",
   "execution_count": 87,
   "metadata": {},
   "outputs": [],
   "source": [
    "hand_2[:,:] = np.arange(8)"
   ]
  },
  {
   "cell_type": "code",
   "execution_count": 92,
   "metadata": {},
   "outputs": [
    {
     "data": {
      "text/plain": [
       "array([[ 1.,  2.,  3.],\n",
       "       [ 1.,  2.,  3.],\n",
       "       [ 1.,  2.,  3.]], dtype=float16)"
      ]
     },
     "execution_count": 92,
     "metadata": {},
     "output_type": "execute_result"
    }
   ],
   "source": [
    "hand_2[:3,[1, 2, 3]]"
   ]
  },
  {
   "cell_type": "code",
   "execution_count": 85,
   "metadata": {},
   "outputs": [],
   "source": [
    "hand_2[0, cards_2[0]] += 1"
   ]
  },
  {
   "cell_type": "code",
   "execution_count": 86,
   "metadata": {},
   "outputs": [
    {
     "data": {
      "text/plain": [
       "array([ 0.,  1.,  3.,  3.,  5.,  5.,  6.,  7.], dtype=float16)"
      ]
     },
     "execution_count": 86,
     "metadata": {},
     "output_type": "execute_result"
    }
   ],
   "source": [
    "hand_2[0, :]"
   ]
  },
  {
   "cell_type": "code",
   "execution_count": 89,
   "metadata": {},
   "outputs": [
    {
     "data": {
      "text/plain": [
       "(8, 5000)"
      ]
     },
     "execution_count": 89,
     "metadata": {},
     "output_type": "execute_result"
    }
   ],
   "source": [
    "hand_2.T.shape"
   ]
  },
  {
   "cell_type": "code",
   "execution_count": 90,
   "metadata": {},
   "outputs": [],
   "source": [
    "np.vectorize?"
   ]
  },
  {
   "cell_type": "code",
   "execution_count": 110,
   "metadata": {},
   "outputs": [
    {
     "name": "stdout",
     "output_type": "stream",
     "text": [
      "533 µs ± 4.01 µs per loop (mean ± std. dev. of 7 runs, 1000 loops each)\n"
     ]
    }
   ],
   "source": [
    "%%timeit\n",
    "hand_2 = np.zeros((5000, 8), np.float16)\n",
    "row_indexes = np.arange(hand_2.shape[0])\n",
    "for k in range(cards_2.shape[1]):\n",
    "    hand_2[row_indexes, cards_2[:, k]] += 1"
   ]
  },
  {
   "cell_type": "code",
   "execution_count": 106,
   "metadata": {},
   "outputs": [
    {
     "data": {
      "text/plain": [
       "array([[ 0.,  0.,  1.,  0.,  3.],\n",
       "       [ 1.,  1.,  0.,  1.,  1.],\n",
       "       [ 1.,  0.,  1.,  1.,  1.],\n",
       "       ..., \n",
       "       [ 1.,  1.,  0.,  0.,  2.],\n",
       "       [ 0.,  1.,  0.,  1.,  2.],\n",
       "       [ 0.,  1.,  1.,  1.,  1.]], dtype=float16)"
      ]
     },
     "execution_count": 106,
     "metadata": {},
     "output_type": "execute_result"
    }
   ],
   "source": [
    "hand_2[:, 0:5]"
   ]
  },
  {
   "cell_type": "code",
   "execution_count": 101,
   "metadata": {},
   "outputs": [
    {
     "data": {
      "text/plain": [
       "array([[4, 4, 2, 4],\n",
       "       [0, 4, 1, 3],\n",
       "       [3, 0, 2, 4],\n",
       "       ..., \n",
       "       [0, 1, 4, 4],\n",
       "       [4, 3, 4, 1],\n",
       "       [1, 4, 2, 3]])"
      ]
     },
     "execution_count": 101,
     "metadata": {},
     "output_type": "execute_result"
    }
   ],
   "source": [
    "cards_2"
   ]
  },
  {
   "cell_type": "code",
   "execution_count": 109,
   "metadata": {},
   "outputs": [
    {
     "data": {
      "text/plain": [
       "True"
      ]
     },
     "execution_count": 109,
     "metadata": {},
     "output_type": "execute_result"
    }
   ],
   "source": [
    "(np.sum(hand_2, axis=1) == 4).all()"
   ]
  },
  {
   "cell_type": "code",
   "execution_count": null,
   "metadata": {},
   "outputs": [],
   "source": []
  }
 ],
 "metadata": {
  "kernelspec": {
   "display_name": "Python 3",
   "language": "python",
   "name": "python3"
  },
  "language_info": {
   "codemirror_mode": {
    "name": "ipython",
    "version": 3
   },
   "file_extension": ".py",
   "mimetype": "text/x-python",
   "name": "python",
   "nbconvert_exporter": "python",
   "pygments_lexer": "ipython3",
   "version": "3.5.4"
  }
 },
 "nbformat": 4,
 "nbformat_minor": 2
}
