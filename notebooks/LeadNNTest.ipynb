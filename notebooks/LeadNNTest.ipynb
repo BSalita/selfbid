{
 "cells": [
  {
   "cell_type": "code",
   "execution_count": 1,
   "metadata": {},
   "outputs": [],
   "source": [
    "%matplotlib inline"
   ]
  },
  {
   "cell_type": "code",
   "execution_count": 2,
   "metadata": {},
   "outputs": [],
   "source": [
    "import sys\n",
    "import numpy as np\n",
    "import tensorflow as tf\n",
    "import matplotlib.pyplot as plt\n",
    "import bidding\n",
    "\n",
    "from batcher import Batcher"
   ]
  },
  {
   "cell_type": "code",
   "execution_count": 3,
   "metadata": {},
   "outputs": [],
   "source": [
    "seed = 1337"
   ]
  },
  {
   "cell_type": "code",
   "execution_count": 4,
   "metadata": {},
   "outputs": [],
   "source": [
    "batch_size = 64\n",
    "n_iterations = 300000\n",
    "display_step = 10000"
   ]
  },
  {
   "cell_type": "code",
   "execution_count": 5,
   "metadata": {},
   "outputs": [],
   "source": [
    "A_train = np.load('../data/leads_bin/A_train.npy')\n",
    "H_train = np.load('../data/leads_bin/H_train.npy')\n",
    "C_train = np.load('../data/leads_bin/C_train.npy')\n",
    "\n",
    "A_val = np.load('../data/leads_bin/A_val.npy')\n",
    "H_val = np.load('../data/leads_bin/H_val.npy')\n",
    "C_val = np.load('../data/leads_bin/C_val.npy')"
   ]
  },
  {
   "cell_type": "code",
   "execution_count": 6,
   "metadata": {},
   "outputs": [
    {
     "data": {
      "text/plain": [
       "((262775, 24, 40),\n",
       " (262775, 70),\n",
       " (262775, 52),\n",
       " (10000, 24, 40),\n",
       " (10000, 70),\n",
       " (10000, 52))"
      ]
     },
     "execution_count": 6,
     "metadata": {},
     "output_type": "execute_result"
    }
   ],
   "source": [
    "A_train.shape, H_train.shape, C_train.shape, A_val.shape, H_val.shape, C_val.shape"
   ]
  },
  {
   "cell_type": "code",
   "execution_count": 7,
   "metadata": {},
   "outputs": [],
   "source": [
    "n_examples = A_train.shape[0]\n",
    "n_bids = A_train.shape[1]\n",
    "n_bid_ftrs = A_train.shape[2]\n",
    "n_hand_ftrs = H_train.shape[1]"
   ]
  },
  {
   "cell_type": "code",
   "execution_count": 8,
   "metadata": {},
   "outputs": [
    {
     "data": {
      "text/plain": [
       "(262775, 24, 40, 70)"
      ]
     },
     "execution_count": 8,
     "metadata": {},
     "output_type": "execute_result"
    }
   ],
   "source": [
    "n_examples, n_bids, n_bid_ftrs, n_hand_ftrs"
   ]
  },
  {
   "cell_type": "code",
   "execution_count": 9,
   "metadata": {},
   "outputs": [],
   "source": [
    "n_hidden_units = [512, 128]"
   ]
  },
  {
   "cell_type": "code",
   "execution_count": 10,
   "metadata": {},
   "outputs": [],
   "source": [
    "lstm_size = 32\n",
    "n_layers = 2\n",
    "\n",
    "keep_prob = tf.placeholder(tf.float32, name='keep_prob')\n",
    "l2_reg = 0.04"
   ]
  },
  {
   "cell_type": "code",
   "execution_count": 11,
   "metadata": {},
   "outputs": [],
   "source": [
    "cells = []\n",
    "for _ in range(n_layers):\n",
    "    cell = tf.contrib.rnn.DropoutWrapper(\n",
    "        tf.nn.rnn_cell.BasicLSTMCell(lstm_size),\n",
    "        output_keep_prob=keep_prob\n",
    "    )\n",
    "    cells.append(cell)\n",
    "\n",
    "state = []\n",
    "for i, cell_i in enumerate(cells):\n",
    "    s_c = tf.placeholder(tf.float32, [1, lstm_size], name='state_c_{}'.format(i))\n",
    "    s_h = tf.placeholder(tf.float32, [1, lstm_size], name='state_h_{}'.format(i))\n",
    "    state.append(tf.contrib.rnn.LSTMStateTuple(c=s_c, h=s_h))\n",
    "state = tuple(state)\n",
    "\n",
    "lstm_cell = tf.contrib.rnn.MultiRNNCell(cells)\n",
    "\n",
    "seq_in = tf.placeholder(tf.float32, [None, None, n_bid_ftrs], 'seq_in')\n",
    "\n",
    "out_rnn, _ = tf.nn.dynamic_rnn(lstm_cell, seq_in, dtype=tf.float32)"
   ]
  },
  {
   "cell_type": "code",
   "execution_count": 12,
   "metadata": {},
   "outputs": [
    {
     "data": {
      "text/plain": [
       "TensorShape([Dimension(None), Dimension(32)])"
      ]
     },
     "execution_count": 12,
     "metadata": {},
     "output_type": "execute_result"
    }
   ],
   "source": [
    "out_rnn[:, -1, :].shape"
   ]
  },
  {
   "cell_type": "code",
   "execution_count": 13,
   "metadata": {},
   "outputs": [],
   "source": [
    "H = tf.placeholder(tf.float32, shape=[None, n_hand_ftrs], name='H')\n",
    "C = tf.placeholder(tf.float32, shape=[None, 52], name='H')"
   ]
  },
  {
   "cell_type": "code",
   "execution_count": 14,
   "metadata": {},
   "outputs": [],
   "source": [
    "fc_in = tf.nn.dropout(\n",
    "    tf.concat([out_rnn[:, -1, :], H], axis=1, name='fc_in'),\n",
    "    #H,\n",
    "    keep_prob,\n",
    "    seed=seed\n",
    ")"
   ]
  },
  {
   "cell_type": "code",
   "execution_count": 15,
   "metadata": {},
   "outputs": [],
   "source": [
    "fc_w = tf.get_variable('fcw', shape=[fc_in.shape.as_list()[1], n_hidden_units[0]], dtype=tf.float32, initializer=tf.contrib.layers.xavier_initializer(seed=seed))\n",
    "fc_z = tf.matmul(fc_in, fc_w)\n",
    "fc_a = tf.nn.relu(fc_z)\n",
    "\n",
    "fc_w_1 = tf.get_variable('fcw_1', shape=[fc_a.shape.as_list()[1], n_hidden_units[1]], dtype=tf.float32, initializer=tf.contrib.layers.xavier_initializer(seed=seed))\n",
    "fc_z_1 = tf.matmul(fc_a, fc_w_1)\n",
    "fc_a_1 = tf.nn.relu(fc_z_1)"
   ]
  },
  {
   "cell_type": "code",
   "execution_count": 16,
   "metadata": {},
   "outputs": [],
   "source": [
    "#softmax_w = tf.get_variable('softmax_w', shape=[fc_in.shape.as_list()[1], 52], dtype=tf.float32, initializer=tf.contrib.layers.xavier_initializer(seed=seed))\n",
    "#softmax_w = tf.get_variable('softmax_w', shape=[n_hidden_units[0], 52], dtype=tf.float32, initializer=tf.contrib.layers.xavier_initializer(seed=seed))\n",
    "softmax_w = tf.get_variable('softmax_w', shape=[n_hidden_units[1], 52], dtype=tf.float32, initializer=tf.contrib.layers.xavier_initializer(seed=seed))"
   ]
  },
  {
   "cell_type": "code",
   "execution_count": 17,
   "metadata": {},
   "outputs": [],
   "source": [
    "#pred = tf.matmul(fc_a, softmax_w)\n",
    "pred = tf.multiply(H[:, 18:], tf.matmul(fc_a_1, softmax_w))\n",
    "#pred = tf.multiply(H[:, 18:], tf.matmul(fc_in, softmax_w))\n",
    "#pred = tf.nn.softmax(tf.multiply(H[:, 18:], tf.matmul(fc_a, softmax_w)))\n",
    "#pred = tf.nn.softmax(tf.matmul(fc_a_1, softmax_w))"
   ]
  },
  {
   "cell_type": "code",
   "execution_count": 18,
   "metadata": {},
   "outputs": [],
   "source": [
    "#weights = [softmax_w]\n",
    "#weights = [fc_w, softmax_w]\n",
    "weights = [fc_w, fc_w_1, softmax_w]"
   ]
  },
  {
   "cell_type": "code",
   "execution_count": 19,
   "metadata": {},
   "outputs": [],
   "source": [
    "#labels = tf.nn.relu(-1 * (C - 3))\n",
    "labels = tf.nn.relu(-1 * (C - 1))\n",
    "#class_labels = tf.nn.relu(-1 * (C - 1))"
   ]
  },
  {
   "cell_type": "code",
   "execution_count": 20,
   "metadata": {},
   "outputs": [],
   "source": [
    "#cost_pred = tf.reduce_sum(tf.multiply(pred, C))\n",
    "cost_pred = tf.reduce_sum(tf.squared_difference(pred, labels))\n",
    "#cost_pred = tf.reduce_mean(tf.nn.sigmoid_cross_entropy_with_logits(logits=pred, labels=class_labels))\n",
    "cost_reg = l2_reg * (1.0 / (2*batch_size)) * sum([tf.reduce_sum(tf.square(w)) for w in weights])\n",
    "cost = cost_pred/batch_size + cost_reg"
   ]
  },
  {
   "cell_type": "code",
   "execution_count": 21,
   "metadata": {},
   "outputs": [],
   "source": [
    "train_step = tf.train.AdamOptimizer(0.0001).minimize(cost)\n",
    "#train_step = tf.train.MomentumOptimizer(0.001, momentum=0.9).minimize(cost)"
   ]
  },
  {
   "cell_type": "code",
   "execution_count": 22,
   "metadata": {},
   "outputs": [],
   "source": [
    "def metric(predictions, costs):\n",
    "    predicted_indexes = np.argmax(predictions, axis=1)\n",
    "    result = []\n",
    "    for i in range(len(predictions)):\n",
    "        result.append(costs[i, predicted_indexes[i]])\n",
    "        \n",
    "    return result"
   ]
  },
  {
   "cell_type": "code",
   "execution_count": 23,
   "metadata": {},
   "outputs": [
    {
     "name": "stdout",
     "output_type": "stream",
     "text": [
      "0 0.42798\n",
      "0. c_train_reg=0.14070451259613037 c_train_pred=9.3592171875 c_valid=9.376296875\n",
      "10000 0.28003\n",
      "10000. c_train_reg=0.07392648607492447 c_train_pred=2.8180029296875 c_valid=2.830189453125\n",
      "20000 0.26611\n",
      "20000. c_train_reg=0.05684427171945572 c_train_pred=2.844240625 c_valid=2.85515078125\n",
      "30000 0.25269\n",
      "30000. c_train_reg=0.04921437054872513 c_train_pred=2.87601875 c_valid=2.9079017578125\n",
      "40000 0.25146\n",
      "40000. c_train_reg=0.04484087973833084 c_train_pred=2.8759578125 c_valid=2.9102501953125\n",
      "50000 0.24646\n",
      "50000. c_train_reg=0.0422501415014267 c_train_pred=2.9044515625 c_valid=2.9496728515625\n",
      "60000 0.23975\n",
      "60000. c_train_reg=0.04071850702166557 c_train_pred=2.835347265625 c_valid=2.890914453125\n",
      "70000 0.23523\n",
      "70000. c_train_reg=0.03975921869277954 c_train_pred=2.860270703125 c_valid=2.9125181640625\n",
      "80000 0.23755\n",
      "80000. c_train_reg=0.039076317101716995 c_train_pred=2.8760310546875 c_valid=2.912582421875\n",
      "90000 0.24011\n",
      "90000. c_train_reg=0.038642171770334244 c_train_pred=2.8665607421875 c_valid=2.916519921875\n",
      "100000 0.23804\n",
      "100000. c_train_reg=0.03840183466672897 c_train_pred=2.895146484375 c_valid=2.946855859375\n",
      "110000 0.2356\n",
      "110000. c_train_reg=0.038374412804841995 c_train_pred=2.8683662109375 c_valid=2.914457421875\n",
      "120000 0.23767\n",
      "120000. c_train_reg=0.03827338293194771 c_train_pred=2.88118515625 c_valid=2.9357564453125\n",
      "130000 0.23743\n",
      "130000. c_train_reg=0.03824259340763092 c_train_pred=2.860673046875 c_valid=2.912808203125\n",
      "140000 0.23792\n",
      "140000. c_train_reg=0.038295015692710876 c_train_pred=2.811290234375 c_valid=2.8741984375\n",
      "150000 0.24109\n",
      "150000. c_train_reg=0.03835143893957138 c_train_pred=2.83412890625 c_valid=2.906962109375\n",
      "160000 0.2406\n",
      "160000. c_train_reg=0.03840281814336777 c_train_pred=2.8943421875 c_valid=2.9686296875\n",
      "170000 0.23694\n",
      "170000. c_train_reg=0.0385790690779686 c_train_pred=2.92796640625 c_valid=2.995637890625\n",
      "180000 0.23767\n",
      "180000. c_train_reg=0.03855928033590317 c_train_pred=2.889996484375 c_valid=2.9552826171875\n",
      "190000 0.24121\n",
      "190000. c_train_reg=0.03888702392578125 c_train_pred=2.8831171875 c_valid=2.96223203125\n",
      "200000 0.23682\n",
      "200000. c_train_reg=0.03899157792329788 c_train_pred=2.84242421875 c_valid=2.9242525390625\n",
      "210000 0.23645\n",
      "210000. c_train_reg=0.03920925036072731 c_train_pred=2.8419296875 c_valid=2.9094138671875\n",
      "220000 0.23755\n",
      "220000. c_train_reg=0.039349813014268875 c_train_pred=2.845803515625 c_valid=2.9331095703125\n",
      "230000 0.23511\n",
      "230000. c_train_reg=0.039254654198884964 c_train_pred=2.8952896484375 c_valid=2.97484375\n",
      "240000 0.23816\n",
      "240000. c_train_reg=0.039720237255096436 c_train_pred=2.843368359375 c_valid=2.9159779296875\n",
      "250000 0.23535\n",
      "250000. c_train_reg=0.03981555998325348 c_train_pred=2.9051255859375 c_valid=2.9761662109375\n",
      "260000 0.23389\n",
      "260000. c_train_reg=0.03995252028107643 c_train_pred=2.90716640625 c_valid=2.9930017578125\n",
      "270000 0.23303\n",
      "270000. c_train_reg=0.040019892156124115 c_train_pred=2.862973046875 c_valid=2.96282109375\n",
      "280000 0.2301\n",
      "280000. c_train_reg=0.040296368300914764 c_train_pred=2.8687830078125 c_valid=2.957532421875\n",
      "290000 0.23352\n",
      "290000. c_train_reg=0.04044352471828461 c_train_pred=2.85017109375 c_valid=2.93828125\n"
     ]
    }
   ],
   "source": [
    "batch = Batcher(n_examples, batch_size)\n",
    "cost_batch = Batcher(n_examples, 10000)\n",
    "\n",
    "#with tf.Session() as sess:\n",
    "sess = tf.InteractiveSession()\n",
    "sess.run(tf.global_variables_initializer())\n",
    "\n",
    "#saver = tf.train.Saver(max_to_keep=20)\n",
    "\n",
    "#     print(C_val[0:1,:].reshape((4, 13)))\n",
    "\n",
    "#     labels = tf.nn.relu(-1 * (C - 1))\n",
    "#     print(sess.run(labels, feed_dict={C: C_val[0:1,:]}).reshape((4, 13)))\n",
    "\n",
    "for i in range(n_iterations):\n",
    "    a_batch, h_batch, c_batch = batch.next_batch([A_train, H_train, C_train])\n",
    "    if i % display_step == 0:\n",
    "        #print(i)\n",
    "        a_cost, h_cost, c_cost = cost_batch.next_batch([A_train, H_train, C_train])\n",
    "        c_train_pred = sess.run(cost_pred, feed_dict={seq_in: a_cost, H: h_cost, C: c_cost, keep_prob: 1.0})\n",
    "        c_train_reg = sess.run(cost_reg, feed_dict={seq_in: a_cost, H: h_cost, C: c_cost, keep_prob: 1.0})\n",
    "        #pred_train = sess.run(cost_pred, feed_dict={seq_in: a_cost, H: h_cost, C: c_cost, keep_prob: 1.0})\n",
    "        c_valid = sess.run(cost_pred, feed_dict={seq_in: A_val, H: H_val, C: C_val, keep_prob: 1.0})\n",
    "        pred_valid = sess.run(pred, feed_dict={seq_in: A_val, H: H_val, keep_prob: 1.0})\n",
    "        metric_valid = np.mean(metric(pred_valid, C_val))\n",
    "        print(i, metric_valid)\n",
    "        print('{}. c_train_reg={} c_train_pred={} c_valid={}'.format(i, c_train_reg, c_train_pred/10000, c_valid/10000))\n",
    "        #print(sess.run(pred, feed_dict={seq_in: A_val[0:1,:,:], H: H_val[0:1,:], keep_prob: 1.0}).reshape((4, 13)))\n",
    "        #print(H_val[0:1,18:].reshape((4, 13)))\n",
    "        #print(sess.run(labels, feed_dict={C: C_val[0:1,:]}).reshape((4, 13)))\n",
    "        sys.stdout.flush()\n",
    "\n",
    "        #saver.save(sess, model_path, global_step=i)\n",
    "    sess.run(train_step, feed_dict={seq_in: a_batch, H: h_batch, C: c_batch, keep_prob: 0.8})\n",
    "\n",
    "    #saver.save(sess, model_path, global_step=n_iterations)"
   ]
  },
  {
   "cell_type": "code",
   "execution_count": 24,
   "metadata": {},
   "outputs": [],
   "source": [
    "predictions = sess.run(pred, feed_dict={seq_in: A_val, H: H_val, keep_prob: 1.0})"
   ]
  },
  {
   "cell_type": "code",
   "execution_count": 60,
   "metadata": {},
   "outputs": [
    {
     "name": "stdout",
     "output_type": "stream",
     "text": [
      "[[ 0.          0.62651581  0.60838091  0.          0.36786777  0.          0.\n",
      "   0.          0.          0.32376695  0.          0.32529593  0.        ]\n",
      " [ 0.          0.          0.58753872  0.          0.          0.          0.\n",
      "   0.          0.          0.5059678   0.          0.          0.        ]\n",
      " [ 0.          0.          0.          0.38672662  0.          0.          0.\n",
      "   0.47679934  0.          0.47485638  0.          0.          0.        ]\n",
      " [ 0.49564317  0.          0.31673357  0.          0.          0.          0.\n",
      "   0.          0.          0.34423825  0.          0.          0.        ]]\n",
      "[[ 40.   1.   1.  40.   1.  40.  40.  40.  40.   1.  40.   1.  40.]\n",
      " [ 40.  40.   0.  40.  40.  40.  40.  40.  40.   0.  40.  40.  40.]\n",
      " [ 40.  40.  40.   0.  40.  40.  40.   0.  40.   0.  40.  40.  40.]\n",
      " [  0.  40.   0.  40.  40.  40.  40.  40.  40.   1.  40.  40.  40.]]\n"
     ]
    }
   ],
   "source": [
    "i = 22\n",
    "print(predictions[i].reshape((4, 13)))\n",
    "print(C_val[i].reshape((4, 13)))"
   ]
  },
  {
   "cell_type": "code",
   "execution_count": 61,
   "metadata": {},
   "outputs": [
    {
     "data": {
      "text/plain": [
       "['1S', 'X', '1N', '2D', 'PASS', 'PASS', 'PASS']"
      ]
     },
     "execution_count": 61,
     "metadata": {},
     "output_type": "execute_result"
    }
   ],
   "source": [
    "recovered_auction = [bidding.ID2BID[np.argmax(A_val[i, k, :])] for k in range(24)]\n",
    "recovered_auction[(24 - list(reversed(recovered_auction)).index('PAD_START')):]"
   ]
  },
  {
   "cell_type": "code",
   "execution_count": 62,
   "metadata": {},
   "outputs": [
    {
     "data": {
      "text/plain": [
       "[1.0]"
      ]
     },
     "execution_count": 62,
     "metadata": {},
     "output_type": "execute_result"
    }
   ],
   "source": [
    "metric(predictions[i:i+1, :], C_val[i:i+1, :])"
   ]
  },
  {
   "cell_type": "code",
   "execution_count": 34,
   "metadata": {},
   "outputs": [
    {
     "data": {
      "image/png": "[encoded data removed]",
      "text/plain": [
       "<matplotlib.figure.Figure at 0x7f14b6c17ef0>"
      ]
     },
     "metadata": {},
     "output_type": "display_data"
    }
   ],
   "source": [
    "plt.hist(metric(predictions, C_val), 20);"
   ]
  },
  {
   "cell_type": "code",
   "execution_count": 36,
   "metadata": {},
   "outputs": [
    {
     "data": {
      "text/plain": [
       "0.22925"
      ]
     },
     "execution_count": 36,
     "metadata": {},
     "output_type": "execute_result"
    }
   ],
   "source": [
    "np.mean(metric(predictions, C_val))"
   ]
  },
  {
   "cell_type": "code",
   "execution_count": null,
   "metadata": {},
   "outputs": [],
   "source": []
  }
 ],
 "metadata": {
  "kernelspec": {
   "display_name": "Python 3",
   "language": "python",
   "name": "python3"
  },
  "language_info": {
   "codemirror_mode": {
    "name": "ipython",
    "version": 3
   },
   "file_extension": ".py",
   "mimetype": "text/x-python",
   "name": "python",
   "nbconvert_exporter": "python",
   "pygments_lexer": "ipython3",
   "version": "3.5.4"
  }
 },
 "nbformat": 4,
 "nbformat_minor": 2
}
