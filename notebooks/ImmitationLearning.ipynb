{
 "cells": [
  {
   "cell_type": "code",
   "execution_count": 1,
   "metadata": {},
   "outputs": [],
   "source": [
    "import sys\n",
    "import gzip\n",
    "\n",
    "import numpy as np\n",
    "import tensorflow as tf\n",
    "\n",
    "from binary_sayc import load_deals, DealData\n",
    "from simulator import Simulator\n",
    "from eval_bidding import eval_bidding"
   ]
  },
  {
   "cell_type": "code",
   "execution_count": null,
   "metadata": {},
   "outputs": [],
   "source": [
    "sess = tf.InteractiveSession()\n",
    "saver = tf.train.import_meta_graph('../model/sayc-500000.meta')\n",
    "saver.restore(sess, '../model/sayc-500000')\n",
    "\n",
    "graph = tf.get_default_graph()\n",
    "\n",
    "seq_in = graph.get_tensor_by_name('seq_in:0')\n",
    "seq_out = graph.get_tensor_by_name('seq_out:0')\n",
    "keep_prob = graph.get_tensor_by_name('keep_prob:0')\n",
    "\n",
    "out_bid_logit = graph.get_tensor_by_name('out_bid_logit:0')\n",
    "out_bid_target = graph.get_tensor_by_name('out_bid_target:0')"
   ]
  },
  {
   "cell_type": "code",
   "execution_count": 3,
   "metadata": {},
   "outputs": [],
   "source": [
    "def model(sess):\n",
    "    def pred_fun(X):\n",
    "        bids = sess.run(out_bid_logit, feed_dict={seq_in: X, keep_prob: 0.95})\n",
    "        return sess.run(tf.nn.softmax(bids[-1]))\n",
    "    return pred_fun"
   ]
  },
  {
   "cell_type": "code",
   "execution_count": null,
   "metadata": {},
   "outputs": [],
   "source": []
  },
  {
   "cell_type": "code",
   "execution_count": 4,
   "metadata": {},
   "outputs": [],
   "source": [
    "cost = tf.losses.softmax_cross_entropy(out_bid_target, out_bid_logit)\n",
    "\n",
    "#train_step = tf.train.AdamOptimizer(0.001).minimize(cost)\n",
    "train_step = graph.get_operation_by_name('softmax_w/Adam')"
   ]
  },
  {
   "cell_type": "code",
   "execution_count": null,
   "metadata": {},
   "outputs": [],
   "source": []
  },
  {
   "cell_type": "code",
   "execution_count": 55,
   "metadata": {},
   "outputs": [],
   "source": [
    "reader = load_deals(gzip.open('../deals_bidding_valid_0001.gz'))"
   ]
  },
  {
   "cell_type": "code",
   "execution_count": null,
   "metadata": {},
   "outputs": [
    {
     "name": "stdout",
     "output_type": "stream",
     "text": [
      "...."
     ]
    }
   ],
   "source": [
    "for i, (deal_str, auction_str, contracts) in enumerate(reader):\n",
    "    if i % 10 == 0:\n",
    "        sys.stdout.write('.')\n",
    "    if i > 100:\n",
    "        break\n",
    "    deal_data = DealData.from_deal_auction_string(deal_str, auction_str)\n",
    "    deal_data.reset_auction()\n",
    "    init_auction = deal_data.auction\n",
    "    \n",
    "    sim = Simulator(deal_data, contracts, model(sess))\n",
    "    \n",
    "    best_score, best_auction = sim.best_auction(init_auction, 10)\n",
    "    \n",
    "    deal_data.auction = best_auction\n",
    "    \n",
    "    n_time_steps = (len(best_auction) // 4) + 1\n",
    "    \n",
    "    X, y = deal_data.get_binary(n_time_steps)\n",
    "    \n",
    "    sess.run(train_step, feed_dict={seq_in: X, seq_out: y, keep_prob: 0.8})"
   ]
  },
  {
   "cell_type": "code",
   "execution_count": 12,
   "metadata": {},
   "outputs": [],
   "source": [
    "deal_str, auction_str, contracts = next(reader)"
   ]
  },
  {
   "cell_type": "code",
   "execution_count": 13,
   "metadata": {},
   "outputs": [
    {
     "name": "stdout",
     "output_type": "stream",
     "text": [
      "SQJT9 HKJ86 DAKJ7 CQ  S854 HQT7 DQ6 CAK872  S73 H42 D98432 CJ943  SAK62 HA953 DT5 CT65\n",
      "S Both P P 1D 2C P 2D 2S 3C P P P\n"
     ]
    }
   ],
   "source": [
    "print(deal_str)\n",
    "print(auction_str)"
   ]
  },
  {
   "cell_type": "code",
   "execution_count": 14,
   "metadata": {},
   "outputs": [],
   "source": [
    "deal_data = DealData.from_deal_auction_string(deal_str, auction_str)\n",
    "deal_data.reset_auction()"
   ]
  },
  {
   "cell_type": "code",
   "execution_count": 15,
   "metadata": {},
   "outputs": [
    {
     "data": {
      "text/plain": [
       "['PAD_START', 'PAD_START']"
      ]
     },
     "execution_count": 15,
     "metadata": {},
     "output_type": "execute_result"
    }
   ],
   "source": [
    "init_auction = deal_data.auction\n",
    "init_auction"
   ]
  },
  {
   "cell_type": "code",
   "execution_count": 16,
   "metadata": {},
   "outputs": [],
   "source": [
    "sim = Simulator(deal_data, contracts, model(sess))"
   ]
  },
  {
   "cell_type": "code",
   "execution_count": 42,
   "metadata": {},
   "outputs": [],
   "source": [
    "sim.cache = {}"
   ]
  },
  {
   "cell_type": "code",
   "execution_count": 50,
   "metadata": {},
   "outputs": [
    {
     "data": {
      "text/plain": [
       "['PAD_START', 'PAD_START', 'PASS', 'PASS', '1D', '2C', 'PASS', '2D', '2S']"
      ]
     },
     "execution_count": 50,
     "metadata": {},
     "output_type": "execute_result"
    }
   ],
   "source": [
    "deal_data.auction"
   ]
  },
  {
   "cell_type": "code",
   "execution_count": 48,
   "metadata": {},
   "outputs": [
    {
     "name": "stdout",
     "output_type": "stream",
     "text": [
      "174 µs ± 2.09 µs per loop (mean ± std. dev. of 7 runs, 10000 loops each)\n"
     ]
    }
   ],
   "source": [
    "%%timeit\n",
    "X, _ = deal_data.get_binary(3)"
   ]
  },
  {
   "cell_type": "code",
   "execution_count": 54,
   "metadata": {},
   "outputs": [
    {
     "name": "stdout",
     "output_type": "stream",
     "text": [
      "671 ms ± 7.83 ms per loop (mean ± std. dev. of 7 runs, 1 loop each)\n"
     ]
    }
   ],
   "source": [
    "%%timeit\n",
    "model(sess)(X[1:2, 2:3])"
   ]
  },
  {
   "cell_type": "code",
   "execution_count": 45,
   "metadata": {},
   "outputs": [
    {
     "name": "stdout",
     "output_type": "stream",
     "text": [
      "677 ms ± 10.6 ms per loop (mean ± std. dev. of 7 runs, 1 loop each)\n"
     ]
    }
   ],
   "source": [
    "%%timeit \n",
    "sim.cache = {}; sim.simulate_bid(['PAD_START', 'PAD_START', 'PASS', 'PASS', '1D', '2C', 'PASS', '2D', '2S', ])"
   ]
  },
  {
   "cell_type": "code",
   "execution_count": 18,
   "metadata": {},
   "outputs": [
    {
     "data": {
      "text/plain": [
       "['PAD_START',\n",
       " 'PAD_START',\n",
       " 'PASS',\n",
       " 'PASS',\n",
       " '1D',\n",
       " '2C',\n",
       " 'PASS',\n",
       " '2D',\n",
       " '2S',\n",
       " '3C',\n",
       " 'PASS',\n",
       " 'PASS',\n",
       " 'PASS']"
      ]
     },
     "execution_count": 18,
     "metadata": {},
     "output_type": "execute_result"
    }
   ],
   "source": [
    "sim.simulate_auction(init_auction)"
   ]
  },
  {
   "cell_type": "code",
   "execution_count": 32,
   "metadata": {},
   "outputs": [
    {
     "data": {
      "text/plain": [
       "(100.0,\n",
       " ['PAD_START',\n",
       "  'PAD_START',\n",
       "  'PASS',\n",
       "  'PASS',\n",
       "  'PASS',\n",
       "  '1C',\n",
       "  'PASS',\n",
       "  '1D',\n",
       "  'PASS',\n",
       "  '2C',\n",
       "  'PASS',\n",
       "  '2D',\n",
       "  'PASS',\n",
       "  'PASS',\n",
       "  'PASS'])"
      ]
     },
     "execution_count": 32,
     "metadata": {},
     "output_type": "execute_result"
    }
   ],
   "source": [
    "best_score, best_auction = sim.best_auction(init_auction, 10)\n",
    "best_score, best_auction"
   ]
  },
  {
   "cell_type": "code",
   "execution_count": null,
   "metadata": {},
   "outputs": [],
   "source": []
  },
  {
   "cell_type": "code",
   "execution_count": 7,
   "metadata": {},
   "outputs": [],
   "source": [
    "def apply_bidding(bid_model, fin, fout):\n",
    "    reader = load_deals(fin)\n",
    "    for i, (deal_str, auction_str, contracts) in enumerate(reader):\n",
    "        if i % 10 == 0:\n",
    "            sys.stdout.write('.')\n",
    "        if i > 100:\n",
    "            break\n",
    "        deal_data = DealData.from_deal_auction_string(deal_str, auction_str)\n",
    "        deal_data.reset_auction()\n",
    "        init_auction = deal_data.auction\n",
    "        sim = Simulator(deal_data, contracts, bid_model)\n",
    "        auction = [('P' if bid == 'PASS' else bid) for bid in sim.simulate_auction(init_auction) if bid != 'PAD_START']\n",
    "        fout.write((' ' + deal_str + '\\n').encode('ascii'))\n",
    "        fout.write((' ' + ' '.join(auction_str.split()[:2] + auction)).encode('ascii'))\n",
    "        fout.write('\\n'.encode('ascii'))\n",
    "        for contract, (score1, score2) in contracts.items():\n",
    "            fout.write(('{}\\t{}\\t{}\\n'. format(contract, score1, score2)).encode('ascii'))"
   ]
  },
  {
   "cell_type": "code",
   "execution_count": 8,
   "metadata": {},
   "outputs": [
    {
     "name": "stdout",
     "output_type": "stream",
     "text": [
      "..........."
     ]
    }
   ],
   "source": [
    "fout = gzip.open('../test1.gz', 'w')\n",
    "apply_bidding(model(sess), gzip.open('../deals_bidding_valid_0001.gz'), fout)\n",
    "fout.close()"
   ]
  },
  {
   "cell_type": "code",
   "execution_count": 11,
   "metadata": {},
   "outputs": [
    {
     "name": "stdout",
     "output_type": "stream",
     "text": [
      "."
     ]
    },
    {
     "data": {
      "text/plain": [
       "245.44554455445544"
      ]
     },
     "execution_count": 11,
     "metadata": {},
     "output_type": "execute_result"
    }
   ],
   "source": [
    "eval_bidding(gzip.open('../test1.gz'))"
   ]
  },
  {
   "cell_type": "code",
   "execution_count": null,
   "metadata": {},
   "outputs": [],
   "source": []
  }
 ],
 "metadata": {
  "kernelspec": {
   "display_name": "Python 3",
   "language": "python",
   "name": "python3"
  },
  "language_info": {
   "codemirror_mode": {
    "name": "ipython",
    "version": 3
   },
   "file_extension": ".py",
   "mimetype": "text/x-python",
   "name": "python",
   "nbconvert_exporter": "python",
   "pygments_lexer": "ipython3",
   "version": "3.5.4"
  }
 },
 "nbformat": 4,
 "nbformat_minor": 2
}
