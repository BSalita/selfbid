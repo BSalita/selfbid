{
 "cells": [
  {
   "cell_type": "code",
   "execution_count": 20,
   "metadata": {},
   "outputs": [],
   "source": [
    "import numpy as np\n",
    "import tensorflow as tf\n",
    "\n",
    "from collections import namedtuple\n",
    "\n",
    "from lead_binary import DealMeta, suit_index_lookup\n",
    "from binary_righty import binary_hand, get_card_index, encode_card"
   ]
  },
  {
   "cell_type": "code",
   "execution_count": 2,
   "metadata": {},
   "outputs": [],
   "source": [
    "sess = tf.InteractiveSession()"
   ]
  },
  {
   "cell_type": "code",
   "execution_count": 3,
   "metadata": {},
   "outputs": [],
   "source": [
    "model_path = './righty_model/righty-350000'"
   ]
  },
  {
   "cell_type": "code",
   "execution_count": 4,
   "metadata": {},
   "outputs": [
    {
     "name": "stdout",
     "output_type": "stream",
     "text": [
      "INFO:tensorflow:Restoring parameters from ./righty_model/righty-350000\n"
     ]
    }
   ],
   "source": [
    "saver = tf.train.import_meta_graph(model_path + '.meta')\n",
    "saver.restore(sess, model_path)"
   ]
  },
  {
   "cell_type": "code",
   "execution_count": 5,
   "metadata": {},
   "outputs": [],
   "source": [
    "graph = tf.get_default_graph()"
   ]
  },
  {
   "cell_type": "code",
   "execution_count": 6,
   "metadata": {},
   "outputs": [],
   "source": [
    "seq_in = graph.get_tensor_by_name('seq_in:0')\n",
    "seq_out = graph.get_tensor_by_name('seq_out:0')\n",
    "keep_prob = graph.get_tensor_by_name('keep_prob:0')\n",
    "\n",
    "out_card_logit = graph.get_tensor_by_name('out_card_logit:0')\n",
    "out_card_target = graph.get_tensor_by_name('out_card_target:0')"
   ]
  },
  {
   "cell_type": "code",
   "execution_count": 126,
   "metadata": {},
   "outputs": [
    {
     "data": {
      "text/plain": [
       "(TensorShape([Dimension(None), Dimension(32)]),\n",
       " TensorShape([Dimension(None), Dimension(32)]),\n",
       " TensorShape([Dimension(None), Dimension(None), Dimension(32)]))"
      ]
     },
     "execution_count": 126,
     "metadata": {},
     "output_type": "execute_result"
    }
   ],
   "source": [
    "out_card_logit.shape, out_card_target.shape, seq_out.shape"
   ]
  },
  {
   "cell_type": "code",
   "execution_count": 8,
   "metadata": {},
   "outputs": [],
   "source": [
    "state_c_0 = graph.get_tensor_by_name('state_c_0:0')\n",
    "state_h_0 = graph.get_tensor_by_name('state_h_0:0')\n",
    "\n",
    "state_c_1 = graph.get_tensor_by_name('state_c_1:0')\n",
    "state_h_1 = graph.get_tensor_by_name('state_h_1:0')\n",
    "\n",
    "state_c_2 = graph.get_tensor_by_name('state_c_2:0')\n",
    "state_h_2 = graph.get_tensor_by_name('state_h_2:0')\n",
    "\n",
    "next_c_0 = graph.get_tensor_by_name('next_c_0:0')\n",
    "next_h_0 = graph.get_tensor_by_name('next_h_0:0')\n",
    "\n",
    "next_c_1 = graph.get_tensor_by_name('next_c_1:0')\n",
    "next_h_1 = graph.get_tensor_by_name('next_h_1:0')\n",
    "\n",
    "next_c_2 = graph.get_tensor_by_name('next_c_2:0')\n",
    "next_h_2 = graph.get_tensor_by_name('next_h_2:0')\n",
    "\n",
    "x_in = graph.get_tensor_by_name('x_in:0')\n",
    "out_card = graph.get_tensor_by_name('out_card:0')"
   ]
  },
  {
   "cell_type": "code",
   "execution_count": 9,
   "metadata": {},
   "outputs": [
    {
     "data": {
      "text/plain": [
       "(TensorShape([Dimension(1), Dimension(298)]),\n",
       " TensorShape([Dimension(1), Dimension(32)]))"
      ]
     },
     "execution_count": 9,
     "metadata": {},
     "output_type": "execute_result"
    }
   ],
   "source": [
    "x_in.shape, out_card.shape"
   ]
  },
  {
   "cell_type": "code",
   "execution_count": 10,
   "metadata": {},
   "outputs": [],
   "source": [
    "State = namedtuple('State', ['c', 'h'])\n",
    "\n",
    "lstm_size = 128\n",
    "\n",
    "zero_state = (\n",
    "    State(c=np.zeros((1, lstm_size)), h=np.zeros((1, lstm_size))),\n",
    "    State(c=np.zeros((1, lstm_size)), h=np.zeros((1, lstm_size))),\n",
    "    State(c=np.zeros((1, lstm_size)), h=np.zeros((1, lstm_size))),\n",
    ")"
   ]
  },
  {
   "cell_type": "code",
   "execution_count": 11,
   "metadata": {},
   "outputs": [],
   "source": [
    "def model(sess, p_keep=1.0):\n",
    "    def pred_fun(x, state_in):\n",
    "        feed_dict = {\n",
    "            keep_prob: p_keep,\n",
    "            x_in: x,\n",
    "            state_c_0: state_in[0].c,\n",
    "            state_h_0: state_in[0].h,\n",
    "            state_c_1: state_in[1].c,\n",
    "            state_h_1: state_in[1].h,\n",
    "            state_c_2: state_in[2].c,\n",
    "            state_h_2: state_in[2].h,\n",
    "        }\n",
    "        cards = sess.run(out_card, feed_dict=feed_dict)\n",
    "        next_state = (\n",
    "            State(c=sess.run(next_c_0, feed_dict=feed_dict), h=sess.run(next_h_0, feed_dict=feed_dict)),\n",
    "            State(c=sess.run(next_c_1, feed_dict=feed_dict), h=sess.run(next_h_1, feed_dict=feed_dict)),\n",
    "            State(c=sess.run(next_c_2, feed_dict=feed_dict), h=sess.run(next_h_2, feed_dict=feed_dict)),\n",
    "        )\n",
    "        return cards, next_state\n",
    "    return pred_fun"
   ]
  },
  {
   "cell_type": "code",
   "execution_count": 12,
   "metadata": {},
   "outputs": [],
   "source": [
    "righty = model(sess)"
   ]
  },
  {
   "cell_type": "raw",
   "metadata": {},
   "source": [
    "W:AJT9.J84.JT9872. 6.Q9.AKQ3.KJ9743 Q87542.A73.6.AQ8 K3.KT652.54.T652 #:0012 C:BW5C T:1 D:W V:NS A:PP1C2SPP4SPPPPPP R1:4S.+1.E R2:4S.+2.E\n",
    "\n",
    "W:K6.96.A987.KJ753 J9872.J8.J652.98 AQ53.QT52.KQ.A62 T4.AK743.T43.QT4 #:0049 C:BW5C T:1 D:N V:- A:PP1NPP3NPPPPPP R1:3N.+2.E R2:3N.+4.E\n",
    "\n",
    "W:AJ4.T73.AT64.AQ3 T982.A862.KQJ2.K 753.KQJ.53.T8652 KQ6.954.987.J974 #:0052 C:BW5C T:1 D:W V:ALL A:1NPPPPPP R1:1N.=.W R2:1N.=.W"
   ]
  },
  {
   "cell_type": "code",
   "execution_count": 77,
   "metadata": {},
   "outputs": [],
   "source": [
    "deal_str = 'W:T9.T86.AK3.AT873 AKQ87.AKQ5.Q862. J65.7432.J94.KJ6 432.J9.T75.Q9542'\n",
    "\n",
    "outcome = 'S - 4S.=.N'\n",
    "\n",
    "# deal_str = 'W:AJT9.J84.JT9872. 6.Q9.AKQ3.KJ9743 Q87542.A73.6.AQ8 K3.KT652.54.T652'\n",
    "\n",
    "# outcome = 'W NS 4S.+2.E'"
   ]
  },
  {
   "cell_type": "code",
   "execution_count": 78,
   "metadata": {},
   "outputs": [],
   "source": [
    "hands = list(map(lambda hand_str: list(map(list, hand_str.split('.'))), deal_str[2:].split()))"
   ]
  },
  {
   "cell_type": "code",
   "execution_count": 79,
   "metadata": {},
   "outputs": [
    {
     "data": {
      "text/plain": [
       "[[['T', '9'], ['T', '8', '6'], ['A', 'K', '3'], ['A', 'T', '8', '7', '3']],\n",
       " [['A', 'K', 'Q', '8', '7'], ['A', 'K', 'Q', '5'], ['Q', '8', '6', '2'], []],\n",
       " [['J', '6', '5'], ['7', '4', '3', '2'], ['J', '9', '4'], ['K', 'J', '6']],\n",
       " [['4', '3', '2'], ['J', '9'], ['T', '7', '5'], ['Q', '9', '5', '4', '2']]]"
      ]
     },
     "execution_count": 79,
     "metadata": {},
     "output_type": "execute_result"
    }
   ],
   "source": [
    "hands"
   ]
  },
  {
   "cell_type": "code",
   "execution_count": 80,
   "metadata": {},
   "outputs": [],
   "source": [
    "righty_bin = binary_hand(hands[0])\n",
    "dummy_bin = binary_hand(hands[3])"
   ]
  },
  {
   "cell_type": "code",
   "execution_count": 81,
   "metadata": {},
   "outputs": [
    {
     "data": {
      "text/plain": [
       "array([[ 0.,  0.,  0.,  0.,  1.,  1.,  0.,  0.],\n",
       "       [ 0.,  0.,  0.,  0.,  1.,  0.,  1.,  1.],\n",
       "       [ 1.,  1.,  0.,  0.,  0.,  0.,  0.,  1.],\n",
       "       [ 1.,  0.,  0.,  0.,  1.,  0.,  1.,  2.]], dtype=float16)"
      ]
     },
     "execution_count": 81,
     "metadata": {},
     "output_type": "execute_result"
    }
   ],
   "source": [
    "righty_bin.reshape((4, 8))"
   ]
  },
  {
   "cell_type": "code",
   "execution_count": 82,
   "metadata": {},
   "outputs": [],
   "source": [
    "deal_meta = DealMeta.from_str(outcome)"
   ]
  },
  {
   "cell_type": "code",
   "execution_count": 83,
   "metadata": {},
   "outputs": [],
   "source": [
    "def get_x_in(righty_bin, dummy_bin, last_lead, last_trick, this_trick, d_meta):\n",
    "    x = np.zeros((1, 298), np.float16)\n",
    "    \n",
    "    x[0, 292] = d_meta.level\n",
    "    if d_meta.strain == 'N':\n",
    "        x[0, 293] = 1\n",
    "    else:\n",
    "        x[0, 294 + suit_index_lookup[d_meta.strain]] = 1\n",
    "    x[0, 288 + last_lead] = 1\n",
    "    \n",
    "    x[0, 0:32] = righty_bin\n",
    "    x[0, 32:64] = dummy_bin\n",
    "    \n",
    "    x[0, 64:96] = encode_card(last_trick[0])\n",
    "    x[0, 96:128] = encode_card(last_trick[1])\n",
    "    x[0, 128:160] = encode_card(last_trick[2])\n",
    "    x[0, 160:192] = encode_card(last_trick[3])\n",
    "    \n",
    "    x[0, 192:224] = encode_card(this_trick[0])\n",
    "    x[0, 224:256] = encode_card(this_trick[1])\n",
    "    x[0, 256:288] = encode_card(this_trick[2])\n",
    "    \n",
    "    return x"
   ]
  },
  {
   "cell_type": "code",
   "execution_count": 84,
   "metadata": {},
   "outputs": [],
   "source": [
    "next_state = zero_state"
   ]
  },
  {
   "cell_type": "raw",
   "metadata": {},
   "source": [
    "W:T9.T86.AK3.AT873 AKQ87.AKQ5.Q862. J65.7432.J94.KJ6 432.J9.T75.Q9542\n",
    "\n",
    "W:AJT9.J84.JT9872. 6.Q9.AKQ3.KJ9743 Q87542.A73.6.AQ8 K3.KT652.54.T652\n",
    "\n",
    "W:K6.96.A987.KJ753 J9872.J8.J652.98 AQ53.QT52.KQ.A62 T4.AK743.T43.QT4\n",
    "\n",
    "W:AJ4.T73.AT64.AQ3 T982.A862.KQJ2.K 753.KQJ.53.T8652 KQ6.954.987.J974"
   ]
  },
  {
   "cell_type": "code",
   "execution_count": 117,
   "metadata": {},
   "outputs": [],
   "source": [
    "dummy_bin[get_card_index('D5')] -= 1"
   ]
  },
  {
   "cell_type": "code",
   "execution_count": 121,
   "metadata": {},
   "outputs": [],
   "source": [
    "righty_bin[get_card_index('HT')] -= 1"
   ]
  },
  {
   "cell_type": "code",
   "execution_count": 122,
   "metadata": {},
   "outputs": [],
   "source": [
    "x = get_x_in(righty_bin, dummy_bin, 1, ['D4', 'D5', 'DK', 'D2'],  ['>>', '>>', '>>'], deal_meta)"
   ]
  },
  {
   "cell_type": "code",
   "execution_count": 123,
   "metadata": {},
   "outputs": [],
   "source": [
    "card, next_state = righty(x, next_state)"
   ]
  },
  {
   "cell_type": "code",
   "execution_count": 124,
   "metadata": {},
   "outputs": [
    {
     "data": {
      "text/plain": [
       "array([[  5.96527805e-09,   7.81264862e-06,   5.28886403e-06,\n",
       "          2.85826559e-07,   1.16330312e-07,   1.17727176e-07,\n",
       "          7.52518492e-09,   9.90443194e-09],\n",
       "       [  8.55782833e-10,   4.29609418e-06,   3.56907585e-05,\n",
       "          1.67684368e-04,   3.86898249e-01,   4.02634432e-05,\n",
       "          1.51020974e-01,   1.29349564e-05],\n",
       "       [  2.41957545e-01,   2.07751500e-03,   1.48116055e-06,\n",
       "          1.61340085e-05,   2.50886887e-06,   8.16236061e-05,\n",
       "          2.91481638e-06,   2.18722317e-02],\n",
       "       [  4.27268151e-06,   2.33556329e-06,   2.17595170e-05,\n",
       "          1.45187096e-06,   4.74915579e-02,   8.48249874e-06,\n",
       "          6.43345118e-02,   8.39298293e-02]], dtype=float32)"
      ]
     },
     "execution_count": 124,
     "metadata": {},
     "output_type": "execute_result"
    }
   ],
   "source": [
    "card.reshape((4, 8))"
   ]
  },
  {
   "cell_type": "code",
   "execution_count": 94,
   "metadata": {},
   "outputs": [
    {
     "data": {
      "text/plain": [
       "array([[ 0.,  0.,  0.,  0.,  0.,  0.,  0.,  1.],\n",
       "       [ 0.,  0.,  0.,  1.,  0.,  1.,  0.,  0.],\n",
       "       [ 0.,  0.,  0.,  0.,  1.,  0.,  0.,  2.],\n",
       "       [ 0.,  0.,  1.,  0.,  0.,  1.,  0.,  3.]], dtype=float16)"
      ]
     },
     "execution_count": 94,
     "metadata": {},
     "output_type": "execute_result"
    }
   ],
   "source": [
    "dummy_bin.reshape((4, 8))"
   ]
  },
  {
   "cell_type": "code",
   "execution_count": 97,
   "metadata": {},
   "outputs": [
    {
     "data": {
      "text/plain": [
       "array([[ 0.,  0.,  0.,  0.,  1.,  1.,  0.,  0.],\n",
       "       [ 0.,  0.,  0.,  0.,  1.,  0.,  1.,  1.],\n",
       "       [ 1.,  1.,  0.,  0.,  0.,  0.,  0.,  1.],\n",
       "       [ 0.,  0.,  0.,  0.,  1.,  0.,  1.,  2.]], dtype=float16)"
      ]
     },
     "execution_count": 97,
     "metadata": {},
     "output_type": "execute_result"
    }
   ],
   "source": [
    "righty_bin.reshape((4, 8))"
   ]
  },
  {
   "cell_type": "code",
   "execution_count": null,
   "metadata": {},
   "outputs": [],
   "source": []
  }
 ],
 "metadata": {
  "kernelspec": {
   "display_name": "Python 3",
   "language": "python",
   "name": "python3"
  },
  "language_info": {
   "codemirror_mode": {
    "name": "ipython",
    "version": 3
   },
   "file_extension": ".py",
   "mimetype": "text/x-python",
   "name": "python",
   "nbconvert_exporter": "python",
   "pygments_lexer": "ipython3",
   "version": "3.5.4"
  }
 },
 "nbformat": 4,
 "nbformat_minor": 2
}
