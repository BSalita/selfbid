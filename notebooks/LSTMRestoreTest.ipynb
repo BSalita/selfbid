{
 "cells": [
  {
   "cell_type": "code",
   "execution_count": 1,
   "metadata": {},
   "outputs": [],
   "source": [
    "import numpy as np\n",
    "import tensorflow as tf"
   ]
  },
  {
   "cell_type": "code",
   "execution_count": 2,
   "metadata": {},
   "outputs": [],
   "source": [
    "X_val = np.load('./X_val.npy')\n",
    "y_val = np.load('./y_val.npy')"
   ]
  },
  {
   "cell_type": "code",
   "execution_count": 3,
   "metadata": {},
   "outputs": [],
   "source": [
    "sess = tf.InteractiveSession()"
   ]
  },
  {
   "cell_type": "code",
   "execution_count": 4,
   "metadata": {},
   "outputs": [],
   "source": [
    "saver = tf.train.import_meta_graph('./model/test-10.meta')"
   ]
  },
  {
   "cell_type": "code",
   "execution_count": 5,
   "metadata": {},
   "outputs": [
    {
     "name": "stdout",
     "output_type": "stream",
     "text": [
      "INFO:tensorflow:Restoring parameters from ./model/test-10\n"
     ]
    }
   ],
   "source": [
    "saver.restore(sess, './model/test-10')"
   ]
  },
  {
   "cell_type": "code",
   "execution_count": 6,
   "metadata": {},
   "outputs": [],
   "source": [
    "graph = tf.get_default_graph()"
   ]
  },
  {
   "cell_type": "code",
   "execution_count": 11,
   "metadata": {},
   "outputs": [
    {
     "data": {
      "text/plain": [
       "<tf.Tensor 'next_h_0:0' shape=(1, 128) dtype=float32>"
      ]
     },
     "execution_count": 11,
     "metadata": {},
     "output_type": "execute_result"
    }
   ],
   "source": [
    "graph.get_tensor_by_name('next_h_0:0')"
   ]
  },
  {
   "cell_type": "code",
   "execution_count": 13,
   "metadata": {},
   "outputs": [],
   "source": [
    "state_c_0 = graph.get_tensor_by_name('state_c_0:0')\n",
    "state_h_0 = graph.get_tensor_by_name('state_h_0:0')\n",
    "\n",
    "state_c_1 = graph.get_tensor_by_name('state_c_1:0')\n",
    "state_h_1 = graph.get_tensor_by_name('state_h_1:0')\n",
    "\n",
    "state_c_2 = graph.get_tensor_by_name('state_c_2:0')\n",
    "state_h_2 = graph.get_tensor_by_name('state_h_2:0')"
   ]
  },
  {
   "cell_type": "code",
   "execution_count": 14,
   "metadata": {},
   "outputs": [],
   "source": [
    "next_c_0 = graph.get_tensor_by_name('next_c_0:0')\n",
    "next_h_0 = graph.get_tensor_by_name('next_h_0:0')\n",
    "\n",
    "next_c_1 = graph.get_tensor_by_name('next_c_1:0')\n",
    "next_h_1 = graph.get_tensor_by_name('next_h_1:0')\n",
    "\n",
    "next_c_2 = graph.get_tensor_by_name('next_c_2:0')\n",
    "next_h_2 = graph.get_tensor_by_name('next_h_2:0')"
   ]
  },
  {
   "cell_type": "code",
   "execution_count": 16,
   "metadata": {},
   "outputs": [],
   "source": [
    "x_in = graph.get_tensor_by_name('x_in:0')\n",
    "out_bid = graph.get_tensor_by_name('out_bid:0')"
   ]
  },
  {
   "cell_type": "code",
   "execution_count": 17,
   "metadata": {},
   "outputs": [],
   "source": [
    "seq_in = graph.get_tensor_by_name('seq_in:0')\n",
    "keep_prob = graph.get_tensor_by_name('keep_prob:0')"
   ]
  },
  {
   "cell_type": "code",
   "execution_count": 18,
   "metadata": {},
   "outputs": [],
   "source": [
    "out_bid_logit = graph.get_tensor_by_name('out_bid_logit:0')"
   ]
  },
  {
   "cell_type": "code",
   "execution_count": 21,
   "metadata": {},
   "outputs": [],
   "source": [
    "x = np.zeros((1, 179))\n",
    "z = np.zeros((1, 128))\n",
    "b0 = sess.run(out_bid, feed_dict={keep_prob: 1.0, x_in:x, state_c_0:z, state_h_0:z, state_c_1:z, state_h_1:z, state_c_2:z, state_h_2:z})\n",
    "n_c_0 = sess.run(next_c_0, feed_dict={keep_prob: 1.0, x_in:x, state_c_0:z, state_h_0:z, state_c_1:z, state_h_1:z, state_c_2:z, state_h_2:z})"
   ]
  },
  {
   "cell_type": "code",
   "execution_count": 23,
   "metadata": {},
   "outputs": [
    {
     "data": {
      "text/plain": [
       "array([[  5.06054237e-03,  -3.10771074e-03,   4.91264742e-03,\n",
       "         -4.98362584e-03,   4.80592251e-03,   1.32603815e-03,\n",
       "          4.93980851e-03,   2.54831719e-03,  -5.02184685e-03,\n",
       "         -4.60709300e-04,  -4.51021595e-03,   4.95940680e-03,\n",
       "         -4.64065978e-03,  -4.80556814e-03,  -5.06168604e-03,\n",
       "          4.47626662e-04,  -2.87332805e-04,   4.87677846e-03,\n",
       "         -4.99222009e-03,  -3.10570817e-03,  -4.65495931e-03,\n",
       "         -4.98911273e-03,   1.45426451e-03,   3.43274628e-03,\n",
       "          4.91423812e-03,  -4.88411356e-03,   4.84299520e-03,\n",
       "          5.05603058e-03,   4.92216041e-03,  -3.32629937e-03,\n",
       "          4.88230493e-03,  -3.21280560e-03,   4.92790109e-03,\n",
       "         -2.70800083e-03,  -2.83682323e-03,   4.80473880e-03,\n",
       "          4.96561639e-03,  -4.67975438e-03,   3.27432901e-03,\n",
       "         -5.02366014e-03,  -4.85972269e-03,  -4.86623123e-03,\n",
       "         -4.84419474e-03,  -1.74183643e-03,   4.93982481e-03,\n",
       "          4.99388948e-03,  -3.10293864e-03,  -4.97603510e-03,\n",
       "         -4.81280033e-03,  -2.07576179e-03,   4.98525426e-03,\n",
       "          4.71921125e-03,  -4.90289181e-03,  -4.68444126e-03,\n",
       "         -5.00084460e-03,  -4.87820106e-03,   5.01013175e-03,\n",
       "         -2.03886908e-03,  -5.01203444e-03,  -5.04537579e-03,\n",
       "          4.95458022e-03,   3.29689286e-03,   2.27862853e-03,\n",
       "          7.52217165e-05,  -4.01667506e-03,  -3.48110497e-03,\n",
       "          4.94011352e-03,  -4.94940346e-03,  -4.97529097e-03,\n",
       "         -5.00598177e-03,   4.17131046e-03,  -3.43466352e-04,\n",
       "         -3.81315383e-03,   4.87768510e-03,   3.70904896e-03,\n",
       "         -4.98085609e-03,   3.35080549e-03,   5.00098709e-03,\n",
       "         -4.76389844e-03,   8.01749178e-04,   3.37747880e-03,\n",
       "         -4.91951033e-03,   4.96589113e-03,  -1.06818345e-03,\n",
       "         -3.20738577e-03,  -2.97855877e-04,  -3.24648828e-03,\n",
       "         -3.08075408e-03,   4.72125132e-03,  -2.35372316e-03,\n",
       "         -4.73236246e-03,  -1.76779088e-03,   7.64376600e-04,\n",
       "         -4.90368577e-03,  -4.92047751e-03,  -2.14994326e-03,\n",
       "          4.99166735e-03,   7.23138743e-04,  -4.71136952e-03,\n",
       "         -4.77920892e-03,   4.98671737e-03,  -4.54206485e-03,\n",
       "         -3.56319570e-03,   1.10359921e-03,  -4.72804252e-03,\n",
       "          4.93604317e-03,  -1.92684040e-03,   4.72703716e-03,\n",
       "          1.09385117e-03,  -4.98273456e-03,   5.02329227e-03,\n",
       "         -3.12353368e-03,   3.02599138e-03,   4.92666662e-03,\n",
       "          4.78833122e-03,  -5.01492014e-03,  -5.01760282e-03,\n",
       "         -1.14292291e-03,  -4.71408479e-03,  -4.70606703e-03,\n",
       "          4.11193445e-03,   5.03273215e-03,  -2.99518160e-03,\n",
       "          4.84235305e-03,   8.69258831e-04,   2.49248417e-03,\n",
       "          3.15274578e-03,  -5.02130995e-03]], dtype=float32)"
      ]
     },
     "execution_count": 23,
     "metadata": {},
     "output_type": "execute_result"
    }
   ],
   "source": [
    "n_c_0"
   ]
  },
  {
   "cell_type": "code",
   "execution_count": 19,
   "metadata": {},
   "outputs": [],
   "source": [
    "bids = sess.run(out_bid_logit, feed_dict={seq_in: X_val[0:1, 0:1], keep_prob: 1.0})"
   ]
  },
  {
   "cell_type": "code",
   "execution_count": 22,
   "metadata": {},
   "outputs": [
    {
     "data": {
      "text/plain": [
       "array([[-25.80791664,  -9.33546734,  -2.7819128 ,  -6.53328896,\n",
       "        -25.92403221,  -5.27107382,  -6.20774603,  10.26448536,\n",
       "         -3.29983425,  -7.1399045 ,  -6.18421268,  -8.07068157,\n",
       "         -4.1593771 , -11.01375294,  -7.52219439,  -7.62676764,\n",
       "         -9.0797081 ,  -9.77803993, -12.84655952, -12.37415791,\n",
       "        -14.97718143, -20.7016716 , -11.13573456, -20.58936119,\n",
       "        -24.46537971, -18.08568954, -23.33672142, -39.07943344,\n",
       "        -64.59513092, -14.25973701, -35.92338181, -45.35156631,\n",
       "        -41.93603134, -54.34156418, -12.36878586, -44.40045547,\n",
       "        -45.70103073, -28.52837563, -36.65755081, -33.71347809]], dtype=float32)"
      ]
     },
     "execution_count": 22,
     "metadata": {},
     "output_type": "execute_result"
    }
   ],
   "source": [
    "bids"
   ]
  },
  {
   "cell_type": "code",
   "execution_count": 23,
   "metadata": {},
   "outputs": [
    {
     "data": {
      "text/plain": [
       "array([[  2.15750859e-16,   3.07501180e-09,   2.15784053e-06,\n",
       "          5.06777091e-08,   1.92098589e-16,   1.79056741e-07,\n",
       "          7.01776912e-08,   9.99995589e-01,   1.28554984e-06,\n",
       "          2.76291416e-08,   7.18487598e-08,   1.08927178e-08,\n",
       "          5.44244699e-07,   5.74085501e-10,   1.88512868e-08,\n",
       "          1.69795378e-08,   3.97120248e-09,   1.97532946e-09,\n",
       "          9.18329232e-11,   1.47285587e-10,   1.09064016e-11,\n",
       "          3.56096276e-14,   5.08160736e-10,   3.98421124e-14,\n",
       "          8.26054906e-16,   4.87162611e-13,   2.55375351e-15,\n",
       "          3.71712218e-22,   3.08232619e-33,   2.23492631e-11,\n",
       "          8.72695337e-21,   7.01865916e-25,   2.13600435e-23,\n",
       "          8.74878353e-29,   1.48079077e-10,   1.81683857e-24,\n",
       "          4.94861518e-25,   1.42060131e-17,   4.18810066e-21,\n",
       "          7.95447767e-20]], dtype=float32)"
      ]
     },
     "execution_count": 23,
     "metadata": {},
     "output_type": "execute_result"
    }
   ],
   "source": [
    "sess.run(tf.nn.softmax(bids))"
   ]
  },
  {
   "cell_type": "code",
   "execution_count": null,
   "metadata": {},
   "outputs": [],
   "source": []
  }
 ],
 "metadata": {
  "kernelspec": {
   "display_name": "Python 3",
   "language": "python",
   "name": "python3"
  },
  "language_info": {
   "codemirror_mode": {
    "name": "ipython",
    "version": 3
   },
   "file_extension": ".py",
   "mimetype": "text/x-python",
   "name": "python",
   "nbconvert_exporter": "python",
   "pygments_lexer": "ipython3",
   "version": "3.5.4"
  }
 },
 "nbformat": 4,
 "nbformat_minor": 2
}
