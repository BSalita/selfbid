{
 "cells": [
  {
   "cell_type": "code",
   "execution_count": 41,
   "metadata": {},
   "outputs": [],
   "source": [
    "import bidding\n",
    "\n",
    "import jack_to_deal_auction as jack_format\n",
    "\n",
    "from lstm_bidder import Bidder"
   ]
  },
  {
   "cell_type": "raw",
   "metadata": {},
   "source": [
    "W:KJ43.T865.K3.K98 Q8.A974.62.AJ762 T75.J3.Q985.QT43 A962.KQ2.AJT74.5 #:0001 C:BW5C T:1 D:N V:- A:1C\n",
    "W:KJ43.T865.K3.K98 Q8.A974.62.AJ762 T75.J3.Q985.QT43 A962.KQ2.AJT74.5 #:0001 C:BW5C T:2 D:N V:- A:\n",
    "W:AJ9.AKJ.KQ9.AK98 2.87654.JT842.T3 8643.3.753.QJ764 KQT75.QT92.A6.52 #:0002 C:BW5C T:1 D:E V:NS A:\n",
    "W:AJ9.AKJ.KQ9.AK98 2.87654.JT842.T3 8643.3.753.QJ764 KQT75.QT92.A6.52 #:0002 C:BW5C T:2 D:E V:NS A:PP"
   ]
  },
  {
   "cell_type": "code",
   "execution_count": 5,
   "metadata": {},
   "outputs": [
    {
     "data": {
      "text/plain": [
       "'SQ8 HA974 D62 CAJ762  ST75 HJ3 DQ985 CQT43  SA962 HKQ2 DAJT74 C5  SKJ43 HT865 DK3 CK98'"
      ]
     },
     "execution_count": 5,
     "metadata": {},
     "output_type": "execute_result"
    }
   ],
   "source": [
    "jack_format.convert_deal_str('W:KJ43.T865.K3.K98 Q8.A974.62.AJ762 T75.J3.Q985.QT43 A962.KQ2.AJT74.5')"
   ]
  },
  {
   "cell_type": "code",
   "execution_count": 18,
   "metadata": {},
   "outputs": [
    {
     "data": {
      "text/plain": [
       "'P'"
      ]
     },
     "execution_count": 18,
     "metadata": {},
     "output_type": "execute_result"
    }
   ],
   "source": [
    "jack_format.convert_auction_str('PP')"
   ]
  },
  {
   "cell_type": "code",
   "execution_count": 8,
   "metadata": {},
   "outputs": [
    {
     "data": {
      "text/plain": [
       "('N', 'None')"
      ]
     },
     "execution_count": 8,
     "metadata": {},
     "output_type": "execute_result"
    }
   ],
   "source": [
    "jack_format.parse_dealer_vuln('N -')"
   ]
  },
  {
   "cell_type": "code",
   "execution_count": 77,
   "metadata": {},
   "outputs": [],
   "source": [
    "def to_auction_list(auction_str):\n",
    "    i = 0\n",
    "    result = []\n",
    "    while i < len(auction_str):\n",
    "        result.append(auction_str[i:i+2])\n",
    "        i += 2\n",
    "    return result\n",
    "        "
   ]
  },
  {
   "cell_type": "code",
   "execution_count": 78,
   "metadata": {},
   "outputs": [
    {
     "data": {
      "text/plain": [
       "[]"
      ]
     },
     "execution_count": 78,
     "metadata": {},
     "output_type": "execute_result"
    }
   ],
   "source": [
    "to_auction_list('')"
   ]
  },
  {
   "cell_type": "code",
   "execution_count": 81,
   "metadata": {},
   "outputs": [],
   "source": [
    "def parse_line(line):\n",
    "    hand_metadata = line.strip().split('#:')\n",
    "    deal_str = jack_format.convert_deal_str(hand_metadata[0])\n",
    "    metadata_parts = hand_metadata[1].split()\n",
    "    table = int(metadata_parts[2][2:])\n",
    "    dealer = metadata_parts[3][2:]\n",
    "    vuln = metadata_parts[4][2:]\n",
    "    jack_auction_str = ' '.join(to_auction_list(metadata_parts[5][2:]))\n",
    "    auction_str = '%s %s %s' % (dealer, jack_format.jack_vuln_lookup[vuln], jack_format.convert_auction_str(jack_auction_str))\n",
    "    \n",
    "    return DealData.from_deal_auction_string(deal_str, auction_str)"
   ]
  },
  {
   "cell_type": "code",
   "execution_count": 82,
   "metadata": {},
   "outputs": [
    {
     "name": "stdout",
     "output_type": "stream",
     "text": [
      "1C\n"
     ]
    }
   ],
   "source": [
    "dd = parse_line('W:KJ43.T865.K3.K98 Q8.A974.62.AJ762 T75.J3.Q985.QT43 A962.KQ2.AJT74.5 #:0001 C:BW5C T:1 D:N V:- A:1C')"
   ]
  },
  {
   "cell_type": "code",
   "execution_count": 83,
   "metadata": {},
   "outputs": [
    {
     "data": {
      "text/plain": [
       "['1C']"
      ]
     },
     "execution_count": 83,
     "metadata": {},
     "output_type": "execute_result"
    }
   ],
   "source": [
    "dd.auction"
   ]
  },
  {
   "cell_type": "code",
   "execution_count": 48,
   "metadata": {},
   "outputs": [
    {
     "data": {
      "text/plain": [
       "1"
      ]
     },
     "execution_count": 48,
     "metadata": {},
     "output_type": "execute_result"
    }
   ],
   "source": [
    "len(dd.auction) % 4"
   ]
  },
  {
   "cell_type": "code",
   "execution_count": 44,
   "metadata": {},
   "outputs": [
    {
     "name": "stdout",
     "output_type": "stream",
     "text": [
      "INFO:tensorflow:Restoring parameters from ./bw5c_model/bw5c-500000\n"
     ]
    }
   ],
   "source": [
    "bidder = Bidder('bw5c', './bw5c_model/bw5c-500000')"
   ]
  },
  {
   "cell_type": "code",
   "execution_count": 45,
   "metadata": {},
   "outputs": [
    {
     "data": {
      "text/plain": [
       "(1, True, False)"
      ]
     },
     "execution_count": 45,
     "metadata": {},
     "output_type": "execute_result"
    }
   ],
   "source": [
    "dd.dealer, dd.vuln_ns, dd.vuln_ew"
   ]
  },
  {
   "cell_type": "code",
   "execution_count": 63,
   "metadata": {},
   "outputs": [
    {
     "data": {
      "text/plain": [
       "'PAD_END'"
      ]
     },
     "execution_count": 63,
     "metadata": {},
     "output_type": "execute_result"
    }
   ],
   "source": [
    "bidder.next_bid(dd, ['1C', 'PASS', '1D', 'PASS', '1H', 'PASS', '1S', 'PASS', '1N', 'PASS', '3N', 'PASS', 'PASS', 'PASS'])"
   ]
  },
  {
   "cell_type": "code",
   "execution_count": 64,
   "metadata": {},
   "outputs": [],
   "source": [
    "def bid_to_jack_format(bid_str):\n",
    "    lookup = {\n",
    "        'PASS': 'PP',\n",
    "        'X': 'DD',\n",
    "        'XX': 'RR'\n",
    "    }\n",
    "    if bid_str in lookup:\n",
    "        return lookup[bid_str]\n",
    "    else:\n",
    "        return bid_str"
   ]
  },
  {
   "cell_type": "code",
   "execution_count": null,
   "metadata": {},
   "outputs": [],
   "source": []
  }
 ],
 "metadata": {
  "kernelspec": {
   "display_name": "Python 3",
   "language": "python",
   "name": "python3"
  },
  "language_info": {
   "codemirror_mode": {
    "name": "ipython",
    "version": 3
   },
   "file_extension": ".py",
   "mimetype": "text/x-python",
   "name": "python",
   "nbconvert_exporter": "python",
   "pygments_lexer": "ipython3",
   "version": "3.5.4"
  }
 },
 "nbformat": 4,
 "nbformat_minor": 2
}
