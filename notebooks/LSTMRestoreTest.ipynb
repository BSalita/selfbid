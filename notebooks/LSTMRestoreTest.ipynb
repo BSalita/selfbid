{
 "cells": [
  {
   "cell_type": "code",
   "execution_count": 1,
   "metadata": {},
   "outputs": [],
   "source": [
    "import numpy as np\n",
    "import tensorflow as tf"
   ]
  },
  {
   "cell_type": "code",
   "execution_count": 2,
   "metadata": {},
   "outputs": [],
   "source": [
    "X_val = np.load('./X_val.npy')\n",
    "y_val = np.load('./y_val.npy')"
   ]
  },
  {
   "cell_type": "code",
   "execution_count": 3,
   "metadata": {},
   "outputs": [],
   "source": [
    "sess = tf.InteractiveSession()"
   ]
  },
  {
   "cell_type": "code",
   "execution_count": 5,
   "metadata": {},
   "outputs": [],
   "source": [
    "saver = tf.train.import_meta_graph('./model/test-5000.meta')"
   ]
  },
  {
   "cell_type": "code",
   "execution_count": 6,
   "metadata": {},
   "outputs": [
    {
     "name": "stdout",
     "output_type": "stream",
     "text": [
      "INFO:tensorflow:Restoring parameters from ./model/test-5000\n"
     ]
    }
   ],
   "source": [
    "saver.restore(sess, './model/test-5000')"
   ]
  },
  {
   "cell_type": "code",
   "execution_count": 7,
   "metadata": {},
   "outputs": [],
   "source": [
    "graph = tf.get_default_graph()"
   ]
  },
  {
   "cell_type": "code",
   "execution_count": 8,
   "metadata": {},
   "outputs": [],
   "source": [
    "seq_in = graph.get_tensor_by_name('seq_in:0')\n",
    "keep_prob = graph.get_tensor_by_name('keep_prob:0')"
   ]
  },
  {
   "cell_type": "code",
   "execution_count": 9,
   "metadata": {},
   "outputs": [],
   "source": [
    "out_bid_logit = graph.get_tensor_by_name('out_bid_logit:0')"
   ]
  },
  {
   "cell_type": "code",
   "execution_count": 10,
   "metadata": {},
   "outputs": [],
   "source": [
    "bids = sess.run(out_bid_logit, feed_dict={seq_in: X_val[0:1, 0:1], keep_prob: 1.0})"
   ]
  },
  {
   "cell_type": "code",
   "execution_count": 11,
   "metadata": {},
   "outputs": [
    {
     "data": {
      "text/plain": [
       "array([[-5.71174574, -5.96070719,  3.57835603,  2.70815039, -6.13211155,\n",
       "         4.09201574,  4.59271955,  8.7532568 ,  3.45304942,  5.54227924,\n",
       "         2.17957973,  1.92628384,  3.44721317, -0.20851195,  2.10018253,\n",
       "         0.0622661 , -0.02046587,  1.39232874, -1.67477405, -1.71249557,\n",
       "        -1.78714514, -1.2216897 , -0.82153195, -3.79668474, -2.91124201,\n",
       "        -3.25834298, -2.75097561, -2.73398256, -4.24906158, -3.65045953,\n",
       "        -5.28550959, -5.31285954, -3.68923306, -5.10542583, -3.33487868,\n",
       "        -6.04258204, -6.26625443, -6.35046291, -5.86499834, -5.42187119]], dtype=float32)"
      ]
     },
     "execution_count": 11,
     "metadata": {},
     "output_type": "execute_result"
    }
   ],
   "source": [
    "bids"
   ]
  },
  {
   "cell_type": "code",
   "execution_count": 12,
   "metadata": {},
   "outputs": [
    {
     "data": {
      "text/plain": [
       "array([[  4.79859182e-07,   3.74102683e-07,   5.19700861e-03,\n",
       "          2.17684777e-03,   3.15174503e-07,   8.68626591e-03,\n",
       "          1.43313147e-02,   9.18722570e-01,   4.58494015e-03,\n",
       "          3.70403044e-02,   1.28313596e-03,   9.96019226e-04,\n",
       "          4.55825822e-03,   1.17797892e-04,   1.18519820e-03,\n",
       "          1.54431254e-04,   1.42169039e-04,   5.83947694e-04,\n",
       "          2.71861736e-05,   2.61797668e-05,   2.42966380e-05,\n",
       "          4.27680970e-05,   6.38125857e-05,   3.25697033e-06,\n",
       "          7.89508340e-06,   5.57972771e-06,   9.26743905e-06,\n",
       "          9.42626230e-06,   2.07180688e-06,   3.76980552e-06,\n",
       "          7.34895195e-07,   7.15068552e-07,   3.62643414e-06,\n",
       "          8.79903382e-07,   5.16861019e-06,   3.44693433e-07,\n",
       "          2.75609096e-07,   2.53350777e-07,   4.11677007e-07,\n",
       "          6.41216218e-07]], dtype=float32)"
      ]
     },
     "execution_count": 12,
     "metadata": {},
     "output_type": "execute_result"
    }
   ],
   "source": [
    "sess.run(tf.nn.softmax(bids))"
   ]
  },
  {
   "cell_type": "code",
   "execution_count": null,
   "metadata": {},
   "outputs": [],
   "source": []
  }
 ],
 "metadata": {
  "kernelspec": {
   "display_name": "Python 3",
   "language": "python",
   "name": "python3"
  },
  "language_info": {
   "codemirror_mode": {
    "name": "ipython",
    "version": 3
   },
   "file_extension": ".py",
   "mimetype": "text/x-python",
   "name": "python",
   "nbconvert_exporter": "python",
   "pygments_lexer": "ipython3",
   "version": "3.5.4"
  }
 },
 "nbformat": 4,
 "nbformat_minor": 2
}
